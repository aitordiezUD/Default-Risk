{
 "cells": [
  {
   "metadata": {},
   "cell_type": "markdown",
   "source": "# Clustering Models",
   "id": "b3496eaa1e1b5147"
  },
  {
   "metadata": {},
   "cell_type": "markdown",
   "source": "First of all, we are going to import the necessary libraries.",
   "id": "5f7ed3c07ea99ceb"
  },
  {
   "metadata": {
    "ExecuteTime": {
     "end_time": "2024-12-06T12:19:06.171232Z",
     "start_time": "2024-12-06T12:19:06.168267Z"
    }
   },
   "cell_type": "code",
   "source": [
    "import pandas as pd\n",
    "from cuml import NearestNeighbors\n",
    "import numpy as np"
   ],
   "id": "12b0315dd418cf7b",
   "outputs": [],
   "execution_count": 3
  },
  {
   "metadata": {},
   "cell_type": "markdown",
   "source": "First of all, we are going to create a class to compute all the metrics. This class will be used to evaluate the performance of the models using the K Fold method.\n",
   "id": "b800e451d0a3f186"
  },
  {
   "cell_type": "code",
   "execution_count": null,
   "id": "initial_id",
   "metadata": {
    "collapsed": true
   },
   "outputs": [],
   "source": "class ClusteringMetrics:\n"
  },
  {
   "metadata": {},
   "cell_type": "markdown",
   "source": "Loading the data",
   "id": "de7502fa94451e22"
  },
  {
   "metadata": {
    "ExecuteTime": {
     "end_time": "2024-12-06T12:19:09.665979Z",
     "start_time": "2024-12-06T12:19:09.311565Z"
    }
   },
   "cell_type": "code",
   "source": "df = pd.read_parquet('../data/processed/selected_features_df.parquet')",
   "id": "576a7235adaad1f1",
   "outputs": [],
   "execution_count": 4
  },
  {
   "metadata": {},
   "cell_type": "markdown",
   "source": "Let's calculate the Hopkins statistic to check if the data is suitable for clustering.",
   "id": "b5d673e3bcff2abf"
  },
  {
   "metadata": {
    "ExecuteTime": {
     "end_time": "2024-12-06T12:24:07.098252Z",
     "start_time": "2024-12-06T12:24:03.352021Z"
    }
   },
   "cell_type": "code",
   "source": [
    "def hopkins(X):\n",
    "    d = X.shape[1]\n",
    "    n = len(X)\n",
    "    m = int(0.1 * n)\n",
    "    nbrs = NearestNeighbors(n_neighbors=1).fit(X.values)\n",
    "\n",
    "    rand_X = np.random.rand(n, d)\n",
    "    ujd = []\n",
    "    wjd = []\n",
    "\n",
    "    for j in range(m):\n",
    "        u_dist, _ = nbrs.kneighbors(rand_X[j].reshape(1, -1), 2, return_distance=True)\n",
    "        ujd.append(u_dist[0][1])\n",
    "        w_dist, _ = nbrs.kneighbors(X.iloc[j].values.reshape(1, -1), 2, return_distance=True)\n",
    "        wjd.append(w_dist[0][1])\n",
    "\n",
    "    H = sum(ujd) / (sum(ujd) + sum(wjd))\n",
    "    if np.isnan(H):\n",
    "        print(ujd, wjd)\n",
    "        H = 0\n",
    "\n",
    "    return H"
   ],
   "id": "610c16f1920a6551",
   "outputs": [
    {
     "name": "stderr",
     "output_type": "stream",
     "text": [
      "/home/aitor/anaconda3/envs/rapids-24.10/lib/python3.10/site-packages/tqdm/auto.py:21: TqdmWarning: IProgress not found. Please update jupyter and ipywidgets. See https://ipywidgets.readthedocs.io/en/stable/user_install.html\n",
      "  from .autonotebook import tqdm as notebook_tqdm\n"
     ]
    }
   ],
   "execution_count": 13
  },
  {
   "metadata": {},
   "cell_type": "markdown",
   "source": "The Hopkins statistic ranges from 0 to 1. The closer to 1, the more suitable the data is for clustering. Let's calculate the Hopkins statistic for the data.",
   "id": "70f6a58c1dce40d5"
  },
  {
   "metadata": {
    "ExecuteTime": {
     "end_time": "2024-12-06T12:28:57.836930Z",
     "start_time": "2024-12-06T12:24:11.351507Z"
    }
   },
   "cell_type": "code",
   "source": "hopkins(df)",
   "id": "c0f81e8bd8481e75",
   "outputs": [
    {
     "data": {
      "text/plain": [
       "0.9645847043701986"
      ]
     },
     "execution_count": 14,
     "metadata": {},
     "output_type": "execute_result"
    }
   ],
   "execution_count": 14
  },
  {
   "metadata": {},
   "cell_type": "markdown",
   "source": "The Hopkins statistic is close to 1, so the data is suitable for clustering.",
   "id": "83ed865ab2c3563b"
  }
 ],
 "metadata": {
  "kernelspec": {
   "display_name": "Python 3",
   "language": "python",
   "name": "python3"
  },
  "language_info": {
   "codemirror_mode": {
    "name": "ipython",
    "version": 2
   },
   "file_extension": ".py",
   "mimetype": "text/x-python",
   "name": "python",
   "nbconvert_exporter": "python",
   "pygments_lexer": "ipython2",
   "version": "2.7.6"
  }
 },
 "nbformat": 4,
 "nbformat_minor": 5
}
