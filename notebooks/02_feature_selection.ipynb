{
 "cells": [
  {
   "cell_type": "code",
   "id": "initial_id",
   "metadata": {
    "collapsed": true,
    "ExecuteTime": {
     "end_time": "2024-11-14T21:47:20.876687Z",
     "start_time": "2024-11-14T21:47:20.702408Z"
    }
   },
   "source": [
    "import pandas as pd\n",
    "import numpy as np\n",
    "import matplotlib.pyplot as plt\n",
    "from sklearn.metrics import f1_score\n",
    "from sklearn.model_selection import train_test_split\n",
    "from xgboost import XGBClassifier\n",
    "from sklearn.feature_selection import RFE\n",
    "from sklearn.decomposition import PCA\n",
    "from sklearn.preprocessing import StandardScaler"
   ],
   "outputs": [],
   "execution_count": 7
  },
  {
   "metadata": {
    "ExecuteTime": {
     "end_time": "2024-11-14T21:53:43.168745Z",
     "start_time": "2024-11-14T21:53:42.988406Z"
    }
   },
   "cell_type": "code",
   "outputs": [
    {
     "data": {
      "text/plain": [
       "   FLAG_OWN_CAR  FLAG_OWN_REALTY  CNT_CHILDREN  AMT_INCOME_TOTAL  AMT_CREDIT  \\\n",
       "0           0.0              1.0           0.0          202500.0    406597.5   \n",
       "1           0.0              0.0           0.0          270000.0   1293502.5   \n",
       "2           1.0              1.0           0.0           67500.0    135000.0   \n",
       "3           0.0              1.0           0.0          135000.0    312682.5   \n",
       "4           0.0              1.0           0.0          121500.0    513000.0   \n",
       "\n",
       "   AMT_ANNUITY  AMT_GOODS_PRICE  NAME_TYPE_SUITE  NAME_INCOME_TYPE  \\\n",
       "0      24700.5         351000.0             18.0              20.0   \n",
       "1      35698.5        1129500.0              6.0              10.0   \n",
       "2       6750.0         135000.0             16.0              17.0   \n",
       "3      29686.5         297000.0             20.0              16.0   \n",
       "4      21865.5         513000.0             16.0              17.0   \n",
       "\n",
       "   NAME_EDUCATION_TYPE  ...  OCCUPATION_TYPE_Low-skill Laborers  \\\n",
       "0                  1.0  ...                                 0.0   \n",
       "1                  3.0  ...                                 0.0   \n",
       "2                  1.0  ...                                 0.0   \n",
       "3                  1.0  ...                                 0.0   \n",
       "4                  1.0  ...                                 0.0   \n",
       "\n",
       "   OCCUPATION_TYPE_Managers  OCCUPATION_TYPE_Medicine staff  \\\n",
       "0                       0.0                             0.0   \n",
       "1                       0.0                             0.0   \n",
       "2                       0.0                             0.0   \n",
       "3                       0.0                             0.0   \n",
       "4                       0.0                             0.0   \n",
       "\n",
       "   OCCUPATION_TYPE_Private service staff  OCCUPATION_TYPE_Realty agents  \\\n",
       "0                                    0.0                            0.0   \n",
       "1                                    0.0                            0.0   \n",
       "2                                    0.0                            0.0   \n",
       "3                                    0.0                            0.0   \n",
       "4                                    0.0                            0.0   \n",
       "\n",
       "   OCCUPATION_TYPE_Sales staff  OCCUPATION_TYPE_Secretaries  \\\n",
       "0                          0.0                          0.0   \n",
       "1                          0.0                          0.0   \n",
       "2                          0.0                          0.0   \n",
       "3                          0.0                          0.0   \n",
       "4                          0.0                          0.0   \n",
       "\n",
       "   OCCUPATION_TYPE_Security staff  OCCUPATION_TYPE_Waiters/barmen staff  \\\n",
       "0                             0.0                                   0.0   \n",
       "1                             0.0                                   0.0   \n",
       "2                             0.0                                   0.0   \n",
       "3                             0.0                                   0.0   \n",
       "4                             0.0                                   0.0   \n",
       "\n",
       "   target  \n",
       "0     1.0  \n",
       "1     0.0  \n",
       "2     0.0  \n",
       "3     0.0  \n",
       "4     0.0  \n",
       "\n",
       "[5 rows x 88 columns]"
      ],
      "text/html": [
       "<div>\n",
       "<style scoped>\n",
       "    .dataframe tbody tr th:only-of-type {\n",
       "        vertical-align: middle;\n",
       "    }\n",
       "\n",
       "    .dataframe tbody tr th {\n",
       "        vertical-align: top;\n",
       "    }\n",
       "\n",
       "    .dataframe thead th {\n",
       "        text-align: right;\n",
       "    }\n",
       "</style>\n",
       "<table border=\"1\" class=\"dataframe\">\n",
       "  <thead>\n",
       "    <tr style=\"text-align: right;\">\n",
       "      <th></th>\n",
       "      <th>FLAG_OWN_CAR</th>\n",
       "      <th>FLAG_OWN_REALTY</th>\n",
       "      <th>CNT_CHILDREN</th>\n",
       "      <th>AMT_INCOME_TOTAL</th>\n",
       "      <th>AMT_CREDIT</th>\n",
       "      <th>AMT_ANNUITY</th>\n",
       "      <th>AMT_GOODS_PRICE</th>\n",
       "      <th>NAME_TYPE_SUITE</th>\n",
       "      <th>NAME_INCOME_TYPE</th>\n",
       "      <th>NAME_EDUCATION_TYPE</th>\n",
       "      <th>...</th>\n",
       "      <th>OCCUPATION_TYPE_Low-skill Laborers</th>\n",
       "      <th>OCCUPATION_TYPE_Managers</th>\n",
       "      <th>OCCUPATION_TYPE_Medicine staff</th>\n",
       "      <th>OCCUPATION_TYPE_Private service staff</th>\n",
       "      <th>OCCUPATION_TYPE_Realty agents</th>\n",
       "      <th>OCCUPATION_TYPE_Sales staff</th>\n",
       "      <th>OCCUPATION_TYPE_Secretaries</th>\n",
       "      <th>OCCUPATION_TYPE_Security staff</th>\n",
       "      <th>OCCUPATION_TYPE_Waiters/barmen staff</th>\n",
       "      <th>target</th>\n",
       "    </tr>\n",
       "  </thead>\n",
       "  <tbody>\n",
       "    <tr>\n",
       "      <th>0</th>\n",
       "      <td>0.0</td>\n",
       "      <td>1.0</td>\n",
       "      <td>0.0</td>\n",
       "      <td>202500.0</td>\n",
       "      <td>406597.5</td>\n",
       "      <td>24700.5</td>\n",
       "      <td>351000.0</td>\n",
       "      <td>18.0</td>\n",
       "      <td>20.0</td>\n",
       "      <td>1.0</td>\n",
       "      <td>...</td>\n",
       "      <td>0.0</td>\n",
       "      <td>0.0</td>\n",
       "      <td>0.0</td>\n",
       "      <td>0.0</td>\n",
       "      <td>0.0</td>\n",
       "      <td>0.0</td>\n",
       "      <td>0.0</td>\n",
       "      <td>0.0</td>\n",
       "      <td>0.0</td>\n",
       "      <td>1.0</td>\n",
       "    </tr>\n",
       "    <tr>\n",
       "      <th>1</th>\n",
       "      <td>0.0</td>\n",
       "      <td>0.0</td>\n",
       "      <td>0.0</td>\n",
       "      <td>270000.0</td>\n",
       "      <td>1293502.5</td>\n",
       "      <td>35698.5</td>\n",
       "      <td>1129500.0</td>\n",
       "      <td>6.0</td>\n",
       "      <td>10.0</td>\n",
       "      <td>3.0</td>\n",
       "      <td>...</td>\n",
       "      <td>0.0</td>\n",
       "      <td>0.0</td>\n",
       "      <td>0.0</td>\n",
       "      <td>0.0</td>\n",
       "      <td>0.0</td>\n",
       "      <td>0.0</td>\n",
       "      <td>0.0</td>\n",
       "      <td>0.0</td>\n",
       "      <td>0.0</td>\n",
       "      <td>0.0</td>\n",
       "    </tr>\n",
       "    <tr>\n",
       "      <th>2</th>\n",
       "      <td>1.0</td>\n",
       "      <td>1.0</td>\n",
       "      <td>0.0</td>\n",
       "      <td>67500.0</td>\n",
       "      <td>135000.0</td>\n",
       "      <td>6750.0</td>\n",
       "      <td>135000.0</td>\n",
       "      <td>16.0</td>\n",
       "      <td>17.0</td>\n",
       "      <td>1.0</td>\n",
       "      <td>...</td>\n",
       "      <td>0.0</td>\n",
       "      <td>0.0</td>\n",
       "      <td>0.0</td>\n",
       "      <td>0.0</td>\n",
       "      <td>0.0</td>\n",
       "      <td>0.0</td>\n",
       "      <td>0.0</td>\n",
       "      <td>0.0</td>\n",
       "      <td>0.0</td>\n",
       "      <td>0.0</td>\n",
       "    </tr>\n",
       "    <tr>\n",
       "      <th>3</th>\n",
       "      <td>0.0</td>\n",
       "      <td>1.0</td>\n",
       "      <td>0.0</td>\n",
       "      <td>135000.0</td>\n",
       "      <td>312682.5</td>\n",
       "      <td>29686.5</td>\n",
       "      <td>297000.0</td>\n",
       "      <td>20.0</td>\n",
       "      <td>16.0</td>\n",
       "      <td>1.0</td>\n",
       "      <td>...</td>\n",
       "      <td>0.0</td>\n",
       "      <td>0.0</td>\n",
       "      <td>0.0</td>\n",
       "      <td>0.0</td>\n",
       "      <td>0.0</td>\n",
       "      <td>0.0</td>\n",
       "      <td>0.0</td>\n",
       "      <td>0.0</td>\n",
       "      <td>0.0</td>\n",
       "      <td>0.0</td>\n",
       "    </tr>\n",
       "    <tr>\n",
       "      <th>4</th>\n",
       "      <td>0.0</td>\n",
       "      <td>1.0</td>\n",
       "      <td>0.0</td>\n",
       "      <td>121500.0</td>\n",
       "      <td>513000.0</td>\n",
       "      <td>21865.5</td>\n",
       "      <td>513000.0</td>\n",
       "      <td>16.0</td>\n",
       "      <td>17.0</td>\n",
       "      <td>1.0</td>\n",
       "      <td>...</td>\n",
       "      <td>0.0</td>\n",
       "      <td>0.0</td>\n",
       "      <td>0.0</td>\n",
       "      <td>0.0</td>\n",
       "      <td>0.0</td>\n",
       "      <td>0.0</td>\n",
       "      <td>0.0</td>\n",
       "      <td>0.0</td>\n",
       "      <td>0.0</td>\n",
       "      <td>0.0</td>\n",
       "    </tr>\n",
       "  </tbody>\n",
       "</table>\n",
       "<p>5 rows × 88 columns</p>\n",
       "</div>"
      ]
     },
     "execution_count": 13,
     "metadata": {},
     "output_type": "execute_result"
    }
   ],
   "execution_count": 13,
   "source": [
    "# Load the data\n",
    "df = pd.read_parquet('../data/processed/num_imputed_df.parquet')\n",
    "df = df.dropna(subset=['target'])\n",
    "df.head()"
   ],
   "id": "95ac9a1427fd585a"
  },
  {
   "metadata": {},
   "cell_type": "markdown",
   "source": "# PCA",
   "id": "5621bd38dd308238"
  },
  {
   "metadata": {},
   "cell_type": "markdown",
   "source": "Creation of the training and test sets",
   "id": "7643b0948afa7b62"
  },
  {
   "metadata": {},
   "cell_type": "code",
   "outputs": [],
   "execution_count": null,
   "source": "x_train, x_test = train_test_split(df, test_size=0.2, random_state=42)",
   "id": "2f0912f825094130"
  },
  {
   "metadata": {},
   "cell_type": "markdown",
   "source": "Standarization",
   "id": "c86c8fdcec9f1ca0"
  },
  {
   "metadata": {},
   "cell_type": "code",
   "outputs": [],
   "execution_count": null,
   "source": [
    "scaler = StandardScaler()\n",
    "scaler.fit(x_train)\n",
    "x_train_scaled = scaler.transform(x_train)\n",
    "x_test_scaled = scaler.transform(x_test)"
   ],
   "id": "56913fff010cfe36"
  },
  {
   "metadata": {},
   "cell_type": "markdown",
   "source": "PCA",
   "id": "31244bdf7cc9ead8"
  },
  {
   "metadata": {},
   "cell_type": "code",
   "outputs": [],
   "execution_count": null,
   "source": [
    "pca = PCA(0.95)\n",
    "pca.fit(x_train_scaled)\n",
    "pca.n_components_"
   ],
   "id": "d814e46cadb19b51"
  },
  {
   "metadata": {},
   "cell_type": "code",
   "outputs": [],
   "execution_count": null,
   "source": [
    "# Explained variance\n",
    "explained_variance = pca.explained_variance_ratio_\n",
    "cumulative_variance = np.cumsum(explained_variance)\n",
    "\n",
    "# Plotting\n",
    "plt.figure(figsize=(10, 6))\n",
    "plt.plot(cumulative_variance, marker='o', linestyle='--')\n",
    "plt.title('Cumulative Explained Variance by PCA Components')\n",
    "plt.xlabel('Number of Components')\n",
    "plt.ylabel('Cumulative Explained Variance')\n",
    "plt.grid(True)\n",
    "plt.show()"
   ],
   "id": "da5fc5b3355ca9ee"
  },
  {
   "metadata": {},
   "cell_type": "code",
   "outputs": [],
   "execution_count": null,
   "source": [
    "x_train_pca = pca.transform(x_train_scaled)\n",
    "x_test_pca = pca.transform(x_test_scaled)\n",
    "\n",
    "# Create df for PCA components\n",
    "pca_columns = [f'PC{i+1}' for i in range(pca.n_components_)]\n",
    "x_train_pca_df = pd.DataFrame(x_train_pca, columns=pca_columns)\n",
    "x_test_pca_df = pd.DataFrame(x_test_pca, columns=pca_columns)\n",
    "\n",
    "print(x_train_pca_df.head())\n",
    "print(x_test_pca_df.head())"
   ],
   "id": "cb8f299a44214061"
  },
  {
   "metadata": {},
   "cell_type": "markdown",
   "source": "# Feature selection",
   "id": "cdec9c66486f8d19"
  },
  {
   "metadata": {
    "ExecuteTime": {
     "end_time": "2024-11-14T21:53:45.959403Z",
     "start_time": "2024-11-14T21:53:45.743508Z"
    }
   },
   "cell_type": "code",
   "source": [
    "# Split the data\n",
    "\n",
    "X = df.drop('target', axis=1)\n",
    "y = df['target']\n",
    "\n",
    "X_train, X_test, y_train, y_test = train_test_split(X, y, test_size=0.2, random_state=42)\n"
   ],
   "id": "c65c713828db6eb3",
   "outputs": [],
   "execution_count": 14
  },
  {
   "metadata": {
    "ExecuteTime": {
     "end_time": "2024-11-14T21:53:47.945910Z",
     "start_time": "2024-11-14T21:53:47.939998Z"
    }
   },
   "cell_type": "code",
   "source": "df['target'].isnull().sum()",
   "id": "e7a1c83f93bcd97d",
   "outputs": [
    {
     "data": {
      "text/plain": [
       "np.int64(0)"
      ]
     },
     "execution_count": 15,
     "metadata": {},
     "output_type": "execute_result"
    }
   ],
   "execution_count": 15
  },
  {
   "metadata": {
    "ExecuteTime": {
     "end_time": "2024-11-14T21:55:50.013164Z",
     "start_time": "2024-11-14T21:55:04.936825Z"
    }
   },
   "cell_type": "code",
   "source": [
    "# Feature selection\n",
    "xgb = XGBClassifier(tree_method='hist', device = \"cuda\",random_state = 42)  # Configurado para usar GPU\n",
    "\n",
    "RFE_selector = RFE(xgb, n_features_to_select=10, step=1)\n",
    "RFE_selector.fit(X_train, y_train)\n",
    "\n",
    "selected_features_mask = RFE_selector.get_support()\n",
    "\n",
    "selected_features = X_train.columns[selected_features_mask]\n",
    "selected_features"
   ],
   "id": "8c9cfcc8c3129ce9",
   "outputs": [
    {
     "data": {
      "text/plain": [
       "Index(['NAME_EDUCATION_TYPE', 'DAYS_BIRTH', 'DAYS_EMPLOYED',\n",
       "       'DAYS_REGISTRATION', 'DAYS_ID_PUBLISH', 'ORGANIZATION_TYPE',\n",
       "       'EXT_SOURCE_2', 'EXT_SOURCE_3', 'DAYS_LAST_PHONE_CHANGE',\n",
       "       'OCCUPATION_TYPE_Private service staff'],\n",
       "      dtype='object')"
      ]
     },
     "execution_count": 17,
     "metadata": {},
     "output_type": "execute_result"
    }
   ],
   "execution_count": 17
  },
  {
   "metadata": {
    "ExecuteTime": {
     "end_time": "2024-11-14T22:25:28.802032Z",
     "start_time": "2024-11-14T22:21:52.222659Z"
    }
   },
   "cell_type": "code",
   "source": [
    "rfe_score_list = []\n",
    "\n",
    "iterations = 0\n",
    "\n",
    "for k in range(10,70,10):\n",
    "    xgb = XGBClassifier(tree_method='hist', device = \"cuda\",random_state = 42)  # Configurado para usar GPU\n",
    "\n",
    "    RFE_selector = RFE(xgb, n_features_to_select=k, step=1)\n",
    "    RFE_selector.fit(X_train, y_train)\n",
    "    \n",
    "    sel_x_train = RFE_selector.transform(X_train)\n",
    "    sel_x_test = RFE_selector.transform(X_test)\n",
    "    \n",
    "    xgb.fit(sel_x_train, y_train)\n",
    "    RFE_preds = xgb.predict(sel_x_test)\n",
    "    \n",
    "    score = round(f1_score(y_test, RFE_preds,average=\"weighted\"), 4)\n",
    "    rfe_score_list.append(score)\n",
    "    iterations += 1\n",
    "    print(f'Iteration {iterations} with {k} features: {score}')"
   ],
   "id": "8afbe7a9d5da09cb",
   "outputs": [
    {
     "name": "stderr",
     "output_type": "stream",
     "text": [
      "/home/aitor/anaconda3/envs/rapids-24.10/lib/python3.10/site-packages/xgboost/core.py:158: UserWarning: [23:22:44] WARNING: /home/conda/feedstock_root/build_artifacts/xgboost-split_1727241199541/work/src/common/error_msg.cc:58: Falling back to prediction using DMatrix due to mismatched devices. This might lead to higher memory usage and slower performance. XGBoost is running on: cuda:0, while the input data is on: cpu.\n",
      "Potential solutions:\n",
      "- Use a data structure that matches the device ordinal in the booster.\n",
      "- Set the device for booster before call to inplace_predict.\n",
      "\n",
      "This warning will only be shown once.\n",
      "\n",
      "  warnings.warn(smsg, UserWarning)\n"
     ]
    },
    {
     "name": "stdout",
     "output_type": "stream",
     "text": [
      "Iteration 1 with 10 features: 0.8785\n",
      "Iteration 2 with 20 features: 0.8785\n",
      "Iteration 3 with 30 features: 0.8785\n",
      "Iteration 4 with 40 features: 0.8785\n",
      "Iteration 5 with 50 features: 0.8785\n",
      "Iteration 6 with 60 features: 0.8785\n"
     ]
    }
   ],
   "execution_count": 39
  }
 ],
 "metadata": {
  "kernelspec": {
   "display_name": "Python 3",
   "language": "python",
   "name": "python3"
  },
  "language_info": {
   "codemirror_mode": {
    "name": "ipython",
    "version": 2
   },
   "file_extension": ".py",
   "mimetype": "text/x-python",
   "name": "python",
   "nbconvert_exporter": "python",
   "pygments_lexer": "ipython2",
   "version": "2.7.6"
  }
 },
 "nbformat": 4,
 "nbformat_minor": 5
}
