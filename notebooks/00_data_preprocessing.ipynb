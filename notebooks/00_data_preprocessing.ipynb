{
 "cells": [
  {
   "metadata": {},
   "cell_type": "markdown",
   "source": "# Data Preprocessing",
   "id": "c5a5fe35684aa4ba"
  },
  {
   "metadata": {},
   "cell_type": "markdown",
   "source": "## Importing Libraries",
   "id": "566fc3221c015db2"
  },
  {
   "metadata": {},
   "cell_type": "markdown",
   "source": "We will start by importing the necessary libraries for this notebook.",
   "id": "78f7121ecb0492d7"
  },
  {
   "metadata": {},
   "cell_type": "code",
   "source": [
    "import pandas as pd\n",
    "import numpy as np\n",
    "import category_encoders as ce\n",
    "from scipy.signal import ShortTimeFFT\n",
    "from sklearn.preprocessing import OrdinalEncoder,TargetEncoder,LabelEncoder\n",
    "from src.preprocessing import *"
   ],
   "id": "936848883ce2bfe7",
   "outputs": [],
   "execution_count": null
  },
  {
   "metadata": {},
   "cell_type": "markdown",
   "source": "## Loading Data",
   "id": "11d59e950e141dc1"
  },
  {
   "metadata": {},
   "cell_type": "code",
   "source": [
    "df = cargar_datos('../data/raw/application_train.csv')\n",
    "desc = forma(df)\n",
    "desc"
   ],
   "id": "f0bc6b1c109dbf12",
   "outputs": [],
   "execution_count": null
  },
  {
   "metadata": {},
   "cell_type": "markdown",
   "source": "Let's see the first rows of the dataset.",
   "id": "566b31cff3a47f36"
  },
  {
   "metadata": {},
   "cell_type": "code",
   "source": "df.head()",
   "id": "8b91778a061eaa48",
   "outputs": [],
   "execution_count": null
  },
  {
   "metadata": {},
   "cell_type": "markdown",
   "source": "We are going to store the target conlumn in a separate variable.",
   "id": "fd5909d3a547d3e"
  },
  {
   "metadata": {},
   "cell_type": "code",
   "source": [
    "y = df[\"TARGET\"]\n",
    "df = df.drop(\"TARGET\", axis=1)"
   ],
   "id": "1d21880ca5e740b",
   "outputs": [],
   "execution_count": null
  },
  {
   "metadata": {},
   "cell_type": "markdown",
   "source": "We are going to convert SK_ID_CURR to string and store it in a separate variable.",
   "id": "4dc33bf0a0feef47"
  },
  {
   "metadata": {},
   "cell_type": "code",
   "source": [
    "df[\"SK_ID_CURR\"] = df[\"SK_ID_CURR\"].astype(str)\n",
    "sk_id_curr = df[\"SK_ID_CURR\"]\n",
    "df = df.drop(\"SK_ID_CURR\", axis=1)"
   ],
   "id": "488f82d18c588aa5",
   "outputs": [],
   "execution_count": null
  },
  {
   "metadata": {},
   "cell_type": "markdown",
   "source": "We are going to start converting wrong formatted boolean columns to the correct format.",
   "id": "b8c59b2f639b353a"
  },
  {
   "metadata": {},
   "cell_type": "code",
   "source": [
    "y_n_cols = [\"FLAG_OWN_CAR\",\"FLAG_OWN_REALTY\"]\n",
    "df = format_boolean_columns(df,y_n_cols,true_label=\"Y\",false_label=\"N\")\n",
    "df = format_boolean_columns(df,\"EMERGENCYSTATE_MODE\",true_label=\"Yes\",false_label=\"No\")\n",
    "cols_1_0 = [\"FLAG_MOBIL\",\"FLAG_EMP_PHONE\",\"FLAG_WORK_PHONE\",\"FLAG_CONT_MOBILE\",\"FLAG_PHONE\",\"FLAG_EMAIL\",\"REG_REGION_NOT_LIVE_REGION\",\"REG_REGION_NOT_WORK_REGION\",\"LIVE_REGION_NOT_WORK_REGION\",\"REG_CITY_NOT_LIVE_CITY\",\"REG_CITY_NOT_WORK_CITY\",\"LIVE_CITY_NOT_WORK_CITY\",\"FLAG_DOCUMENT_2\", \"FLAG_DOCUMENT_3\", \"FLAG_DOCUMENT_4\", \"FLAG_DOCUMENT_5\", \"FLAG_DOCUMENT_6\", \"FLAG_DOCUMENT_7\", \"FLAG_DOCUMENT_8\", \"FLAG_DOCUMENT_9\", \"FLAG_DOCUMENT_10\", \"FLAG_DOCUMENT_11\", \"FLAG_DOCUMENT_12\", \"FLAG_DOCUMENT_13\", \"FLAG_DOCUMENT_14\", \"FLAG_DOCUMENT_15\", \"FLAG_DOCUMENT_16\", \"FLAG_DOCUMENT_17\", \"FLAG_DOCUMENT_18\", \"FLAG_DOCUMENT_19\", \"FLAG_DOCUMENT_20\", \"FLAG_DOCUMENT_21\"]\n",
    "df[cols_1_0] = df[cols_1_0].astype(bool)"
   ],
   "id": "9ba0bc030c8ee439",
   "outputs": [],
   "execution_count": null
  },
  {
   "metadata": {},
   "cell_type": "markdown",
   "source": "We are going to explore the missing values percentages of the columns.",
   "id": "dee454bda2c0aad3"
  },
  {
   "metadata": {},
   "cell_type": "code",
   "source": [
    "missing_values_perc = missing_values_percentage(df)\n",
    "missing_values_perc"
   ],
   "id": "e69fd2932fde3c4c",
   "outputs": [],
   "execution_count": null
  },
  {
   "metadata": {},
   "cell_type": "markdown",
   "source": "We are going to drop the columns with more than 45% of missing values.",
   "id": "1de3f0b6c77a5413"
  },
  {
   "metadata": {},
   "cell_type": "code",
   "source": [
    "df = drop_columns(df,missing_values_perc,45)\n",
    "missing_values_perc = missing_values_percentage(df)"
   ],
   "id": "6a638ef5adb1cc98",
   "outputs": [],
   "execution_count": null
  },
  {
   "metadata": {},
   "cell_type": "markdown",
   "source": "We are going to check the remaining columns in df.",
   "id": "229599886d48c4a0"
  },
  {
   "metadata": {},
   "cell_type": "code",
   "source": "forma(df)",
   "id": "9231659289bff5b",
   "outputs": [],
   "execution_count": null
  },
  {
   "metadata": {},
   "cell_type": "markdown",
   "source": "Let's check the columns with missing values.",
   "id": "1da714146ea7d6b5"
  },
  {
   "metadata": {},
   "cell_type": "code",
   "source": "df[missing_values_perc.index]",
   "id": "4e0b5a64cbaac3a1",
   "outputs": [],
   "execution_count": null
  },
  {
   "metadata": {},
   "cell_type": "markdown",
   "source": [
    "We are going to fill missing values with 0s in the following columns: \n",
    "\n",
    "AMT_REQ_CREDIT_BUREAU_HOUR, AMT_REQ_CREDIT_BUREAU_DAY, AMT_REQ_CREDIT_BUREAU_WEEK, AMT_REQ_CREDIT_BUREAU_MON, AMT_REQ_CREDIT_BUREAU_QRT, AMT_REQ_CREDIT_BUREAU_YEAR\n",
    "\n",
    "This decision is made because these columns are related to the number of enquiries to the Credit Bureau and it is possible that the missing values are due to the fact that the client has not made any requests."
   ],
   "id": "f25109dbc3d152b8"
  },
  {
   "metadata": {},
   "cell_type": "code",
   "source": [
    "amt_req_credit_bureau_cols = [\"AMT_REQ_CREDIT_BUREAU_HOUR\",\"AMT_REQ_CREDIT_BUREAU_DAY\",\"AMT_REQ_CREDIT_BUREAU_WEEK\",\"AMT_REQ_CREDIT_BUREAU_MON\",\"AMT_REQ_CREDIT_BUREAU_QRT\",\"AMT_REQ_CREDIT_BUREAU_YEAR\"]\n",
    "df[amt_req_credit_bureau_cols] = df[amt_req_credit_bureau_cols].fillna(0)"
   ],
   "id": "7bbbfd920a557048",
   "outputs": [],
   "execution_count": null
  },
  {
   "metadata": {},
   "cell_type": "markdown",
   "source": [
    "We are going to also fill missing values with the mode in the following columns:\n",
    "\n",
    "OBS_30_CNT_SOCIAL_CIRCLE, DEF_30_CNT_SOCIAL_CIRCLE, OBS_60_CNT_SOCIAL_CIRCLE, DEF_60_CNT_SOCIAL_CIRCLE\n",
    "\n",
    "This decision is made because these columns are related to the number of observations of clients' social surroundings and it is possible that the missing values are due to the fact that the client has not made any observations."
   ],
   "id": "37be7493c8f047fd"
  },
  {
   "metadata": {},
   "cell_type": "code",
   "source": [
    "social_circle_cols = [\"OBS_30_CNT_SOCIAL_CIRCLE\",\"DEF_30_CNT_SOCIAL_CIRCLE\",\"OBS_60_CNT_SOCIAL_CIRCLE\",\"DEF_60_CNT_SOCIAL_CIRCLE\"]\n",
    "df[social_circle_cols] = df[social_circle_cols].fillna(0)"
   ],
   "id": "392f679914c4a598",
   "outputs": [],
   "execution_count": null
  },
  {
   "metadata": {},
   "cell_type": "markdown",
   "source": "We are going to fill missing values in the column CNT_FAM_MEMBERS with 1. This decision is made because if there is not data about the number of family members, we can assume that the client is alone. ",
   "id": "1f7be950d24f7488"
  },
  {
   "metadata": {},
   "cell_type": "code",
   "source": "df[\"CNT_FAM_MEMBERS\"] = df[\"CNT_FAM_MEMBERS\"].fillna(1)",
   "id": "79644644858f25ba",
   "outputs": [],
   "execution_count": null
  },
  {
   "metadata": {},
   "cell_type": "markdown",
   "source": "We are going to fill missing values in the columns NAME_TYPE_SUITE with unaccompanied. This decision is made because if there is not data about wwho is accompanying the client, we can assume that the client is unaccompanied.",
   "id": "b4897cdbf18ecb2"
  },
  {
   "metadata": {},
   "cell_type": "code",
   "source": "df[\"NAME_TYPE_SUITE\"] = df[\"NAME_TYPE_SUITE\"].fillna(\"Unaccompanied\")",
   "id": "1016928185035cf2",
   "outputs": [],
   "execution_count": null
  },
  {
   "metadata": {},
   "cell_type": "code",
   "source": "df.head()",
   "id": "d926679bf5088be7",
   "outputs": [],
   "execution_count": null
  },
  {
   "metadata": {},
   "cell_type": "markdown",
   "source": "In order to use the imputers, we need to encode the categorical columns.",
   "id": "49aed1c10475b69d"
  },
  {
   "metadata": {},
   "cell_type": "markdown",
   "source": "One Hot Encoding for NAME_CONTRACT_TYPE and CODE_GENDER columns, as they only have two possible values, so we are not going to increase our dimensionality heavily.",
   "id": "eb491ba1dc07fe3b"
  },
  {
   "metadata": {},
   "cell_type": "code",
   "source": [
    "#Delete Rows with CODE_GENDER = XNA, only 4 in all dataset\n",
    "y = y[df['CODE_GENDER'] != \"XNA\"]\n",
    "sk_id_curr = sk_id_curr[df['CODE_GENDER'] != \"XNA\"]\n",
    "df = df[df['CODE_GENDER'] != \"XNA\"]\n",
    "\n",
    "one_hot_encoding_columns = [\"NAME_CONTRACT_TYPE\",\"CODE_GENDER\"]\n",
    "df = pd.get_dummies(df,columns=one_hot_encoding_columns ,drop_first=True)"
   ],
   "id": "a008e6de3f04f772",
   "outputs": [],
   "execution_count": null
  },
  {
   "metadata": {},
   "cell_type": "markdown",
   "source": "Categorical Encoding for NAME_EDUCATION_TYPE and WEEKDAY_APPR_PROCESS_START columns.",
   "id": "1db5df24eeae2898"
  },
  {
   "metadata": {},
   "cell_type": "code",
   "source": [
    "education_order = ['Lower secondary', 'Secondary / secondary special', 'Incomplete higher', \n",
    "                   'Higher education', 'Academic degree']\n",
    "encoderOrdinalEdu = OrdinalEncoder(categories=[education_order])\n",
    "df['NAME_EDUCATION_TYPE'] = encoderOrdinalEdu.fit_transform(df[['NAME_EDUCATION_TYPE']])\n",
    "\n",
    "week_order = ['MONDAY', 'TUESDAY', 'WEDNESDAY', 'THURSDAY', 'FRIDAY', 'SATURDAY', 'SUNDAY']\n",
    "encoderOrdinalWeek = OrdinalEncoder(categories=[week_order])\n",
    "df['WEEKDAY_APPR_PROCESS_START'] = encoderOrdinalWeek.fit_transform(df[['WEEKDAY_APPR_PROCESS_START']])"
   ],
   "id": "4d556d4cd31c60ac",
   "outputs": [],
   "execution_count": null
  },
  {
   "metadata": {},
   "cell_type": "markdown",
   "source": "Target Encoding for the rest of the categorical columns, without OCCUPATION_TYPE.",
   "id": "f068367d3c6967fd"
  },
  {
   "metadata": {},
   "cell_type": "code",
   "source": [
    "# target_encoding_columns = [\"NAME_TYPE_SUITE\",\"NAME_INCOME_TYPE\",\"NAME_FAMILY_STATUS\",\"NAME_HOUSING_TYPE\",\"NAME_FAMILY_STATUS\",\"NAME_HOUSING_TYPE\",\"ORGANIZATION_TYPE\"]\n",
    "#encoderTarget = TargetEncoder()\n",
    "#df[target_encoding_columns] = encoderTarget.fit_transform(df[target_encoding_columns], y) "
   ],
   "id": "e00fa9f620e66404",
   "outputs": [],
   "execution_count": null
  },
  {
   "metadata": {},
   "cell_type": "code",
   "source": [
    "label_encoding_columns = [\n",
    "    \"NAME_TYPE_SUITE\",\n",
    "    \"NAME_INCOME_TYPE\",\n",
    "    \"NAME_FAMILY_STATUS\",\n",
    "    \"NAME_HOUSING_TYPE\",\n",
    "    \"ORGANIZATION_TYPE\"\n",
    "]\n",
    "\n",
    "# A dictionary to store the encoders\n",
    "encoders = {}\n",
    "\n",
    "# Encoding each column\n",
    "for column in label_encoding_columns:\n",
    "    encoder = LabelEncoder()\n",
    "    df[column] = encoder.fit_transform(df[column])\n",
    "    encoders[column] = encoder "
   ],
   "id": "2d99cba7fc274a80",
   "outputs": [],
   "execution_count": null
  },
  {
   "metadata": {},
   "cell_type": "markdown",
   "source": "We are going to enconde OCCUPATION_TYPE using the One Hot Encoding.",
   "id": "5b414ade4aa3f9d1"
  },
  {
   "metadata": {},
   "cell_type": "code",
   "source": "df = pd.get_dummies(df,columns=[\"OCCUPATION_TYPE\"],drop_first=True)",
   "id": "79eef0c358acddd1",
   "outputs": [],
   "execution_count": null
  },
  {
   "metadata": {},
   "cell_type": "code",
   "source": [
    "df_imputed = impute_with_knn(df, ['OCCUPATION_TYPE', 'EXT_SOURCE_3', 'EXT_SOURCE_2', 'AMT_GOODS_PRICE', 'AMT_ANNUITY',\n",
    "                          'DAYS_LAST_PHONE_CHANGE'])"
   ],
   "id": "78de6ba616068b7a",
   "outputs": [],
   "execution_count": null
  },
  {
   "metadata": {},
   "cell_type": "markdown",
   "source": "Saving the numerical imputed df. We are using the parquet format to save memory.",
   "id": "22df802c912dcde4"
  },
  {
   "metadata": {},
   "cell_type": "code",
   "source": "df_imputed.to_csv('../data/processed/num_imputed_df.csv', index=False) ",
   "id": "e122faa4819612b1",
   "outputs": [],
   "execution_count": null
  },
  {
   "metadata": {},
   "cell_type": "markdown",
   "source": "We now are going to decode the columns that were encoded.",
   "id": "8b56c5873075ce47"
  },
  {
   "metadata": {},
   "cell_type": "markdown",
   "source": "First, we copy the dataframe.",
   "id": "d3090a960595f7c0"
  },
  {
   "metadata": {},
   "cell_type": "code",
   "source": [
    "df_imp_imported = pd.read_parquet('../data/processed/num_imputed_df.parquet') #Read the data after imputing to avoid loosing time.\n",
    "df_cat = df_imp_imported.copy()"
   ],
   "id": "54b1a1a840a87ad7",
   "outputs": [],
   "execution_count": null
  },
  {
   "metadata": {},
   "cell_type": "code",
   "source": "df_cat = df_imputed.copy()",
   "id": "f007a97f6d7ec91a",
   "outputs": [],
   "execution_count": null
  },
  {
   "metadata": {},
   "cell_type": "markdown",
   "source": "We decode OCCUPATION_TYPE.",
   "id": "635467af6b59608"
  },
  {
   "metadata": {},
   "cell_type": "code",
   "source": [
    "occupation_columns = df_cat.columns[df_cat.columns.str.startswith('OCCUPATION_TYPE_')]\n",
    "df_cat['OCCUPATION_TYPE'] = df_cat[occupation_columns].idxmax(axis=1).str.replace('OCCUPATION_TYPE_', '')\n",
    "df_cat = df_cat.drop(columns=occupation_columns)"
   ],
   "id": "a2522106057eb356",
   "outputs": [],
   "execution_count": null
  },
  {
   "metadata": {},
   "cell_type": "markdown",
   "source": "We decode NAME_EDUCATION_TYPE using the inverse_transform function of the encoder.",
   "id": "bd6f5ff80fd1e369"
  },
  {
   "metadata": {},
   "cell_type": "code",
   "source": "df_cat['NAME_EDUCATION_TYPE'].head()",
   "id": "5ca1cfb8086327e2",
   "outputs": [],
   "execution_count": null
  },
  {
   "metadata": {
    "ExecuteTime": {
     "end_time": "2024-11-15T10:40:25.762918Z",
     "start_time": "2024-11-15T10:40:25.588858Z"
    }
   },
   "cell_type": "code",
   "source": [
    "df_cat['WEEKDAY_APPR_PROCESS_START'] = encoderOrdinalWeek.inverse_transform(df_cat[['WEEKDAY_APPR_PROCESS_START']]).ravel()\n",
    "\n",
    "df_cat['WEEKDAY_APPR_PROCESS_START']"
   ],
   "id": "9b9af4fd6198b67f",
   "outputs": [
    {
     "ename": "ValueError",
     "evalue": "could not convert string to float: 'WEDNESDAY'",
     "output_type": "error",
     "traceback": [
      "\u001B[0;31m---------------------------------------------------------------------------\u001B[0m",
      "\u001B[0;31mValueError\u001B[0m                                Traceback (most recent call last)",
      "\u001B[0;32m/tmp/ipykernel_6028/465548756.py\u001B[0m in \u001B[0;36m?\u001B[0;34m()\u001B[0m\n\u001B[0;32m----> 1\u001B[0;31m \u001B[0mdf_cat\u001B[0m\u001B[0;34m[\u001B[0m\u001B[0;34m'WEEKDAY_APPR_PROCESS_START'\u001B[0m\u001B[0;34m]\u001B[0m \u001B[0;34m=\u001B[0m \u001B[0mencoderOrdinalWeek\u001B[0m\u001B[0;34m.\u001B[0m\u001B[0minverse_transform\u001B[0m\u001B[0;34m(\u001B[0m\u001B[0mdf_cat\u001B[0m\u001B[0;34m[\u001B[0m\u001B[0;34m[\u001B[0m\u001B[0;34m'WEEKDAY_APPR_PROCESS_START'\u001B[0m\u001B[0;34m]\u001B[0m\u001B[0;34m]\u001B[0m\u001B[0;34m)\u001B[0m\u001B[0;34m.\u001B[0m\u001B[0mravel\u001B[0m\u001B[0;34m(\u001B[0m\u001B[0;34m)\u001B[0m\u001B[0;34m\u001B[0m\u001B[0;34m\u001B[0m\u001B[0m\n\u001B[0m\u001B[1;32m      2\u001B[0m \u001B[0;34m\u001B[0m\u001B[0m\n\u001B[1;32m      3\u001B[0m \u001B[0mdf_cat\u001B[0m\u001B[0;34m[\u001B[0m\u001B[0;34m'WEEKDAY_APPR_PROCESS_START'\u001B[0m\u001B[0;34m]\u001B[0m\u001B[0;34m\u001B[0m\u001B[0;34m\u001B[0m\u001B[0m\n",
      "\u001B[0;32m~/anaconda3/envs/rapids-24.10/lib/python3.10/site-packages/sklearn/preprocessing/_encoders.py\u001B[0m in \u001B[0;36m?\u001B[0;34m(self, X)\u001B[0m\n\u001B[1;32m   1606\u001B[0m         \u001B[0mX_tr\u001B[0m \u001B[0;34m:\u001B[0m \u001B[0mndarray\u001B[0m \u001B[0mof\u001B[0m \u001B[0mshape\u001B[0m \u001B[0;34m(\u001B[0m\u001B[0mn_samples\u001B[0m\u001B[0;34m,\u001B[0m \u001B[0mn_features\u001B[0m\u001B[0;34m)\u001B[0m\u001B[0;34m\u001B[0m\u001B[0;34m\u001B[0m\u001B[0m\n\u001B[1;32m   1607\u001B[0m             \u001B[0mInverse\u001B[0m \u001B[0mtransformed\u001B[0m \u001B[0marray\u001B[0m\u001B[0;34m.\u001B[0m\u001B[0;34m\u001B[0m\u001B[0;34m\u001B[0m\u001B[0m\n\u001B[1;32m   1608\u001B[0m         \"\"\"\n\u001B[1;32m   1609\u001B[0m         \u001B[0mcheck_is_fitted\u001B[0m\u001B[0;34m(\u001B[0m\u001B[0mself\u001B[0m\u001B[0;34m)\u001B[0m\u001B[0;34m\u001B[0m\u001B[0;34m\u001B[0m\u001B[0m\n\u001B[0;32m-> 1610\u001B[0;31m         \u001B[0mX\u001B[0m \u001B[0;34m=\u001B[0m \u001B[0mcheck_array\u001B[0m\u001B[0;34m(\u001B[0m\u001B[0mX\u001B[0m\u001B[0;34m,\u001B[0m \u001B[0mforce_all_finite\u001B[0m\u001B[0;34m=\u001B[0m\u001B[0;34m\"allow-nan\"\u001B[0m\u001B[0;34m)\u001B[0m\u001B[0;34m\u001B[0m\u001B[0;34m\u001B[0m\u001B[0m\n\u001B[0m\u001B[1;32m   1611\u001B[0m \u001B[0;34m\u001B[0m\u001B[0m\n\u001B[1;32m   1612\u001B[0m         \u001B[0mn_samples\u001B[0m\u001B[0;34m,\u001B[0m \u001B[0m_\u001B[0m \u001B[0;34m=\u001B[0m \u001B[0mX\u001B[0m\u001B[0;34m.\u001B[0m\u001B[0mshape\u001B[0m\u001B[0;34m\u001B[0m\u001B[0;34m\u001B[0m\u001B[0m\n\u001B[1;32m   1613\u001B[0m         \u001B[0mn_features\u001B[0m \u001B[0;34m=\u001B[0m \u001B[0mlen\u001B[0m\u001B[0;34m(\u001B[0m\u001B[0mself\u001B[0m\u001B[0;34m.\u001B[0m\u001B[0mcategories_\u001B[0m\u001B[0;34m)\u001B[0m\u001B[0;34m\u001B[0m\u001B[0;34m\u001B[0m\u001B[0m\n",
      "\u001B[0;32m~/anaconda3/envs/rapids-24.10/lib/python3.10/site-packages/sklearn/utils/validation.py\u001B[0m in \u001B[0;36m?\u001B[0;34m(array, accept_sparse, accept_large_sparse, dtype, order, copy, force_writeable, force_all_finite, ensure_2d, allow_nd, ensure_min_samples, ensure_min_features, estimator, input_name)\u001B[0m\n\u001B[1;32m   1009\u001B[0m                         )\n\u001B[1;32m   1010\u001B[0m                     \u001B[0marray\u001B[0m \u001B[0;34m=\u001B[0m \u001B[0mxp\u001B[0m\u001B[0;34m.\u001B[0m\u001B[0mastype\u001B[0m\u001B[0;34m(\u001B[0m\u001B[0marray\u001B[0m\u001B[0;34m,\u001B[0m \u001B[0mdtype\u001B[0m\u001B[0;34m,\u001B[0m \u001B[0mcopy\u001B[0m\u001B[0;34m=\u001B[0m\u001B[0;32mFalse\u001B[0m\u001B[0;34m)\u001B[0m\u001B[0;34m\u001B[0m\u001B[0;34m\u001B[0m\u001B[0m\n\u001B[1;32m   1011\u001B[0m                 \u001B[0;32melse\u001B[0m\u001B[0;34m:\u001B[0m\u001B[0;34m\u001B[0m\u001B[0;34m\u001B[0m\u001B[0m\n\u001B[1;32m   1012\u001B[0m                     \u001B[0marray\u001B[0m \u001B[0;34m=\u001B[0m \u001B[0m_asarray_with_order\u001B[0m\u001B[0;34m(\u001B[0m\u001B[0marray\u001B[0m\u001B[0;34m,\u001B[0m \u001B[0morder\u001B[0m\u001B[0;34m=\u001B[0m\u001B[0morder\u001B[0m\u001B[0;34m,\u001B[0m \u001B[0mdtype\u001B[0m\u001B[0;34m=\u001B[0m\u001B[0mdtype\u001B[0m\u001B[0;34m,\u001B[0m \u001B[0mxp\u001B[0m\u001B[0;34m=\u001B[0m\u001B[0mxp\u001B[0m\u001B[0;34m)\u001B[0m\u001B[0;34m\u001B[0m\u001B[0;34m\u001B[0m\u001B[0m\n\u001B[0;32m-> 1013\u001B[0;31m             \u001B[0;32mexcept\u001B[0m \u001B[0mComplexWarning\u001B[0m \u001B[0;32mas\u001B[0m \u001B[0mcomplex_warning\u001B[0m\u001B[0;34m:\u001B[0m\u001B[0;34m\u001B[0m\u001B[0;34m\u001B[0m\u001B[0m\n\u001B[0m\u001B[1;32m   1014\u001B[0m                 raise ValueError(\n\u001B[1;32m   1015\u001B[0m                     \u001B[0;34m\"Complex data not supported\\n{}\\n\"\u001B[0m\u001B[0;34m.\u001B[0m\u001B[0mformat\u001B[0m\u001B[0;34m(\u001B[0m\u001B[0marray\u001B[0m\u001B[0;34m)\u001B[0m\u001B[0;34m\u001B[0m\u001B[0;34m\u001B[0m\u001B[0m\n\u001B[1;32m   1016\u001B[0m                 ) from complex_warning\n",
      "\u001B[0;32m~/anaconda3/envs/rapids-24.10/lib/python3.10/site-packages/sklearn/utils/_array_api.py\u001B[0m in \u001B[0;36m?\u001B[0;34m(array, dtype, order, copy, xp, device)\u001B[0m\n\u001B[1;32m    741\u001B[0m         \u001B[0;31m# Use NumPy API to support order\u001B[0m\u001B[0;34m\u001B[0m\u001B[0;34m\u001B[0m\u001B[0m\n\u001B[1;32m    742\u001B[0m         \u001B[0;32mif\u001B[0m \u001B[0mcopy\u001B[0m \u001B[0;32mis\u001B[0m \u001B[0;32mTrue\u001B[0m\u001B[0;34m:\u001B[0m\u001B[0;34m\u001B[0m\u001B[0;34m\u001B[0m\u001B[0m\n\u001B[1;32m    743\u001B[0m             \u001B[0marray\u001B[0m \u001B[0;34m=\u001B[0m \u001B[0mnumpy\u001B[0m\u001B[0;34m.\u001B[0m\u001B[0marray\u001B[0m\u001B[0;34m(\u001B[0m\u001B[0marray\u001B[0m\u001B[0;34m,\u001B[0m \u001B[0morder\u001B[0m\u001B[0;34m=\u001B[0m\u001B[0morder\u001B[0m\u001B[0;34m,\u001B[0m \u001B[0mdtype\u001B[0m\u001B[0;34m=\u001B[0m\u001B[0mdtype\u001B[0m\u001B[0;34m)\u001B[0m\u001B[0;34m\u001B[0m\u001B[0;34m\u001B[0m\u001B[0m\n\u001B[1;32m    744\u001B[0m         \u001B[0;32melse\u001B[0m\u001B[0;34m:\u001B[0m\u001B[0;34m\u001B[0m\u001B[0;34m\u001B[0m\u001B[0m\n\u001B[0;32m--> 745\u001B[0;31m             \u001B[0marray\u001B[0m \u001B[0;34m=\u001B[0m \u001B[0mnumpy\u001B[0m\u001B[0;34m.\u001B[0m\u001B[0masarray\u001B[0m\u001B[0;34m(\u001B[0m\u001B[0marray\u001B[0m\u001B[0;34m,\u001B[0m \u001B[0morder\u001B[0m\u001B[0;34m=\u001B[0m\u001B[0morder\u001B[0m\u001B[0;34m,\u001B[0m \u001B[0mdtype\u001B[0m\u001B[0;34m=\u001B[0m\u001B[0mdtype\u001B[0m\u001B[0;34m)\u001B[0m\u001B[0;34m\u001B[0m\u001B[0;34m\u001B[0m\u001B[0m\n\u001B[0m\u001B[1;32m    746\u001B[0m \u001B[0;34m\u001B[0m\u001B[0m\n\u001B[1;32m    747\u001B[0m         \u001B[0;31m# At this point array is a NumPy ndarray. We convert it to an array\u001B[0m\u001B[0;34m\u001B[0m\u001B[0;34m\u001B[0m\u001B[0m\n\u001B[1;32m    748\u001B[0m         \u001B[0;31m# container that is consistent with the input's namespace.\u001B[0m\u001B[0;34m\u001B[0m\u001B[0;34m\u001B[0m\u001B[0m\n",
      "\u001B[0;32m~/anaconda3/envs/rapids-24.10/lib/python3.10/site-packages/pandas/core/generic.py\u001B[0m in \u001B[0;36m?\u001B[0;34m(self, dtype, copy)\u001B[0m\n\u001B[1;32m   2149\u001B[0m     def __array__(\n\u001B[1;32m   2150\u001B[0m         \u001B[0mself\u001B[0m\u001B[0;34m,\u001B[0m \u001B[0mdtype\u001B[0m\u001B[0;34m:\u001B[0m \u001B[0mnpt\u001B[0m\u001B[0;34m.\u001B[0m\u001B[0mDTypeLike\u001B[0m \u001B[0;34m|\u001B[0m \u001B[0;32mNone\u001B[0m \u001B[0;34m=\u001B[0m \u001B[0;32mNone\u001B[0m\u001B[0;34m,\u001B[0m \u001B[0mcopy\u001B[0m\u001B[0;34m:\u001B[0m \u001B[0mbool_t\u001B[0m \u001B[0;34m|\u001B[0m \u001B[0;32mNone\u001B[0m \u001B[0;34m=\u001B[0m \u001B[0;32mNone\u001B[0m\u001B[0;34m\u001B[0m\u001B[0;34m\u001B[0m\u001B[0m\n\u001B[1;32m   2151\u001B[0m     ) -> np.ndarray:\n\u001B[1;32m   2152\u001B[0m         \u001B[0mvalues\u001B[0m \u001B[0;34m=\u001B[0m \u001B[0mself\u001B[0m\u001B[0;34m.\u001B[0m\u001B[0m_values\u001B[0m\u001B[0;34m\u001B[0m\u001B[0;34m\u001B[0m\u001B[0m\n\u001B[0;32m-> 2153\u001B[0;31m         \u001B[0marr\u001B[0m \u001B[0;34m=\u001B[0m \u001B[0mnp\u001B[0m\u001B[0;34m.\u001B[0m\u001B[0masarray\u001B[0m\u001B[0;34m(\u001B[0m\u001B[0mvalues\u001B[0m\u001B[0;34m,\u001B[0m \u001B[0mdtype\u001B[0m\u001B[0;34m=\u001B[0m\u001B[0mdtype\u001B[0m\u001B[0;34m)\u001B[0m\u001B[0;34m\u001B[0m\u001B[0;34m\u001B[0m\u001B[0m\n\u001B[0m\u001B[1;32m   2154\u001B[0m         if (\n\u001B[1;32m   2155\u001B[0m             \u001B[0mastype_is_view\u001B[0m\u001B[0;34m(\u001B[0m\u001B[0mvalues\u001B[0m\u001B[0;34m.\u001B[0m\u001B[0mdtype\u001B[0m\u001B[0;34m,\u001B[0m \u001B[0marr\u001B[0m\u001B[0;34m.\u001B[0m\u001B[0mdtype\u001B[0m\u001B[0;34m)\u001B[0m\u001B[0;34m\u001B[0m\u001B[0;34m\u001B[0m\u001B[0m\n\u001B[1;32m   2156\u001B[0m             \u001B[0;32mand\u001B[0m \u001B[0musing_copy_on_write\u001B[0m\u001B[0;34m(\u001B[0m\u001B[0;34m)\u001B[0m\u001B[0;34m\u001B[0m\u001B[0;34m\u001B[0m\u001B[0m\n",
      "\u001B[0;31mValueError\u001B[0m: could not convert string to float: 'WEDNESDAY'"
     ]
    }
   ],
   "execution_count": 43
  },
  {
   "metadata": {},
   "cell_type": "code",
   "source": [
    "# Decoding NAME_EDUCATION_TYPE\n",
    "df_cat['NAME_EDUCATION_TYPE'] = encoderOrdinalEdu.inverse_transform(df_cat[['NAME_EDUCATION_TYPE']]).ravel()"
   ],
   "id": "ccef5d22601fc3ed",
   "outputs": [],
   "execution_count": null
  },
  {
   "metadata": {},
   "cell_type": "code",
   "source": "df_cat['NAME_EDUCATION_TYPE'].head()",
   "id": "5f48e2c3a4598a57",
   "outputs": [],
   "execution_count": null
  },
  {
   "metadata": {},
   "cell_type": "markdown",
   "source": " We decode CODE_GENDER mapping 1s in CODE_GENDER_M into M and 0s into F.",
   "id": "890457c8acf9f512"
  },
  {
   "metadata": {},
   "cell_type": "code",
   "source": [
    "# Decoding CODE_GENDER\n",
    "df_cat['CODE_GENDER'] = df_cat['CODE_GENDER_M'].map({1: 'M', 0: 'F'})"
   ],
   "id": "56d710a1eeddd7ee",
   "outputs": [],
   "execution_count": null
  },
  {
   "metadata": {},
   "cell_type": "code",
   "source": "df_cat['CODE_GENDER'].head()",
   "id": "32a721e892a45b26",
   "outputs": [],
   "execution_count": null
  },
  {
   "metadata": {},
   "cell_type": "markdown",
   "source": "We decode NAME_CONTRACT_TYPE mapping 1s in column NAME_CONTRACT_TYPE_Revolving loans into Revolving loans and 0s into cash loans.",
   "id": "52984717d908d2f2"
  },
  {
   "metadata": {},
   "cell_type": "code",
   "source": [
    "# Decoding NAME_CONTRACT_TYPE\n",
    "df_cat['NAME_CONTRACT_TYPE'] = df_cat['NAME_CONTRACT_TYPE_Revolving loans'].map({1: 'Revolving loans', 0: 'Cash loans'})"
   ],
   "id": "17a6fb2a09217760",
   "outputs": [],
   "execution_count": null
  },
  {
   "metadata": {},
   "cell_type": "code",
   "source": "df_cat['NAME_CONTRACT_TYPE'].head()",
   "id": "45b48605cc742da0",
   "outputs": [],
   "execution_count": null
  },
  {
   "metadata": {},
   "cell_type": "markdown",
   "source": "Save the df_cat to parquet in order to save memory",
   "id": "13f302d039c5fbd5"
  },
  {
   "metadata": {
    "ExecuteTime": {
     "end_time": "2024-11-15T10:41:23.276600Z",
     "start_time": "2024-11-15T10:41:22.553642Z"
    }
   },
   "cell_type": "code",
   "source": "df_cat.to_parquet('../data/processed/imputed_df.parquet', index=False)",
   "id": "ad79dc34d59895c1",
   "outputs": [],
   "execution_count": 45
  },
  {
   "metadata": {
    "ExecuteTime": {
     "end_time": "2024-11-15T10:40:46.125620Z",
     "start_time": "2024-11-15T10:40:45.888572Z"
    }
   },
   "cell_type": "code",
   "source": "df_cat",
   "id": "34fad2ec9ea652a9",
   "outputs": [
    {
     "data": {
      "text/plain": [
       "        FLAG_OWN_CAR  FLAG_OWN_REALTY  CNT_CHILDREN  AMT_INCOME_TOTAL  \\\n",
       "0                0.0              1.0           0.0          202500.0   \n",
       "1                0.0              0.0           0.0          270000.0   \n",
       "2                1.0              1.0           0.0           67500.0   \n",
       "3                0.0              1.0           0.0          135000.0   \n",
       "4                0.0              1.0           0.0          121500.0   \n",
       "...              ...              ...           ...               ...   \n",
       "307502           0.0              0.0           0.0          157500.0   \n",
       "307503           0.0              1.0           0.0           72000.0   \n",
       "307504           0.0              1.0           0.0          153000.0   \n",
       "307505           0.0              1.0           0.0          171000.0   \n",
       "307506           0.0              0.0           0.0          157500.0   \n",
       "\n",
       "        AMT_CREDIT  AMT_ANNUITY  AMT_GOODS_PRICE  NAME_TYPE_SUITE  \\\n",
       "0         406597.5      24700.5         351000.0             18.0   \n",
       "1        1293502.5      35698.5        1129500.0              6.0   \n",
       "2         135000.0       6750.0         135000.0             16.0   \n",
       "3         312682.5      29686.5         297000.0             20.0   \n",
       "4         513000.0      21865.5         513000.0             16.0   \n",
       "...            ...          ...              ...              ...   \n",
       "307502    254700.0      27558.0         225000.0             17.0   \n",
       "307503    269550.0      12001.5         225000.0             19.0   \n",
       "307504    677664.0      29979.0         585000.0             17.0   \n",
       "307505    370107.0      20205.0         319500.0             17.0   \n",
       "307506    675000.0      49117.5         675000.0             19.0   \n",
       "\n",
       "        NAME_INCOME_TYPE            NAME_EDUCATION_TYPE  ...  \\\n",
       "0                   20.0  Secondary / secondary special  ...   \n",
       "1                   10.0               Higher education  ...   \n",
       "2                   17.0  Secondary / secondary special  ...   \n",
       "3                   16.0  Secondary / secondary special  ...   \n",
       "4                   17.0  Secondary / secondary special  ...   \n",
       "...                  ...                            ...  ...   \n",
       "307502              19.0  Secondary / secondary special  ...   \n",
       "307503               5.0  Secondary / secondary special  ...   \n",
       "307504              19.0               Higher education  ...   \n",
       "307505              13.0  Secondary / secondary special  ...   \n",
       "307506              12.0               Higher education  ...   \n",
       "\n",
       "        AMT_REQ_CREDIT_BUREAU_WEEK  AMT_REQ_CREDIT_BUREAU_MON  \\\n",
       "0                              0.0                        0.0   \n",
       "1                              0.0                        0.0   \n",
       "2                              0.0                        0.0   \n",
       "3                              0.0                        0.0   \n",
       "4                              0.0                        0.0   \n",
       "...                            ...                        ...   \n",
       "307502                         0.0                        0.0   \n",
       "307503                         0.0                        0.0   \n",
       "307504                         0.0                        1.0   \n",
       "307505                         0.0                        0.0   \n",
       "307506                         0.0                        2.0   \n",
       "\n",
       "        AMT_REQ_CREDIT_BUREAU_QRT  AMT_REQ_CREDIT_BUREAU_YEAR  \\\n",
       "0                             0.0                         1.0   \n",
       "1                             0.0                         0.0   \n",
       "2                             0.0                         0.0   \n",
       "3                             0.0                         0.0   \n",
       "4                             0.0                         0.0   \n",
       "...                           ...                         ...   \n",
       "307502                        0.0                         0.0   \n",
       "307503                        0.0                         0.0   \n",
       "307504                        0.0                         1.0   \n",
       "307505                        0.0                         0.0   \n",
       "307506                        0.0                         1.0   \n",
       "\n",
       "        NAME_CONTRACT_TYPE_Revolving loans  CODE_GENDER_M  target  \\\n",
       "0                                      0.0            1.0     1.0   \n",
       "1                                      0.0            0.0     0.0   \n",
       "2                                      1.0            1.0     0.0   \n",
       "3                                      0.0            0.0     0.0   \n",
       "4                                      0.0            1.0     0.0   \n",
       "...                                    ...            ...     ...   \n",
       "307502                                 0.0            1.0     0.0   \n",
       "307503                                 0.0            0.0     0.0   \n",
       "307504                                 0.0            0.0     0.0   \n",
       "307505                                 0.0            0.0     0.0   \n",
       "307506                                 0.0            0.0     0.0   \n",
       "\n",
       "        OCCUPATION_TYPE  CODE_GENDER  NAME_CONTRACT_TYPE  \n",
       "0              Laborers            M          Cash loans  \n",
       "1            Core staff            F          Cash loans  \n",
       "2              Laborers            M     Revolving loans  \n",
       "3              Laborers            F          Cash loans  \n",
       "4            Core staff            M          Cash loans  \n",
       "...                 ...          ...                 ...  \n",
       "307502      Sales staff            M          Cash loans  \n",
       "307503   Cleaning staff            F          Cash loans  \n",
       "307504         Managers            F          Cash loans  \n",
       "307505         Laborers            F          Cash loans  \n",
       "307506         Laborers            F          Cash loans  \n",
       "\n",
       "[307507 rows x 74 columns]"
      ],
      "text/html": [
       "<div>\n",
       "<style scoped>\n",
       "    .dataframe tbody tr th:only-of-type {\n",
       "        vertical-align: middle;\n",
       "    }\n",
       "\n",
       "    .dataframe tbody tr th {\n",
       "        vertical-align: top;\n",
       "    }\n",
       "\n",
       "    .dataframe thead th {\n",
       "        text-align: right;\n",
       "    }\n",
       "</style>\n",
       "<table border=\"1\" class=\"dataframe\">\n",
       "  <thead>\n",
       "    <tr style=\"text-align: right;\">\n",
       "      <th></th>\n",
       "      <th>FLAG_OWN_CAR</th>\n",
       "      <th>FLAG_OWN_REALTY</th>\n",
       "      <th>CNT_CHILDREN</th>\n",
       "      <th>AMT_INCOME_TOTAL</th>\n",
       "      <th>AMT_CREDIT</th>\n",
       "      <th>AMT_ANNUITY</th>\n",
       "      <th>AMT_GOODS_PRICE</th>\n",
       "      <th>NAME_TYPE_SUITE</th>\n",
       "      <th>NAME_INCOME_TYPE</th>\n",
       "      <th>NAME_EDUCATION_TYPE</th>\n",
       "      <th>...</th>\n",
       "      <th>AMT_REQ_CREDIT_BUREAU_WEEK</th>\n",
       "      <th>AMT_REQ_CREDIT_BUREAU_MON</th>\n",
       "      <th>AMT_REQ_CREDIT_BUREAU_QRT</th>\n",
       "      <th>AMT_REQ_CREDIT_BUREAU_YEAR</th>\n",
       "      <th>NAME_CONTRACT_TYPE_Revolving loans</th>\n",
       "      <th>CODE_GENDER_M</th>\n",
       "      <th>target</th>\n",
       "      <th>OCCUPATION_TYPE</th>\n",
       "      <th>CODE_GENDER</th>\n",
       "      <th>NAME_CONTRACT_TYPE</th>\n",
       "    </tr>\n",
       "  </thead>\n",
       "  <tbody>\n",
       "    <tr>\n",
       "      <th>0</th>\n",
       "      <td>0.0</td>\n",
       "      <td>1.0</td>\n",
       "      <td>0.0</td>\n",
       "      <td>202500.0</td>\n",
       "      <td>406597.5</td>\n",
       "      <td>24700.5</td>\n",
       "      <td>351000.0</td>\n",
       "      <td>18.0</td>\n",
       "      <td>20.0</td>\n",
       "      <td>Secondary / secondary special</td>\n",
       "      <td>...</td>\n",
       "      <td>0.0</td>\n",
       "      <td>0.0</td>\n",
       "      <td>0.0</td>\n",
       "      <td>1.0</td>\n",
       "      <td>0.0</td>\n",
       "      <td>1.0</td>\n",
       "      <td>1.0</td>\n",
       "      <td>Laborers</td>\n",
       "      <td>M</td>\n",
       "      <td>Cash loans</td>\n",
       "    </tr>\n",
       "    <tr>\n",
       "      <th>1</th>\n",
       "      <td>0.0</td>\n",
       "      <td>0.0</td>\n",
       "      <td>0.0</td>\n",
       "      <td>270000.0</td>\n",
       "      <td>1293502.5</td>\n",
       "      <td>35698.5</td>\n",
       "      <td>1129500.0</td>\n",
       "      <td>6.0</td>\n",
       "      <td>10.0</td>\n",
       "      <td>Higher education</td>\n",
       "      <td>...</td>\n",
       "      <td>0.0</td>\n",
       "      <td>0.0</td>\n",
       "      <td>0.0</td>\n",
       "      <td>0.0</td>\n",
       "      <td>0.0</td>\n",
       "      <td>0.0</td>\n",
       "      <td>0.0</td>\n",
       "      <td>Core staff</td>\n",
       "      <td>F</td>\n",
       "      <td>Cash loans</td>\n",
       "    </tr>\n",
       "    <tr>\n",
       "      <th>2</th>\n",
       "      <td>1.0</td>\n",
       "      <td>1.0</td>\n",
       "      <td>0.0</td>\n",
       "      <td>67500.0</td>\n",
       "      <td>135000.0</td>\n",
       "      <td>6750.0</td>\n",
       "      <td>135000.0</td>\n",
       "      <td>16.0</td>\n",
       "      <td>17.0</td>\n",
       "      <td>Secondary / secondary special</td>\n",
       "      <td>...</td>\n",
       "      <td>0.0</td>\n",
       "      <td>0.0</td>\n",
       "      <td>0.0</td>\n",
       "      <td>0.0</td>\n",
       "      <td>1.0</td>\n",
       "      <td>1.0</td>\n",
       "      <td>0.0</td>\n",
       "      <td>Laborers</td>\n",
       "      <td>M</td>\n",
       "      <td>Revolving loans</td>\n",
       "    </tr>\n",
       "    <tr>\n",
       "      <th>3</th>\n",
       "      <td>0.0</td>\n",
       "      <td>1.0</td>\n",
       "      <td>0.0</td>\n",
       "      <td>135000.0</td>\n",
       "      <td>312682.5</td>\n",
       "      <td>29686.5</td>\n",
       "      <td>297000.0</td>\n",
       "      <td>20.0</td>\n",
       "      <td>16.0</td>\n",
       "      <td>Secondary / secondary special</td>\n",
       "      <td>...</td>\n",
       "      <td>0.0</td>\n",
       "      <td>0.0</td>\n",
       "      <td>0.0</td>\n",
       "      <td>0.0</td>\n",
       "      <td>0.0</td>\n",
       "      <td>0.0</td>\n",
       "      <td>0.0</td>\n",
       "      <td>Laborers</td>\n",
       "      <td>F</td>\n",
       "      <td>Cash loans</td>\n",
       "    </tr>\n",
       "    <tr>\n",
       "      <th>4</th>\n",
       "      <td>0.0</td>\n",
       "      <td>1.0</td>\n",
       "      <td>0.0</td>\n",
       "      <td>121500.0</td>\n",
       "      <td>513000.0</td>\n",
       "      <td>21865.5</td>\n",
       "      <td>513000.0</td>\n",
       "      <td>16.0</td>\n",
       "      <td>17.0</td>\n",
       "      <td>Secondary / secondary special</td>\n",
       "      <td>...</td>\n",
       "      <td>0.0</td>\n",
       "      <td>0.0</td>\n",
       "      <td>0.0</td>\n",
       "      <td>0.0</td>\n",
       "      <td>0.0</td>\n",
       "      <td>1.0</td>\n",
       "      <td>0.0</td>\n",
       "      <td>Core staff</td>\n",
       "      <td>M</td>\n",
       "      <td>Cash loans</td>\n",
       "    </tr>\n",
       "    <tr>\n",
       "      <th>...</th>\n",
       "      <td>...</td>\n",
       "      <td>...</td>\n",
       "      <td>...</td>\n",
       "      <td>...</td>\n",
       "      <td>...</td>\n",
       "      <td>...</td>\n",
       "      <td>...</td>\n",
       "      <td>...</td>\n",
       "      <td>...</td>\n",
       "      <td>...</td>\n",
       "      <td>...</td>\n",
       "      <td>...</td>\n",
       "      <td>...</td>\n",
       "      <td>...</td>\n",
       "      <td>...</td>\n",
       "      <td>...</td>\n",
       "      <td>...</td>\n",
       "      <td>...</td>\n",
       "      <td>...</td>\n",
       "      <td>...</td>\n",
       "      <td>...</td>\n",
       "    </tr>\n",
       "    <tr>\n",
       "      <th>307502</th>\n",
       "      <td>0.0</td>\n",
       "      <td>0.0</td>\n",
       "      <td>0.0</td>\n",
       "      <td>157500.0</td>\n",
       "      <td>254700.0</td>\n",
       "      <td>27558.0</td>\n",
       "      <td>225000.0</td>\n",
       "      <td>17.0</td>\n",
       "      <td>19.0</td>\n",
       "      <td>Secondary / secondary special</td>\n",
       "      <td>...</td>\n",
       "      <td>0.0</td>\n",
       "      <td>0.0</td>\n",
       "      <td>0.0</td>\n",
       "      <td>0.0</td>\n",
       "      <td>0.0</td>\n",
       "      <td>1.0</td>\n",
       "      <td>0.0</td>\n",
       "      <td>Sales staff</td>\n",
       "      <td>M</td>\n",
       "      <td>Cash loans</td>\n",
       "    </tr>\n",
       "    <tr>\n",
       "      <th>307503</th>\n",
       "      <td>0.0</td>\n",
       "      <td>1.0</td>\n",
       "      <td>0.0</td>\n",
       "      <td>72000.0</td>\n",
       "      <td>269550.0</td>\n",
       "      <td>12001.5</td>\n",
       "      <td>225000.0</td>\n",
       "      <td>19.0</td>\n",
       "      <td>5.0</td>\n",
       "      <td>Secondary / secondary special</td>\n",
       "      <td>...</td>\n",
       "      <td>0.0</td>\n",
       "      <td>0.0</td>\n",
       "      <td>0.0</td>\n",
       "      <td>0.0</td>\n",
       "      <td>0.0</td>\n",
       "      <td>0.0</td>\n",
       "      <td>0.0</td>\n",
       "      <td>Cleaning staff</td>\n",
       "      <td>F</td>\n",
       "      <td>Cash loans</td>\n",
       "    </tr>\n",
       "    <tr>\n",
       "      <th>307504</th>\n",
       "      <td>0.0</td>\n",
       "      <td>1.0</td>\n",
       "      <td>0.0</td>\n",
       "      <td>153000.0</td>\n",
       "      <td>677664.0</td>\n",
       "      <td>29979.0</td>\n",
       "      <td>585000.0</td>\n",
       "      <td>17.0</td>\n",
       "      <td>19.0</td>\n",
       "      <td>Higher education</td>\n",
       "      <td>...</td>\n",
       "      <td>0.0</td>\n",
       "      <td>1.0</td>\n",
       "      <td>0.0</td>\n",
       "      <td>1.0</td>\n",
       "      <td>0.0</td>\n",
       "      <td>0.0</td>\n",
       "      <td>0.0</td>\n",
       "      <td>Managers</td>\n",
       "      <td>F</td>\n",
       "      <td>Cash loans</td>\n",
       "    </tr>\n",
       "    <tr>\n",
       "      <th>307505</th>\n",
       "      <td>0.0</td>\n",
       "      <td>1.0</td>\n",
       "      <td>0.0</td>\n",
       "      <td>171000.0</td>\n",
       "      <td>370107.0</td>\n",
       "      <td>20205.0</td>\n",
       "      <td>319500.0</td>\n",
       "      <td>17.0</td>\n",
       "      <td>13.0</td>\n",
       "      <td>Secondary / secondary special</td>\n",
       "      <td>...</td>\n",
       "      <td>0.0</td>\n",
       "      <td>0.0</td>\n",
       "      <td>0.0</td>\n",
       "      <td>0.0</td>\n",
       "      <td>0.0</td>\n",
       "      <td>0.0</td>\n",
       "      <td>0.0</td>\n",
       "      <td>Laborers</td>\n",
       "      <td>F</td>\n",
       "      <td>Cash loans</td>\n",
       "    </tr>\n",
       "    <tr>\n",
       "      <th>307506</th>\n",
       "      <td>0.0</td>\n",
       "      <td>0.0</td>\n",
       "      <td>0.0</td>\n",
       "      <td>157500.0</td>\n",
       "      <td>675000.0</td>\n",
       "      <td>49117.5</td>\n",
       "      <td>675000.0</td>\n",
       "      <td>19.0</td>\n",
       "      <td>12.0</td>\n",
       "      <td>Higher education</td>\n",
       "      <td>...</td>\n",
       "      <td>0.0</td>\n",
       "      <td>2.0</td>\n",
       "      <td>0.0</td>\n",
       "      <td>1.0</td>\n",
       "      <td>0.0</td>\n",
       "      <td>0.0</td>\n",
       "      <td>0.0</td>\n",
       "      <td>Laborers</td>\n",
       "      <td>F</td>\n",
       "      <td>Cash loans</td>\n",
       "    </tr>\n",
       "  </tbody>\n",
       "</table>\n",
       "<p>307507 rows × 74 columns</p>\n",
       "</div>"
      ]
     },
     "execution_count": 44,
     "metadata": {},
     "output_type": "execute_result"
    }
   ],
   "execution_count": 44
  },
  {
   "metadata": {},
   "cell_type": "markdown",
   "source": "",
   "id": "728518815c30caeb"
  }
 ],
 "metadata": {
  "kernelspec": {
   "display_name": "Python 3",
   "language": "python",
   "name": "python3"
  },
  "language_info": {
   "codemirror_mode": {
    "name": "ipython",
    "version": 2
   },
   "file_extension": ".py",
   "mimetype": "text/x-python",
   "name": "python",
   "nbconvert_exporter": "python",
   "pygments_lexer": "ipython2",
   "version": "2.7.6"
  }
 },
 "nbformat": 4,
 "nbformat_minor": 5
}
