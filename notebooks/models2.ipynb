{
 "cells": [
  {
   "cell_type": "code",
   "execution_count": 1,
   "id": "c91f2a22b9a1d3be",
   "metadata": {
    "ExecuteTime": {
     "end_time": "2024-11-17T06:47:35.328583Z",
     "start_time": "2024-11-17T06:47:31.294968Z"
    }
   },
   "outputs": [
    {
     "name": "stderr",
     "output_type": "stream",
     "text": [
      "/home/aitor/anaconda3/envs/rapids-24.10/lib/python3.10/site-packages/tqdm/auto.py:21: TqdmWarning: IProgress not found. Please update jupyter and ipywidgets. See https://ipywidgets.readthedocs.io/en/stable/user_install.html\n",
      "  from .autonotebook import tqdm as notebook_tqdm\n"
     ]
    }
   ],
   "source": [
    "from sklearn.model_selection import train_test_split\n",
    "from sklearn.preprocessing import StandardScaler\n",
    "import pandas as pd\n",
    "from sklearn.feature_selection import SelectFromModel\n",
    "from sklearn.linear_model import LogisticRegression\n",
    "from imblearn.over_sampling import ADASYN\n",
    "import optuna\n",
    "from sklearn.metrics import roc_auc_score\n",
    "from sklearn.svm import SVC\n",
    "from cuml.svm import SVC as cuSVC\n",
    "from cuml.metrics import roc_auc_score\n",
    "import cupy as cp"
   ]
  },
  {
   "cell_type": "code",
   "execution_count": 2,
   "id": "initial_id",
   "metadata": {
    "ExecuteTime": {
     "end_time": "2024-11-16T18:40:48.277882Z",
     "start_time": "2024-11-16T18:40:47.996185Z"
    }
   },
   "outputs": [],
   "source": [
    "df = pd.read_parquet('../data/processed/selected_features_df.parquet')\n",
    "\n",
    "X = df.drop(columns=['target'])\n",
    "y = df['target']"
   ]
  },
  {
   "cell_type": "markdown",
   "id": "5aca6d0585eb63c3",
   "metadata": {},
   "source": [
    "# Logistic Regression"
   ]
  },
  {
   "cell_type": "markdown",
   "id": "48cce909185a4978",
   "metadata": {},
   "source": [
    "SelectFromModel for selecting features for Logistic Regression"
   ]
  },
  {
   "cell_type": "code",
   "execution_count": 3,
   "id": "dfaab989cd4902fd",
   "metadata": {
    "ExecuteTime": {
     "end_time": "2024-11-16T18:40:49.739145Z",
     "start_time": "2024-11-16T18:40:48.733973Z"
    }
   },
   "outputs": [],
   "source": [
    "X_train, X_test, y_train, y_test = train_test_split(X, y, test_size=0.2, random_state=42)\n",
    "\n",
    "scaler = StandardScaler()\n",
    "X_train_scaled = scaler.fit_transform(X_train)\n",
    "X_test_scaled = scaler.transform(X_test)\n",
    "\n",
    "logisticRegression = LogisticRegression()\n",
    "\n",
    "selector = SelectFromModel(estimator=logisticRegression).fit(X_train_scaled, y_train)\n",
    "X_train_selected = selector.transform(X_train_scaled)\n",
    "X_test_selected = selector.transform(X_test_scaled)"
   ]
  },
  {
   "cell_type": "markdown",
   "id": "11a81b17713dd619",
   "metadata": {},
   "source": [
    "Balancing the dataset using ADASYN"
   ]
  },
  {
   "cell_type": "code",
   "execution_count": 4,
   "id": "7915e34617a4eca8",
   "metadata": {
    "ExecuteTime": {
     "end_time": "2024-11-16T18:40:52.881817Z",
     "start_time": "2024-11-16T18:40:49.785187Z"
    }
   },
   "outputs": [],
   "source": [
    "adasyn = ADASYN()\n",
    "X_train_res, y_train_res = adasyn.fit_resample(X_train_selected, y_train)"
   ]
  },
  {
   "cell_type": "markdown",
   "id": "36b445e579e0d792",
   "metadata": {},
   "source": [
    "Hyperparameter tuning using Optuna"
   ]
  },
  {
   "cell_type": "code",
   "execution_count": 5,
   "id": "3ab5502a7736fbff",
   "metadata": {
    "ExecuteTime": {
     "end_time": "2024-11-16T18:41:42.839411Z",
     "start_time": "2024-11-16T18:40:52.901932Z"
    }
   },
   "outputs": [
    {
     "name": "stderr",
     "output_type": "stream",
     "text": [
      "[I 2024-11-17 07:57:27,197] A new study created in memory with name: no-name-c47e2c26-c11b-4f72-8028-31388a3b1f8a\n",
      "[I 2024-11-17 07:57:27,725] Trial 0 finished with value: 0.5096410512924194 and parameters: {'C': 0.1657464492866667, 'max_iter': 398, 'class_weight': None}. Best is trial 0 with value: 0.5096410512924194.\n",
      "[I 2024-11-17 07:57:28,142] Trial 1 finished with value: 0.5084046721458435 and parameters: {'C': 0.005990284078731089, 'max_iter': 800, 'class_weight': 'balanced'}. Best is trial 0 with value: 0.5096410512924194.\n",
      "[I 2024-11-17 07:57:28,515] Trial 2 finished with value: 0.5096498727798462 and parameters: {'C': 0.08363229517387659, 'max_iter': 256, 'class_weight': None}. Best is trial 2 with value: 0.5096498727798462.\n",
      "[I 2024-11-17 07:57:28,867] Trial 3 finished with value: 0.5092841386795044 and parameters: {'C': 0.0038872515841483503, 'max_iter': 893, 'class_weight': None}. Best is trial 2 with value: 0.5096498727798462.\n",
      "[I 2024-11-17 07:57:29,293] Trial 4 finished with value: 0.508933961391449 and parameters: {'C': 0.07049161955413939, 'max_iter': 823, 'class_weight': 'balanced'}. Best is trial 2 with value: 0.5096498727798462.\n",
      "[I 2024-11-17 07:57:29,729] Trial 5 finished with value: 0.5089428424835205 and parameters: {'C': 0.14519899126729957, 'max_iter': 433, 'class_weight': 'balanced'}. Best is trial 2 with value: 0.5096498727798462.\n",
      "[I 2024-11-17 07:57:30,358] Trial 6 finished with value: 0.5095975995063782 and parameters: {'C': 0.01523598395995393, 'max_iter': 293, 'class_weight': None}. Best is trial 2 with value: 0.5096498727798462.\n",
      "[I 2024-11-17 07:57:30,921] Trial 7 finished with value: 0.5096002817153931 and parameters: {'C': 0.030588466056865455, 'max_iter': 977, 'class_weight': None}. Best is trial 2 with value: 0.5096498727798462.\n",
      "[I 2024-11-17 07:57:31,243] Trial 8 finished with value: 0.5100771188735962 and parameters: {'C': 0.0004604166273594564, 'max_iter': 755, 'class_weight': 'balanced'}. Best is trial 8 with value: 0.5100771188735962.\n",
      "[I 2024-11-17 07:57:31,601] Trial 9 finished with value: 0.5096206665039062 and parameters: {'C': 0.048850996827387624, 'max_iter': 468, 'class_weight': None}. Best is trial 8 with value: 0.5100771188735962.\n",
      "[I 2024-11-17 07:57:31,915] Trial 10 finished with value: 0.5097653269767761 and parameters: {'C': 0.0001806965038095715, 'max_iter': 707, 'class_weight': 'balanced'}. Best is trial 8 with value: 0.5100771188735962.\n",
      "[I 2024-11-17 07:57:32,196] Trial 11 finished with value: 0.5103697180747986 and parameters: {'C': 0.00015112108653330834, 'max_iter': 659, 'class_weight': 'balanced'}. Best is trial 11 with value: 0.5103697180747986.\n",
      "[I 2024-11-17 07:57:32,488] Trial 12 finished with value: 0.5109087228775024 and parameters: {'C': 0.00012412975375519533, 'max_iter': 650, 'class_weight': 'balanced'}. Best is trial 12 with value: 0.5109087228775024.\n",
      "[I 2024-11-17 07:57:32,871] Trial 13 finished with value: 0.5103021264076233 and parameters: {'C': 0.0008905574670015864, 'max_iter': 612, 'class_weight': 'balanced'}. Best is trial 12 with value: 0.5109087228775024.\n",
      "[I 2024-11-17 07:57:33,138] Trial 14 finished with value: 0.5114230513572693 and parameters: {'C': 0.00010800405563358019, 'max_iter': 599, 'class_weight': 'balanced'}. Best is trial 14 with value: 0.5114230513572693.\n",
      "[I 2024-11-17 07:57:33,522] Trial 15 finished with value: 0.5095207095146179 and parameters: {'C': 0.0013099278374337016, 'max_iter': 565, 'class_weight': 'balanced'}. Best is trial 14 with value: 0.5114230513572693.\n",
      "[I 2024-11-17 07:57:33,996] Trial 16 finished with value: 0.5089428424835205 and parameters: {'C': 0.8149247946296092, 'max_iter': 174, 'class_weight': 'balanced'}. Best is trial 14 with value: 0.5114230513572693.\n",
      "[I 2024-11-17 07:57:34,279] Trial 17 finished with value: 0.5109733939170837 and parameters: {'C': 0.00013174311607769523, 'max_iter': 514, 'class_weight': 'balanced'}. Best is trial 14 with value: 0.5114230513572693.\n",
      "[I 2024-11-17 07:57:34,622] Trial 18 finished with value: 0.5099629163742065 and parameters: {'C': 0.0003958509966943966, 'max_iter': 486, 'class_weight': 'balanced'}. Best is trial 14 with value: 0.5114230513572693.\n",
      "[I 2024-11-17 07:57:35,045] Trial 19 finished with value: 0.5087286233901978 and parameters: {'C': 0.002089110260704423, 'max_iter': 359, 'class_weight': 'balanced'}. Best is trial 14 with value: 0.5114230513572693.\n",
      "[I 2024-11-17 07:57:35,397] Trial 20 finished with value: 0.5101099014282227 and parameters: {'C': 0.00041178708601534116, 'max_iter': 524, 'class_weight': 'balanced'}. Best is trial 14 with value: 0.5114230513572693.\n",
      "[I 2024-11-17 07:57:35,651] Trial 21 finished with value: 0.5114522576332092 and parameters: {'C': 0.00010990071103187388, 'max_iter': 618, 'class_weight': 'balanced'}. Best is trial 21 with value: 0.5114522576332092.\n",
      "[I 2024-11-17 07:57:35,916] Trial 22 finished with value: 0.5115354061126709 and parameters: {'C': 0.00010151753187545791, 'max_iter': 568, 'class_weight': 'balanced'}. Best is trial 22 with value: 0.5115354061126709.\n",
      "[I 2024-11-17 07:57:36,273] Trial 23 finished with value: 0.5093459486961365 and parameters: {'C': 0.00028647527517809945, 'max_iter': 593, 'class_weight': 'balanced'}. Best is trial 22 with value: 0.5115354061126709.\n",
      "[I 2024-11-17 07:57:36,659] Trial 24 finished with value: 0.5102055668830872 and parameters: {'C': 0.0006819172027960523, 'max_iter': 718, 'class_weight': 'balanced'}. Best is trial 22 with value: 0.5115354061126709.\n",
      "[I 2024-11-17 07:57:36,923] Trial 25 finished with value: 0.5114619135856628 and parameters: {'C': 0.0001002454956817936, 'max_iter': 577, 'class_weight': 'balanced'}. Best is trial 22 with value: 0.5115354061126709.\n",
      "[I 2024-11-17 07:57:37,328] Trial 26 finished with value: 0.5085223913192749 and parameters: {'C': 0.0025667414916664784, 'max_iter': 343, 'class_weight': 'balanced'}. Best is trial 22 with value: 0.5115354061126709.\n",
      "[I 2024-11-17 07:57:37,683] Trial 27 finished with value: 0.5094317197799683 and parameters: {'C': 0.0002513656125585783, 'max_iter': 113, 'class_weight': 'balanced'}. Best is trial 22 with value: 0.5115354061126709.\n",
      "[I 2024-11-17 07:57:38,082] Trial 28 finished with value: 0.509730339050293 and parameters: {'C': 0.0010478030598918572, 'max_iter': 543, 'class_weight': 'balanced'}. Best is trial 22 with value: 0.5115354061126709.\n",
      "[I 2024-11-17 07:57:38,462] Trial 29 finished with value: 0.5096233487129211 and parameters: {'C': 0.7606373389473967, 'max_iter': 412, 'class_weight': None}. Best is trial 22 with value: 0.5115354061126709.\n",
      "[I 2024-11-17 07:57:38,811] Trial 30 finished with value: 0.5092847943305969 and parameters: {'C': 0.00024369702534463375, 'max_iter': 659, 'class_weight': 'balanced'}. Best is trial 22 with value: 0.5115354061126709.\n",
      "[I 2024-11-17 07:57:39,105] Trial 31 finished with value: 0.5109706521034241 and parameters: {'C': 0.00012777407558972799, 'max_iter': 606, 'class_weight': 'balanced'}. Best is trial 22 with value: 0.5115354061126709.\n",
      "[I 2024-11-17 07:57:39,379] Trial 32 finished with value: 0.511561930179596 and parameters: {'C': 0.00010036892764562885, 'max_iter': 791, 'class_weight': 'balanced'}. Best is trial 32 with value: 0.511561930179596.\n",
      "[I 2024-11-17 07:57:39,742] Trial 33 finished with value: 0.5098825097084045 and parameters: {'C': 0.000578669331239698, 'max_iter': 834, 'class_weight': 'balanced'}. Best is trial 32 with value: 0.511561930179596.\n",
      "[I 2024-11-17 07:57:40,060] Trial 34 finished with value: 0.5092148184776306 and parameters: {'C': 0.00021659764000725904, 'max_iter': 914, 'class_weight': 'balanced'}. Best is trial 32 with value: 0.511561930179596.\n",
      "[I 2024-11-17 07:57:40,441] Trial 35 finished with value: 0.5096302628517151 and parameters: {'C': 0.009312152245716764, 'max_iter': 778, 'class_weight': None}. Best is trial 32 with value: 0.511561930179596.\n",
      "[I 2024-11-17 07:57:40,705] Trial 36 finished with value: 0.5114761590957642 and parameters: {'C': 0.00010446284623756048, 'max_iter': 707, 'class_weight': 'balanced'}. Best is trial 32 with value: 0.511561930179596.\n",
      "[I 2024-11-17 07:57:41,110] Trial 37 finished with value: 0.5093805193901062 and parameters: {'C': 0.0003520911499738836, 'max_iter': 867, 'class_weight': 'balanced'}. Best is trial 32 with value: 0.511561930179596.\n",
      "[I 2024-11-17 07:57:41,831] Trial 38 finished with value: 0.5093603134155273 and parameters: {'C': 0.004943451966511685, 'max_iter': 707, 'class_weight': None}. Best is trial 32 with value: 0.511561930179596.\n",
      "[I 2024-11-17 07:57:42,226] Trial 39 finished with value: 0.5092437267303467 and parameters: {'C': 0.0015853969718542774, 'max_iter': 961, 'class_weight': 'balanced'}. Best is trial 32 with value: 0.511561930179596.\n",
      "[I 2024-11-17 07:57:42,511] Trial 40 finished with value: 0.5106416940689087 and parameters: {'C': 0.0002782598860834795, 'max_iter': 762, 'class_weight': None}. Best is trial 32 with value: 0.511561930179596.\n",
      "[I 2024-11-17 07:57:42,786] Trial 41 finished with value: 0.5114345550537109 and parameters: {'C': 0.00011002053993045421, 'max_iter': 662, 'class_weight': 'balanced'}. Best is trial 32 with value: 0.511561930179596.\n",
      "[I 2024-11-17 07:57:43,117] Trial 42 finished with value: 0.5096156597137451 and parameters: {'C': 0.0001745437714108877, 'max_iter': 808, 'class_weight': 'balanced'}. Best is trial 32 with value: 0.511561930179596.\n",
      "[I 2024-11-17 07:57:43,419] Trial 43 finished with value: 0.5094325542449951 and parameters: {'C': 0.0001846860515851635, 'max_iter': 445, 'class_weight': 'balanced'}. Best is trial 32 with value: 0.511561930179596.\n",
      "[I 2024-11-17 07:57:43,678] Trial 44 finished with value: 0.511711597442627 and parameters: {'C': 0.00010694612368649073, 'max_iter': 723, 'class_weight': 'balanced'}. Best is trial 44 with value: 0.511711597442627.\n",
      "[I 2024-11-17 07:57:44,118] Trial 45 finished with value: 0.5089516639709473 and parameters: {'C': 0.4117365930619109, 'max_iter': 695, 'class_weight': 'balanced'}. Best is trial 44 with value: 0.511711597442627.\n",
      "[I 2024-11-17 07:57:44,499] Trial 46 finished with value: 0.5097736120223999 and parameters: {'C': 0.0005848511392982543, 'max_iter': 744, 'class_weight': 'balanced'}. Best is trial 44 with value: 0.511711597442627.\n",
      "[I 2024-11-17 07:57:44,813] Trial 47 finished with value: 0.5095945596694946 and parameters: {'C': 0.00019899780661958492, 'max_iter': 861, 'class_weight': 'balanced'}. Best is trial 44 with value: 0.511711597442627.\n",
      "[I 2024-11-17 07:57:45,275] Trial 48 finished with value: 0.508725106716156 and parameters: {'C': 0.02063135816386956, 'max_iter': 561, 'class_weight': 'balanced'}. Best is trial 44 with value: 0.511711597442627.\n",
      "[I 2024-11-17 07:57:45,518] Trial 49 finished with value: 0.5109509229660034 and parameters: {'C': 0.00010627468838307706, 'max_iter': 784, 'class_weight': None}. Best is trial 44 with value: 0.511711597442627.\n",
      "[I 2024-11-17 07:57:45,817] Trial 50 finished with value: 0.5102219581604004 and parameters: {'C': 0.00016774740244142157, 'max_iter': 733, 'class_weight': 'balanced'}. Best is trial 44 with value: 0.511711597442627.\n",
      "[I 2024-11-17 07:57:46,081] Trial 51 finished with value: 0.5114026665687561 and parameters: {'C': 0.00010474911659200006, 'max_iter': 632, 'class_weight': 'balanced'}. Best is trial 44 with value: 0.511711597442627.\n",
      "[I 2024-11-17 07:57:46,431] Trial 52 finished with value: 0.5095716714859009 and parameters: {'C': 0.00032096187490841094, 'max_iter': 688, 'class_weight': 'balanced'}. Best is trial 44 with value: 0.511711597442627.\n",
      "[I 2024-11-17 07:57:46,700] Trial 53 finished with value: 0.5113557577133179 and parameters: {'C': 0.00010305338902776022, 'max_iter': 487, 'class_weight': 'balanced'}. Best is trial 44 with value: 0.511711597442627.\n",
      "[I 2024-11-17 07:57:47,025] Trial 54 finished with value: 0.5103759169578552 and parameters: {'C': 0.0001451334962757501, 'max_iter': 583, 'class_weight': 'balanced'}. Best is trial 44 with value: 0.511711597442627.\n",
      "[I 2024-11-17 07:57:47,385] Trial 55 finished with value: 0.5099859833717346 and parameters: {'C': 0.00044880813999274366, 'max_iter': 646, 'class_weight': 'balanced'}. Best is trial 44 with value: 0.511711597442627.\n",
      "[I 2024-11-17 07:57:47,813] Trial 56 finished with value: 0.5089428424835205 and parameters: {'C': 0.11058573914148041, 'max_iter': 516, 'class_weight': 'balanced'}. Best is trial 44 with value: 0.511711597442627.\n",
      "[I 2024-11-17 07:57:48,232] Trial 57 finished with value: 0.5100905299186707 and parameters: {'C': 0.0007577436863542121, 'max_iter': 621, 'class_weight': 'balanced'}. Best is trial 44 with value: 0.511711597442627.\n",
      "[I 2024-11-17 07:57:48,540] Trial 58 finished with value: 0.5107079148292542 and parameters: {'C': 0.00015698911928107613, 'max_iter': 824, 'class_weight': 'balanced'}. Best is trial 44 with value: 0.511711597442627.\n",
      "[I 2024-11-17 07:57:48,856] Trial 59 finished with value: 0.5092325210571289 and parameters: {'C': 0.00021592603414397846, 'max_iter': 679, 'class_weight': 'balanced'}. Best is trial 44 with value: 0.511711597442627.\n",
      "[I 2024-11-17 07:57:49,204] Trial 60 finished with value: 0.5095893740653992 and parameters: {'C': 0.0003234888730341246, 'max_iter': 569, 'class_weight': 'balanced'}. Best is trial 44 with value: 0.511711597442627.\n",
      "[I 2024-11-17 07:57:49,479] Trial 61 finished with value: 0.5115708112716675 and parameters: {'C': 0.00010032124687812251, 'max_iter': 675, 'class_weight': 'balanced'}. Best is trial 44 with value: 0.511711597442627.\n",
      "[I 2024-11-17 07:57:49,787] Trial 62 finished with value: 0.5104228258132935 and parameters: {'C': 0.00014959522497877523, 'max_iter': 725, 'class_weight': 'balanced'}. Best is trial 44 with value: 0.511711597442627.\n",
      "[I 2024-11-17 07:57:50,083] Trial 63 finished with value: 0.5106909871101379 and parameters: {'C': 0.00013625079361966028, 'max_iter': 548, 'class_weight': 'balanced'}. Best is trial 44 with value: 0.511711597442627.\n",
      "[I 2024-11-17 07:57:50,439] Trial 64 finished with value: 0.5094024538993835 and parameters: {'C': 0.0002317823472780581, 'max_iter': 630, 'class_weight': 'balanced'}. Best is trial 44 with value: 0.511711597442627.\n",
      "[I 2024-11-17 07:57:50,808] Trial 65 finished with value: 0.5100506544113159 and parameters: {'C': 0.00048485048190075665, 'max_iter': 670, 'class_weight': 'balanced'}. Best is trial 44 with value: 0.511711597442627.\n",
      "[I 2024-11-17 07:57:51,073] Trial 66 finished with value: 0.5117027759552002 and parameters: {'C': 0.00010579889925109463, 'max_iter': 756, 'class_weight': 'balanced'}. Best is trial 44 with value: 0.511711597442627.\n",
      "[I 2024-11-17 07:57:51,420] Trial 67 finished with value: 0.50956791639328 and parameters: {'C': 0.00018541809873308474, 'max_iter': 773, 'class_weight': 'balanced'}. Best is trial 44 with value: 0.511711597442627.\n",
      "[I 2024-11-17 07:57:51,699] Trial 68 finished with value: 0.5109336972236633 and parameters: {'C': 0.0002531728632499802, 'max_iter': 715, 'class_weight': None}. Best is trial 44 with value: 0.511711597442627.\n",
      "[I 2024-11-17 07:57:52,145] Trial 69 finished with value: 0.5113999843597412 and parameters: {'C': 0.00010240911570167455, 'max_iter': 846, 'class_weight': 'balanced'}. Best is trial 44 with value: 0.511711597442627.\n",
      "[I 2024-11-17 07:57:52,815] Trial 70 finished with value: 0.5089516639709473 and parameters: {'C': 0.047922055614563835, 'max_iter': 807, 'class_weight': 'balanced'}. Best is trial 44 with value: 0.511711597442627.\n",
      "[I 2024-11-17 07:57:53,121] Trial 71 finished with value: 0.5106998682022095 and parameters: {'C': 0.0001351916265189298, 'max_iter': 757, 'class_weight': 'balanced'}. Best is trial 44 with value: 0.511711597442627.\n",
      "[I 2024-11-17 07:57:53,430] Trial 72 finished with value: 0.5104847550392151 and parameters: {'C': 0.0001411582949391046, 'max_iter': 917, 'class_weight': 'balanced'}. Best is trial 44 with value: 0.511711597442627.\n",
      "[I 2024-11-17 07:57:53,793] Trial 73 finished with value: 0.5096893906593323 and parameters: {'C': 0.00033451528139939035, 'max_iter': 602, 'class_weight': 'balanced'}. Best is trial 44 with value: 0.511711597442627.\n",
      "[I 2024-11-17 07:57:54,107] Trial 74 finished with value: 0.5093501806259155 and parameters: {'C': 0.0001922284676825554, 'max_iter': 530, 'class_weight': 'balanced'}. Best is trial 44 with value: 0.511711597442627.\n",
      "[I 2024-11-17 07:57:54,406] Trial 75 finished with value: 0.5109822154045105 and parameters: {'C': 0.00013125051259558901, 'max_iter': 642, 'class_weight': 'balanced'}. Best is trial 44 with value: 0.511711597442627.\n",
      "[I 2024-11-17 07:57:54,772] Trial 76 finished with value: 0.5093786120414734 and parameters: {'C': 0.00025848451222599585, 'max_iter': 697, 'class_weight': 'balanced'}. Best is trial 44 with value: 0.511711597442627.\n",
      "[I 2024-11-17 07:57:55,054] Trial 77 finished with value: 0.5110822319984436 and parameters: {'C': 0.0001211072741140728, 'max_iter': 740, 'class_weight': 'balanced'}. Best is trial 44 with value: 0.511711597442627.\n",
      "[I 2024-11-17 07:57:55,307] Trial 78 finished with value: 0.5107659101486206 and parameters: {'C': 0.00010175945102955589, 'max_iter': 494, 'class_weight': None}. Best is trial 44 with value: 0.511711597442627.\n",
      "[I 2024-11-17 07:57:55,756] Trial 79 finished with value: 0.5089605450630188 and parameters: {'C': 0.2677443277475937, 'max_iter': 790, 'class_weight': 'balanced'}. Best is trial 44 with value: 0.511711597442627.\n",
      "[I 2024-11-17 07:57:56,055] Trial 80 finished with value: 0.5096510648727417 and parameters: {'C': 0.00017395375348026773, 'max_iter': 585, 'class_weight': 'balanced'}. Best is trial 44 with value: 0.511711597442627.\n",
      "[I 2024-11-17 07:57:56,326] Trial 81 finished with value: 0.5114911198616028 and parameters: {'C': 0.00010191549404537636, 'max_iter': 667, 'class_weight': 'balanced'}. Best is trial 44 with value: 0.511711597442627.\n",
      "[I 2024-11-17 07:57:56,682] Trial 82 finished with value: 0.5094236731529236 and parameters: {'C': 0.00021480784537939067, 'max_iter': 680, 'class_weight': 'balanced'}. Best is trial 44 with value: 0.511711597442627.\n",
      "[I 2024-11-17 07:57:56,974] Trial 83 finished with value: 0.5106078386306763 and parameters: {'C': 0.00015865620367693658, 'max_iter': 610, 'class_weight': 'balanced'}. Best is trial 44 with value: 0.511711597442627.\n",
      "[I 2024-11-17 07:57:57,274] Trial 84 finished with value: 0.5110441446304321 and parameters: {'C': 0.00012376945939137474, 'max_iter': 712, 'class_weight': 'balanced'}. Best is trial 44 with value: 0.511711597442627.\n",
      "[I 2024-11-17 07:57:57,647] Trial 85 finished with value: 0.5092431902885437 and parameters: {'C': 0.0002706062023897761, 'max_iter': 662, 'class_weight': 'balanced'}. Best is trial 44 with value: 0.511711597442627.\n",
      "[I 2024-11-17 07:57:57,925] Trial 86 finished with value: 0.5115354061126709 and parameters: {'C': 0.00010142875710534573, 'max_iter': 568, 'class_weight': 'balanced'}. Best is trial 44 with value: 0.511711597442627.\n",
      "[I 2024-11-17 07:57:58,280] Trial 87 finished with value: 0.5101453065872192 and parameters: {'C': 0.0004050557759083575, 'max_iter': 444, 'class_weight': 'balanced'}. Best is trial 44 with value: 0.511711597442627.\n",
      "[I 2024-11-17 07:57:58,563] Trial 88 finished with value: 0.5115000009536743 and parameters: {'C': 0.00010180844743659808, 'max_iter': 218, 'class_weight': 'balanced'}. Best is trial 44 with value: 0.511711597442627.\n",
      "[I 2024-11-17 07:57:59,010] Trial 89 finished with value: 0.5086073875427246 and parameters: {'C': 0.009663531074624934, 'max_iter': 884, 'class_weight': 'balanced'}. Best is trial 44 with value: 0.511711597442627.\n",
      "[I 2024-11-17 07:57:59,311] Trial 90 finished with value: 0.5106078386306763 and parameters: {'C': 0.00015822269949508045, 'max_iter': 222, 'class_weight': 'balanced'}. Best is trial 44 with value: 0.511711597442627.\n",
      "[I 2024-11-17 07:57:59,590] Trial 91 finished with value: 0.5113115310668945 and parameters: {'C': 0.00010370393050454442, 'max_iter': 329, 'class_weight': 'balanced'}. Best is trial 44 with value: 0.511711597442627.\n",
      "[I 2024-11-17 07:57:59,878] Trial 92 finished with value: 0.5107998251914978 and parameters: {'C': 0.00012705786179119215, 'max_iter': 577, 'class_weight': 'balanced'}. Best is trial 44 with value: 0.511711597442627.\n",
      "[I 2024-11-17 07:58:00,192] Trial 93 finished with value: 0.5095767974853516 and parameters: {'C': 0.00019817844298506185, 'max_iter': 745, 'class_weight': 'balanced'}. Best is trial 44 with value: 0.511711597442627.\n",
      "[I 2024-11-17 07:58:00,489] Trial 94 finished with value: 0.5110734105110168 and parameters: {'C': 0.00012162485848469574, 'max_iter': 545, 'class_weight': 'balanced'}. Best is trial 44 with value: 0.511711597442627.\n",
      "[I 2024-11-17 07:58:00,733] Trial 95 finished with value: 0.5107836127281189 and parameters: {'C': 0.00010161164366370614, 'max_iter': 376, 'class_weight': None}. Best is trial 44 with value: 0.511711597442627.\n",
      "[I 2024-11-17 07:58:01,017] Trial 96 finished with value: 0.5105370283126831 and parameters: {'C': 0.0001604862891089576, 'max_iter': 472, 'class_weight': 'balanced'}. Best is trial 44 with value: 0.511711597442627.\n",
      "[I 2024-11-17 07:58:01,332] Trial 97 finished with value: 0.5094236731529236 and parameters: {'C': 0.00020535423461184857, 'max_iter': 150, 'class_weight': 'balanced'}. Best is trial 44 with value: 0.511711597442627.\n",
      "[I 2024-11-17 07:58:01,713] Trial 98 finished with value: 0.5093193650245667 and parameters: {'C': 0.00029135545175573685, 'max_iter': 239, 'class_weight': 'balanced'}. Best is trial 44 with value: 0.511711597442627.\n",
      "[I 2024-11-17 07:58:02,134] Trial 99 finished with value: 0.5084604620933533 and parameters: {'C': 0.007186875013611362, 'max_iter': 767, 'class_weight': 'balanced'}. Best is trial 44 with value: 0.511711597442627.\n"
     ]
    }
   ],
   "source": [
    "def objective(trial):\n",
    "    C = trial.suggest_float('C', 1e-4, 1, log = True)\n",
    "    max_iter = trial.suggest_int('max_iter', 100, 1000)\n",
    "    class_weight = trial.suggest_categorical('class_weight', ['balanced', None])\n",
    "    logisticRegression = LogisticRegression(C=C, max_iter=max_iter, class_weight=class_weight)\n",
    "    logisticRegression.fit(X_train_res, y_train_res)\n",
    "    y_pred = logisticRegression.predict(X_test_selected)\n",
    "    return roc_auc_score(y_test, y_pred)\n",
    "\n",
    "study = optuna.create_study(direction='maximize')\n",
    "study.optimize(objective, n_trials=100)"
   ]
  },
  {
   "cell_type": "code",
   "execution_count": 6,
   "id": "d7962f92d2773515",
   "metadata": {
    "ExecuteTime": {
     "end_time": "2024-11-16T18:41:42.882175Z",
     "start_time": "2024-11-16T18:41:42.878160Z"
    }
   },
   "outputs": [
    {
     "name": "stdout",
     "output_type": "stream",
     "text": [
      "Best ROC AUC: 0.511711597442627\n",
      "Best hyperparameters: {'C': 0.00010694612368649073, 'max_iter': 723, 'class_weight': 'balanced'}\n"
     ]
    }
   ],
   "source": [
    "print(f\"Best ROC AUC: {study.best_value}\")\n",
    "print(f\"Best hyperparameters: {study.best_params}\")"
   ]
  },
  {
   "cell_type": "markdown",
   "id": "6186573b90156aa6",
   "metadata": {},
   "source": [
    "# Support Vector Machines"
   ]
  },
  {
   "cell_type": "markdown",
   "id": "54e045d8c3922946",
   "metadata": {},
   "source": [
    "SelectFromModel for selecting features for Support Vector Machines"
   ]
  },
  {
   "cell_type": "code",
   "execution_count": 7,
   "id": "e8f651f9bf9aeb65",
   "metadata": {
    "ExecuteTime": {
     "end_time": "2024-11-16T18:42:36.874699Z",
     "start_time": "2024-11-16T18:41:42.931383Z"
    }
   },
   "outputs": [
    {
     "name": "stdout",
     "output_type": "stream",
     "text": [
      "[W] [07:58:02.462215] SVC with the linear kernel can be much faster using the specialized solver provided by LinearSVC. Consider switching to LinearSVC if tranining takes too long.\n"
     ]
    }
   ],
   "source": [
    "X_train, X_test, y_train, y_test = train_test_split(X, y, test_size=0.2, random_state=42)\n",
    "\n",
    "scaler = StandardScaler()\n",
    "X_train_scaled = scaler.fit_transform(X_train)\n",
    "X_test_scaled = scaler.transform(X_test)\n",
    "\n",
    "svc = cuSVC(kernel = \"linear\")\n",
    "\n",
    "selector = SelectFromModel(estimator=svc).fit(X_train_scaled, y_train)\n",
    "X_train_selected = selector.transform(X_train_scaled)\n",
    "X_test_selected = selector.transform(X_test_scaled)"
   ]
  },
  {
   "cell_type": "markdown",
   "id": "201cee508939a9b",
   "metadata": {},
   "source": [
    "Balancing the dataset using ADASYN"
   ]
  },
  {
   "cell_type": "code",
   "execution_count": 8,
   "id": "49a548398cc0fba4",
   "metadata": {
    "ExecuteTime": {
     "end_time": "2024-11-16T18:42:39.235239Z",
     "start_time": "2024-11-16T18:42:36.927996Z"
    }
   },
   "outputs": [],
   "source": [
    "adasyn = ADASYN()\n",
    "X_train_res, y_train_res = adasyn.fit_resample(X_train_selected, y_train)"
   ]
  },
  {
   "cell_type": "markdown",
   "id": "2deafd473f21297a",
   "metadata": {},
   "source": [
    "Hyperparameter tuning using Optuna"
   ]
  },
  {
   "cell_type": "code",
   "execution_count": null,
   "id": "b79a557e8bf7a6ee",
   "metadata": {
    "ExecuteTime": {
     "start_time": "2024-11-16T18:42:39.253154Z"
    }
   },
   "outputs": [
    {
     "name": "stderr",
     "output_type": "stream",
     "text": [
      "[I 2024-11-17 07:58:57,929] A new study created in memory with name: no-name-3a22408a-edfa-484c-b6d9-8b69b86829b6\n",
      "[I 2024-11-17 08:00:56,498] Trial 0 finished with value: 0.5 and parameters: {'C': 0.0002943101979845989, 'gamma': 0.0004973045828976662, 'kernel': 'sigmoid'}. Best is trial 0 with value: 0.5.\n",
      "[I 2024-11-17 08:03:07,775] Trial 1 finished with value: 0.5 and parameters: {'C': 0.21706116167670755, 'gamma': 2.0162253973954183e-05, 'kernel': 'rbf'}. Best is trial 0 with value: 0.5.\n"
     ]
    }
   ],
   "source": [
    "X_train_res_cp = cp.array(X_train_res)\n",
    "y_train_res_cp = cp.array(y_train_res)\n",
    "X_test_selected_cp = cp.array(X_test_selected)\n",
    "y_test_cp = cp.array(y_test)\n",
    "\n",
    "def objective(trial):\n",
    "    C = trial.suggest_float('C', 1e-5, 1e5, log = True)\n",
    "    gamma = trial.suggest_float('gamma', 1e-5, 1e5, log= True )\n",
    "    kernel = trial.suggest_categorical('kernel', ['poly', 'rbf', 'sigmoid'])\n",
    "    svm = cuSVC(C=C, gamma=gamma, kernel=kernel)\n",
    "    svm.fit(X_train_res_cp, y_train_res_cp)\n",
    "    y_pred = svm.predict(X_test_selected_cp) \n",
    "    return roc_auc_score(y_test_cp, y_pred)\n",
    "\n",
    "study = optuna.create_study(direction='maximize')\n",
    "study.optimize(objective, n_trials=20)"
   ]
  }
 ],
 "metadata": {
  "kernelspec": {
   "display_name": "Python 3 (ipykernel)",
   "language": "python",
   "name": "python3"
  },
  "language_info": {
   "codemirror_mode": {
    "name": "ipython",
    "version": 3
   },
   "file_extension": ".py",
   "mimetype": "text/x-python",
   "name": "python",
   "nbconvert_exporter": "python",
   "pygments_lexer": "ipython3",
   "version": "3.10.15"
  }
 },
 "nbformat": 4,
 "nbformat_minor": 5
}
