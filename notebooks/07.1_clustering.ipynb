{
 "cells": [
  {
   "cell_type": "code",
   "id": "initial_id",
   "metadata": {
    "collapsed": true,
    "ExecuteTime": {
     "end_time": "2024-12-22T19:37:35.799920Z",
     "start_time": "2024-12-22T19:37:35.792542Z"
    }
   },
   "source": [
    "import pandas as pd\n",
    "from cuml.cluster import KMeans as cuKMeans\n",
    "from sklearn.preprocessing import StandardScaler\n",
    "from cuml.metrics import adjusted_rand_score\n",
    "import cupy as cp\n",
    "import optuna\n",
    "import numpy as np\n",
    "from cuml import NearestNeighbors as cuNearestNeighbors\n",
    "from sklearn.metrics import silhouette_score, make_scorer\n",
    "import cudf\n",
    "import matplotlib.pyplot as plt\n",
    "from sklearn.cluster import MiniBatchKMeans\n",
    "from sklearn.cluster import OPTICS\n",
    "from cuml.metrics.cluster.silhouette_score import cython_silhouette_score as cu_silhouette_score\n",
    "from sklearn.metrics import adjusted_rand_score, mutual_info_score, homogeneity_score, completeness_score, v_measure_score, silhouette_score, calinski_harabasz_score, davies_bouldin_score, make_scorer\n",
    "import os\n",
    "import gc\n",
    "from sklearn.model_selection import GridSearchCV\n",
    "import pickle\n",
    "import joblib\n",
    "from cuml.cluster import AgglomerativeClustering\n",
    "from sklearn.metrics import pairwise_distances_argmin_min"
   ],
   "outputs": [],
   "execution_count": 54
  },
  {
   "metadata": {
    "ExecuteTime": {
     "end_time": "2024-12-22T19:15:05.165584Z",
     "start_time": "2024-12-22T19:15:05.159978Z"
    }
   },
   "cell_type": "code",
   "source": [
    "\n",
    "class ClusteringMetrics:\n",
    "    def __init__(self, X, model):\n",
    "        if isinstance(X, pd.DataFrame):\n",
    "            self.X = X.reset_index(drop=True)\n",
    "        else:\n",
    "            self.X = pd.DataFrame(X).reset_index(drop=True)\n",
    "        self.model = model\n",
    "\n",
    "    def train(self):\n",
    "        self.model.fit(self.X)\n",
    "\n",
    "    def compute_internalEvaluation(self):\n",
    "        if hasattr(self.model, 'predict'):\n",
    "            y_pred = self.model.predict(self.X)\n",
    "        elif hasattr(self.model, 'labels_'):\n",
    "            y_pred = self.model.labels_\n",
    "        else:\n",
    "            raise AttributeError(\"The model does not have a valid method to predict cluster labels.\")\n",
    "\n",
    "        # Exclude noise points for Silhouette Score\n",
    "        valid_points = y_pred != -1\n",
    "        if len(set(y_pred[valid_points])) < 2:\n",
    "            raise ValueError(\"Cannot compute Silhouette Score with less than 2 clusters (excluding noise).\")\n",
    "\n",
    "        self.shiloette_score = cu_silhouette_score(cp.asarray(self.X[valid_points]), cp.asarray(y_pred[valid_points]))\n",
    "        self.calinski_harabasz_score = calinski_harabasz_score(self.X, y_pred)\n",
    "        self.davies_bouldin_score = davies_bouldin_score(self.X, y_pred)\n",
    "\n",
    "\n",
    "    def compute_externalEvaluation(self, y_true=None):\n",
    "        self.y_true  = np.round(y_true).astype(int)\n",
    "        if self.y_true is None:\n",
    "            raise ValueError(\"Ground truth labels (y_true) are required for external evaluation.\")\n",
    "\n",
    "        if hasattr(self.model, 'predict'):\n",
    "            y_pred = self.model.predict(self.X)\n",
    "        elif hasattr(self.model, 'labels_'):\n",
    "            y_pred = self.model.labels_\n",
    "        else:\n",
    "            raise AttributeError(\"The model does not have a valid method to predict cluster labels.\")\n",
    "\n",
    "        self.adjusted_rand = adjusted_rand_score(self.y_true, y_pred)\n",
    "        self.mutual_info = mutual_info_score(self.y_true, y_pred)\n",
    "        self.homogeneity = homogeneity_score(self.y_true, y_pred)\n",
    "        self.completeness = completeness_score(self.y_true, y_pred)\n",
    "        self.v_measure = v_measure_score(self.y_true, y_pred)\n",
    "\n",
    "    def print_metrics(self):\n",
    "        print(f\"Silhouette Score: {self.shiloette_score}\")\n",
    "        print(f\"Calinski Harabasz Score: {self.calinski_harabasz_score}\")\n",
    "        print(f\"Davies Bouldin Score: {self.davies_bouldin_score}\")\n",
    "        if hasattr(self, 'adjusted_rand'):\n",
    "            print(f\"Adjusted Rand Index: {self.adjusted_rand}\")\n",
    "            print(f\"Mutual Information Score: {self.mutual_info}\")\n",
    "            print(f\"Homogeneity Score: {self.homogeneity}\")\n",
    "            print(f\"Completeness Score: {self.completeness}\")\n",
    "            print(f\"V-Measure Score: {self.v_measure}\")\n",
    "\n",
    "    def save_model(self, path):\n",
    "        directory = os.path.dirname(path)\n",
    "        if not os.path.exists(directory):\n",
    "            os.makedirs(directory)\n",
    "        joblib.dump(self.model, path)\n",
    "\n",
    "    def save_model_with_pickle(self, path):\n",
    "        # Crear el directorio si no existe\n",
    "        directory = os.path.dirname(path)\n",
    "        if not os.path.exists(directory):\n",
    "            os.makedirs(directory)\n",
    "\n",
    "        # Guardar el modelo usando pickle\n",
    "        with open(path, 'wb') as file:\n",
    "            pickle.dump(self.model, file)"
   ],
   "id": "5082c24b160078cf",
   "outputs": [],
   "execution_count": 42
  },
  {
   "metadata": {
    "ExecuteTime": {
     "end_time": "2024-12-22T19:15:09.751842Z",
     "start_time": "2024-12-22T19:15:09.659335Z"
    }
   },
   "cell_type": "code",
   "source": [
    "df = pd.read_parquet('../data/processed/selected_features_df.parquet')\n",
    "df.shape"
   ],
   "id": "7125aa1751a23435",
   "outputs": [
    {
     "data": {
      "text/plain": [
       "(266469, 97)"
      ]
     },
     "execution_count": 43,
     "metadata": {},
     "output_type": "execute_result"
    }
   ],
   "execution_count": 43
  },
  {
   "metadata": {},
   "cell_type": "markdown",
   "source": "We will standardize the data before applying KMeans algorithms since it is sensitive to the scale of the data due to the use of the Euclidean distance.",
   "id": "f4329b90a1377fba"
  },
  {
   "metadata": {
    "ExecuteTime": {
     "end_time": "2024-12-22T19:15:13.273183Z",
     "start_time": "2024-12-22T19:15:11.908538Z"
    }
   },
   "cell_type": "code",
   "source": [
    "# Scale the data\n",
    "scaler = StandardScaler()\n",
    "X_scaled = scaler.fit_transform(df)\n",
    "\n",
    "X_gpu = cudf.DataFrame(X_scaled)"
   ],
   "id": "8731571ca31eae6c",
   "outputs": [],
   "execution_count": 44
  },
  {
   "metadata": {},
   "cell_type": "markdown",
   "source": [
    "## HOPKINS STATISTIC\n",
    "\n",
    "First, we are going to compute the Hopkins statistic to check if data present a cluster tendency or if it is uniformly distributed."
   ],
   "id": "2a9e5be61777ece8"
  },
  {
   "metadata": {
    "ExecuteTime": {
     "end_time": "2024-12-07T10:17:39.907519Z",
     "start_time": "2024-12-07T10:17:39.903965Z"
    }
   },
   "cell_type": "code",
   "source": [
    "def hopkins(X):\n",
    "    d = X.shape[1]\n",
    "    n = len(X)\n",
    "    m = int(0.1 * n)\n",
    "    nbrs = cuNearestNeighbors(n_neighbors=1).fit(X.values)\n",
    "\n",
    "    rand_X = np.random.rand(n, d)\n",
    "    ujd = []\n",
    "    wjd = []\n",
    "\n",
    "    for j in range(m):\n",
    "        u_dist, _ = nbrs.kneighbors(rand_X[j].reshape(1, -1), 2, return_distance=True)\n",
    "        ujd.append(u_dist[0][1])\n",
    "        w_dist, _ = nbrs.kneighbors(X.iloc[j].values.reshape(1, -1), 2, return_distance=True)\n",
    "        wjd.append(w_dist[0][1])\n",
    "\n",
    "    H = sum(ujd) / (sum(ujd) + sum(wjd))\n",
    "    if np.isnan(H):\n",
    "        print(ujd, wjd)\n",
    "        H = 0\n",
    "\n",
    "    return H"
   ],
   "id": "c29dceeb3cd22558",
   "outputs": [],
   "execution_count": 4
  },
  {
   "metadata": {
    "ExecuteTime": {
     "end_time": "2024-12-06T13:05:22.365570Z",
     "start_time": "2024-12-06T13:01:31.548004Z"
    }
   },
   "cell_type": "code",
   "source": [
    "h_statistic = hopkins(df)\n",
    "print(f\"Hopkins Statistic: {h_statistic}\")"
   ],
   "id": "257ecde20a97680d",
   "outputs": [
    {
     "name": "stdout",
     "output_type": "stream",
     "text": [
      "Hopkins Statistic: 0.9645846964724479\n"
     ]
    }
   ],
   "execution_count": 16
  },
  {
   "metadata": {},
   "cell_type": "markdown",
   "source": "The Hopkins statistic is very close to 1, so we can say that the data is good for clustering.",
   "id": "a4b3cd34c6a0bccf"
  },
  {
   "metadata": {},
   "cell_type": "markdown",
   "source": "## KMeans",
   "id": "8b5201b64048b8aa"
  },
  {
   "metadata": {},
   "cell_type": "markdown",
   "source": "Since KKeans is an algorithm that needs a number of clusters as a hyperparameter, we will use the elbow method in order to discover the number of clusters. This method works by computing the sum of squared distances (inertia) from points to their centroids. We will choose the point were the curve starts to flatten. It is important to mention that because of the size of our dataset we will be using Minibatch KMeans to apply this method.",
   "id": "89518fb0d81e5913"
  },
  {
   "metadata": {
    "ExecuteTime": {
     "end_time": "2024-12-20T17:39:14.803208Z",
     "start_time": "2024-12-20T17:39:11.230110Z"
    }
   },
   "cell_type": "code",
   "source": [
    "n_rows = X_scaled.shape[0]\n",
    "K = range(1,11)\n",
    "inertias = []\n",
    "for k in K:\n",
    "    mbkmeans=MiniBatchKMeans(n_clusters=k, batch_size=3000)\n",
    "    mbkmeans.fit(X_scaled)\n",
    "    inertias.append(mbkmeans.inertia_)"
   ],
   "id": "52b5d82504a1570e",
   "outputs": [],
   "execution_count": 4
  },
  {
   "metadata": {
    "ExecuteTime": {
     "end_time": "2024-12-20T17:39:17.534785Z",
     "start_time": "2024-12-20T17:39:17.449136Z"
    }
   },
   "cell_type": "code",
   "source": [
    "plt.figure(figsize=(8, 5))\n",
    "plt.plot(K, inertias, marker='o')\n",
    "plt.xlabel('Number of Clusters (k)')\n",
    "plt.ylabel('Inertia (Sum of Squared Distances)')\n",
    "plt.title('Elbow Method for Optimal k')\n",
    "plt.show()"
   ],
   "id": "6192e054315695b1",
   "outputs": [
    {
     "data": {
      "text/plain": [
       "<Figure size 800x500 with 1 Axes>"
      ],
      "image/png": "[encoded data removed]"
     },
     "metadata": {},
     "output_type": "display_data"
    }
   ],
   "execution_count": 5
  },
  {
   "metadata": {},
   "cell_type": "markdown",
   "source": "As we can see in the plot above, the elbow is at k = 3, so we are going to pick 3 clusters as the number of clusters. Now, we will perform hyperparameter tuning with n_clusters = 3.",
   "id": "87efdc4028180c36"
  },
  {
   "metadata": {
    "ExecuteTime": {
     "end_time": "2024-12-22T19:15:27.185863Z",
     "start_time": "2024-12-22T19:15:27.009758Z"
    }
   },
   "cell_type": "code",
   "source": [
    "X_scaled = pd.DataFrame(X_scaled)\n",
    "X_reduced = X_scaled.sample(n=50000, random_state=42)\n",
    "X_gpu = cudf.DataFrame(X_reduced)"
   ],
   "id": "1fcda481d79e46aa",
   "outputs": [],
   "execution_count": 45
  },
  {
   "metadata": {},
   "cell_type": "markdown",
   "source": "### Hyperparameter tuning",
   "id": "c7ba695c04d95763"
  },
  {
   "metadata": {
    "ExecuteTime": {
     "end_time": "2024-12-21T10:27:02.148778Z",
     "start_time": "2024-12-21T10:27:02.146231Z"
    }
   },
   "cell_type": "code",
   "outputs": [],
   "execution_count": 23,
   "source": [
    "def objective(trial):\n",
    "    init = trial.suggest_categorical('init', ['k-means++', 'random'])\n",
    "    max_iter = trial.suggest_int('max_iter', 100, 1000)\n",
    "    tol = trial.suggest_float('tol', 1e-5, 1e-1)\n",
    "    n_init = trial.suggest_int('n_init', 1, 10)\n",
    "    km = cuKMeans(n_clusters=3, init=init, max_iter=max_iter, tol=tol, n_init=n_init)\n",
    "    labels = km.fit_predict(X_gpu)\n",
    "    score = silhouette_score(X_reduced, labels.to_numpy())\n",
    "    return score"
   ],
   "id": "98b8b1de087aac82"
  },
  {
   "metadata": {
    "ExecuteTime": {
     "end_time": "2024-12-21T10:28:35.428869Z",
     "start_time": "2024-12-21T10:27:04.748190Z"
    }
   },
   "cell_type": "code",
   "source": [
    "study = optuna.create_study(direction='maximize', study_name='kmeans_tuning')\n",
    "study.optimize(objective, n_trials=5)"
   ],
   "id": "58d27a9004ac46fb",
   "outputs": [
    {
     "name": "stderr",
     "output_type": "stream",
     "text": [
      "[I 2024-12-21 11:27:04,749] A new study created in memory with name: kmeans_tuning\n",
      "[I 2024-12-21 11:27:22,468] Trial 0 finished with value: 0.0655806818419322 and parameters: {'init': 'k-means++', 'max_iter': 604, 'tol': 0.046930191242524955, 'n_init': 4}. Best is trial 0 with value: 0.0655806818419322.\n",
      "[I 2024-12-21 11:27:40,599] Trial 1 finished with value: 0.0655806818419322 and parameters: {'init': 'k-means++', 'max_iter': 997, 'tol': 0.015579173755999372, 'n_init': 9}. Best is trial 0 with value: 0.0655806818419322.\n",
      "[I 2024-12-21 11:27:58,920] Trial 2 finished with value: 0.0654502234707574 and parameters: {'init': 'random', 'max_iter': 574, 'tol': 0.026869552363844754, 'n_init': 5}. Best is trial 0 with value: 0.0655806818419322.\n",
      "[I 2024-12-21 11:28:17,274] Trial 3 finished with value: 0.06564651689573334 and parameters: {'init': 'random', 'max_iter': 586, 'tol': 0.03255103464395796, 'n_init': 8}. Best is trial 3 with value: 0.06564651689573334.\n",
      "[I 2024-12-21 11:28:35,427] Trial 4 finished with value: 0.06527749816744234 and parameters: {'init': 'random', 'max_iter': 965, 'tol': 0.07654759134468883, 'n_init': 10}. Best is trial 3 with value: 0.06564651689573334.\n"
     ]
    }
   ],
   "execution_count": 24
  },
  {
   "metadata": {
    "ExecuteTime": {
     "end_time": "2024-12-21T10:29:37.677282Z",
     "start_time": "2024-12-21T10:29:37.604265Z"
    }
   },
   "cell_type": "code",
   "source": "optuna.visualization.plot_param_importances(study)",
   "id": "6d6f686c17afd808",
   "outputs": [
    {
     "data": {
      "application/vnd.plotly.v1+json": {
       "data": [
        {
         "cliponaxis": false,
         "hovertemplate": [
          "init (CategoricalDistribution): 0.21308877107761554<extra></extra>",
          "max_iter (IntDistribution): 0.21408582280645494<extra></extra>",
          "tol (FloatDistribution): 0.2543531822309484<extra></extra>",
          "n_init (IntDistribution): 0.3184722238849812<extra></extra>"
         ],
         "name": "Objective Value",
         "orientation": "h",
         "text": [
          "0.21",
          "0.21",
          "0.25",
          "0.32"
         ],
         "textposition": "outside",
         "x": [
          0.21308877107761554,
          0.21408582280645494,
          0.2543531822309484,
          0.3184722238849812
         ],
         "y": [
          "init",
          "max_iter",
          "tol",
          "n_init"
         ],
         "type": "bar"
        }
       ],
       "layout": {
        "title": {
         "text": "Hyperparameter Importances"
        },
        "xaxis": {
         "title": {
          "text": "Hyperparameter Importance"
         }
        },
        "yaxis": {
         "title": {
          "text": "Hyperparameter"
         }
        },
        "template": {
         "data": {
          "histogram2dcontour": [
           {
            "type": "histogram2dcontour",
            "colorbar": {
             "outlinewidth": 0,
             "ticks": ""
            },
            "colorscale": [
             [
              0.0,
              "#0d0887"
             ],
             [
              0.1111111111111111,
              "#46039f"
             ],
             [
              0.2222222222222222,
              "#7201a8"
             ],
             [
              0.3333333333333333,
              "#9c179e"
             ],
             [
              0.4444444444444444,
              "#bd3786"
             ],
             [
              0.5555555555555556,
              "#d8576b"
             ],
             [
              0.6666666666666666,
              "#ed7953"
             ],
             [
              0.7777777777777778,
              "#fb9f3a"
             ],
             [
              0.8888888888888888,
              "#fdca26"
             ],
             [
              1.0,
              "#f0f921"
             ]
            ]
           }
          ],
          "choropleth": [
           {
            "type": "choropleth",
            "colorbar": {
             "outlinewidth": 0,
             "ticks": ""
            }
           }
          ],
          "histogram2d": [
           {
            "type": "histogram2d",
            "colorbar": {
             "outlinewidth": 0,
             "ticks": ""
            },
            "colorscale": [
             [
              0.0,
              "#0d0887"
             ],
             [
              0.1111111111111111,
              "#46039f"
             ],
             [
              0.2222222222222222,
              "#7201a8"
             ],
             [
              0.3333333333333333,
              "#9c179e"
             ],
             [
              0.4444444444444444,
              "#bd3786"
             ],
             [
              0.5555555555555556,
              "#d8576b"
             ],
             [
              0.6666666666666666,
              "#ed7953"
             ],
             [
              0.7777777777777778,
              "#fb9f3a"
             ],
             [
              0.8888888888888888,
              "#fdca26"
             ],
             [
              1.0,
              "#f0f921"
             ]
            ]
           }
          ],
          "heatmap": [
           {
            "type": "heatmap",
            "colorbar": {
             "outlinewidth": 0,
             "ticks": ""
            },
            "colorscale": [
             [
              0.0,
              "#0d0887"
             ],
             [
              0.1111111111111111,
              "#46039f"
             ],
             [
              0.2222222222222222,
              "#7201a8"
             ],
             [
              0.3333333333333333,
              "#9c179e"
             ],
             [
              0.4444444444444444,
              "#bd3786"
             ],
             [
              0.5555555555555556,
              "#d8576b"
             ],
             [
              0.6666666666666666,
              "#ed7953"
             ],
             [
              0.7777777777777778,
              "#fb9f3a"
             ],
             [
              0.8888888888888888,
              "#fdca26"
             ],
             [
              1.0,
              "#f0f921"
             ]
            ]
           }
          ],
          "heatmapgl": [
           {
            "type": "heatmapgl",
            "colorbar": {
             "outlinewidth": 0,
             "ticks": ""
            },
            "colorscale": [
             [
              0.0,
              "#0d0887"
             ],
             [
              0.1111111111111111,
              "#46039f"
             ],
             [
              0.2222222222222222,
              "#7201a8"
             ],
             [
              0.3333333333333333,
              "#9c179e"
             ],
             [
              0.4444444444444444,
              "#bd3786"
             ],
             [
              0.5555555555555556,
              "#d8576b"
             ],
             [
              0.6666666666666666,
              "#ed7953"
             ],
             [
              0.7777777777777778,
              "#fb9f3a"
             ],
             [
              0.8888888888888888,
              "#fdca26"
             ],
             [
              1.0,
              "#f0f921"
             ]
            ]
           }
          ],
          "contourcarpet": [
           {
            "type": "contourcarpet",
            "colorbar": {
             "outlinewidth": 0,
             "ticks": ""
            }
           }
          ],
          "contour": [
           {
            "type": "contour",
            "colorbar": {
             "outlinewidth": 0,
             "ticks": ""
            },
            "colorscale": [
             [
              0.0,
              "#0d0887"
             ],
             [
              0.1111111111111111,
              "#46039f"
             ],
             [
              0.2222222222222222,
              "#7201a8"
             ],
             [
              0.3333333333333333,
              "#9c179e"
             ],
             [
              0.4444444444444444,
              "#bd3786"
             ],
             [
              0.5555555555555556,
              "#d8576b"
             ],
             [
              0.6666666666666666,
              "#ed7953"
             ],
             [
              0.7777777777777778,
              "#fb9f3a"
             ],
             [
              0.8888888888888888,
              "#fdca26"
             ],
             [
              1.0,
              "#f0f921"
             ]
            ]
           }
          ],
          "surface": [
           {
            "type": "surface",
            "colorbar": {
             "outlinewidth": 0,
             "ticks": ""
            },
            "colorscale": [
             [
              0.0,
              "#0d0887"
             ],
             [
              0.1111111111111111,
              "#46039f"
             ],
             [
              0.2222222222222222,
              "#7201a8"
             ],
             [
              0.3333333333333333,
              "#9c179e"
             ],
             [
              0.4444444444444444,
              "#bd3786"
             ],
             [
              0.5555555555555556,
              "#d8576b"
             ],
             [
              0.6666666666666666,
              "#ed7953"
             ],
             [
              0.7777777777777778,
              "#fb9f3a"
             ],
             [
              0.8888888888888888,
              "#fdca26"
             ],
             [
              1.0,
              "#f0f921"
             ]
            ]
           }
          ],
          "mesh3d": [
           {
            "type": "mesh3d",
            "colorbar": {
             "outlinewidth": 0,
             "ticks": ""
            }
           }
          ],
          "scatter": [
           {
            "fillpattern": {
             "fillmode": "overlay",
             "size": 10,
             "solidity": 0.2
            },
            "type": "scatter"
           }
          ],
          "parcoords": [
           {
            "type": "parcoords",
            "line": {
             "colorbar": {
              "outlinewidth": 0,
              "ticks": ""
             }
            }
           }
          ],
          "scatterpolargl": [
           {
            "type": "scatterpolargl",
            "marker": {
             "colorbar": {
              "outlinewidth": 0,
              "ticks": ""
             }
            }
           }
          ],
          "bar": [
           {
            "error_x": {
             "color": "#2a3f5f"
            },
            "error_y": {
             "color": "#2a3f5f"
            },
            "marker": {
             "line": {
              "color": "#E5ECF6",
              "width": 0.5
             },
             "pattern": {
              "fillmode": "overlay",
              "size": 10,
              "solidity": 0.2
             }
            },
            "type": "bar"
           }
          ],
          "scattergeo": [
           {
            "type": "scattergeo",
            "marker": {
             "colorbar": {
              "outlinewidth": 0,
              "ticks": ""
             }
            }
           }
          ],
          "scatterpolar": [
           {
            "type": "scatterpolar",
            "marker": {
             "colorbar": {
              "outlinewidth": 0,
              "ticks": ""
             }
            }
           }
          ],
          "histogram": [
           {
            "marker": {
             "pattern": {
              "fillmode": "overlay",
              "size": 10,
              "solidity": 0.2
             }
            },
            "type": "histogram"
           }
          ],
          "scattergl": [
           {
            "type": "scattergl",
            "marker": {
             "colorbar": {
              "outlinewidth": 0,
              "ticks": ""
             }
            }
           }
          ],
          "scatter3d": [
           {
            "type": "scatter3d",
            "line": {
             "colorbar": {
              "outlinewidth": 0,
              "ticks": ""
             }
            },
            "marker": {
             "colorbar": {
              "outlinewidth": 0,
              "ticks": ""
             }
            }
           }
          ],
          "scattermapbox": [
           {
            "type": "scattermapbox",
            "marker": {
             "colorbar": {
              "outlinewidth": 0,
              "ticks": ""
             }
            }
           }
          ],
          "scatterternary": [
           {
            "type": "scatterternary",
            "marker": {
             "colorbar": {
              "outlinewidth": 0,
              "ticks": ""
             }
            }
           }
          ],
          "scattercarpet": [
           {
            "type": "scattercarpet",
            "marker": {
             "colorbar": {
              "outlinewidth": 0,
              "ticks": ""
             }
            }
           }
          ],
          "carpet": [
           {
            "aaxis": {
             "endlinecolor": "#2a3f5f",
             "gridcolor": "white",
             "linecolor": "white",
             "minorgridcolor": "white",
             "startlinecolor": "#2a3f5f"
            },
            "baxis": {
             "endlinecolor": "#2a3f5f",
             "gridcolor": "white",
             "linecolor": "white",
             "minorgridcolor": "white",
             "startlinecolor": "#2a3f5f"
            },
            "type": "carpet"
           }
          ],
          "table": [
           {
            "cells": {
             "fill": {
              "color": "#EBF0F8"
             },
             "line": {
              "color": "white"
             }
            },
            "header": {
             "fill": {
              "color": "#C8D4E3"
             },
             "line": {
              "color": "white"
             }
            },
            "type": "table"
           }
          ],
          "barpolar": [
           {
            "marker": {
             "line": {
              "color": "#E5ECF6",
              "width": 0.5
             },
             "pattern": {
              "fillmode": "overlay",
              "size": 10,
              "solidity": 0.2
             }
            },
            "type": "barpolar"
           }
          ],
          "pie": [
           {
            "automargin": true,
            "type": "pie"
           }
          ]
         },
         "layout": {
          "autotypenumbers": "strict",
          "colorway": [
           "#636efa",
           "#EF553B",
           "#00cc96",
           "#ab63fa",
           "#FFA15A",
           "#19d3f3",
           "#FF6692",
           "#B6E880",
           "#FF97FF",
           "#FECB52"
          ],
          "font": {
           "color": "#2a3f5f"
          },
          "hovermode": "closest",
          "hoverlabel": {
           "align": "left"
          },
          "paper_bgcolor": "white",
          "plot_bgcolor": "#E5ECF6",
          "polar": {
           "bgcolor": "#E5ECF6",
           "angularaxis": {
            "gridcolor": "white",
            "linecolor": "white",
            "ticks": ""
           },
           "radialaxis": {
            "gridcolor": "white",
            "linecolor": "white",
            "ticks": ""
           }
          },
          "ternary": {
           "bgcolor": "#E5ECF6",
           "aaxis": {
            "gridcolor": "white",
            "linecolor": "white",
            "ticks": ""
           },
           "baxis": {
            "gridcolor": "white",
            "linecolor": "white",
            "ticks": ""
           },
           "caxis": {
            "gridcolor": "white",
            "linecolor": "white",
            "ticks": ""
           }
          },
          "coloraxis": {
           "colorbar": {
            "outlinewidth": 0,
            "ticks": ""
           }
          },
          "colorscale": {
           "sequential": [
            [
             0.0,
             "#0d0887"
            ],
            [
             0.1111111111111111,
             "#46039f"
            ],
            [
             0.2222222222222222,
             "#7201a8"
            ],
            [
             0.3333333333333333,
             "#9c179e"
            ],
            [
             0.4444444444444444,
             "#bd3786"
            ],
            [
             0.5555555555555556,
             "#d8576b"
            ],
            [
             0.6666666666666666,
             "#ed7953"
            ],
            [
             0.7777777777777778,
             "#fb9f3a"
            ],
            [
             0.8888888888888888,
             "#fdca26"
            ],
            [
             1.0,
             "#f0f921"
            ]
           ],
           "sequentialminus": [
            [
             0.0,
             "#0d0887"
            ],
            [
             0.1111111111111111,
             "#46039f"
            ],
            [
             0.2222222222222222,
             "#7201a8"
            ],
            [
             0.3333333333333333,
             "#9c179e"
            ],
            [
             0.4444444444444444,
             "#bd3786"
            ],
            [
             0.5555555555555556,
             "#d8576b"
            ],
            [
             0.6666666666666666,
             "#ed7953"
            ],
            [
             0.7777777777777778,
             "#fb9f3a"
            ],
            [
             0.8888888888888888,
             "#fdca26"
            ],
            [
             1.0,
             "#f0f921"
            ]
           ],
           "diverging": [
            [
             0,
             "#8e0152"
            ],
            [
             0.1,
             "#c51b7d"
            ],
            [
             0.2,
             "#de77ae"
            ],
            [
             0.3,
             "#f1b6da"
            ],
            [
             0.4,
             "#fde0ef"
            ],
            [
             0.5,
             "#f7f7f7"
            ],
            [
             0.6,
             "#e6f5d0"
            ],
            [
             0.7,
             "#b8e186"
            ],
            [
             0.8,
             "#7fbc41"
            ],
            [
             0.9,
             "#4d9221"
            ],
            [
             1,
             "#276419"
            ]
           ]
          },
          "xaxis": {
           "gridcolor": "white",
           "linecolor": "white",
           "ticks": "",
           "title": {
            "standoff": 15
           },
           "zerolinecolor": "white",
           "automargin": true,
           "zerolinewidth": 2
          },
          "yaxis": {
           "gridcolor": "white",
           "linecolor": "white",
           "ticks": "",
           "title": {
            "standoff": 15
           },
           "zerolinecolor": "white",
           "automargin": true,
           "zerolinewidth": 2
          },
          "scene": {
           "xaxis": {
            "backgroundcolor": "#E5ECF6",
            "gridcolor": "white",
            "linecolor": "white",
            "showbackground": true,
            "ticks": "",
            "zerolinecolor": "white",
            "gridwidth": 2
           },
           "yaxis": {
            "backgroundcolor": "#E5ECF6",
            "gridcolor": "white",
            "linecolor": "white",
            "showbackground": true,
            "ticks": "",
            "zerolinecolor": "white",
            "gridwidth": 2
           },
           "zaxis": {
            "backgroundcolor": "#E5ECF6",
            "gridcolor": "white",
            "linecolor": "white",
            "showbackground": true,
            "ticks": "",
            "zerolinecolor": "white",
            "gridwidth": 2
           }
          },
          "shapedefaults": {
           "line": {
            "color": "#2a3f5f"
           }
          },
          "annotationdefaults": {
           "arrowcolor": "#2a3f5f",
           "arrowhead": 0,
           "arrowwidth": 1
          },
          "geo": {
           "bgcolor": "white",
           "landcolor": "#E5ECF6",
           "subunitcolor": "white",
           "showland": true,
           "showlakes": true,
           "lakecolor": "white"
          },
          "title": {
           "x": 0.05
          },
          "mapbox": {
           "style": "light"
          }
         }
        }
       },
       "config": {
        "plotlyServerURL": "https://plot.ly"
       }
      },
      "text/html": [
       "<div>                            <div id=\"04f44c10-cb75-4b05-b095-52a083a8c210\" class=\"plotly-graph-div\" style=\"height:525px; width:100%;\"></div>            <script type=\"text/javascript\">                require([\"plotly\"], function(Plotly) {                    window.PLOTLYENV=window.PLOTLYENV || {};                                    if (document.getElementById(\"04f44c10-cb75-4b05-b095-52a083a8c210\")) {                    Plotly.newPlot(                        \"04f44c10-cb75-4b05-b095-52a083a8c210\",                        [{\"cliponaxis\":false,\"hovertemplate\":[\"init (CategoricalDistribution): 0.21308877107761554\\u003cextra\\u003e\\u003c\\u002fextra\\u003e\",\"max_iter (IntDistribution): 0.21408582280645494\\u003cextra\\u003e\\u003c\\u002fextra\\u003e\",\"tol (FloatDistribution): 0.2543531822309484\\u003cextra\\u003e\\u003c\\u002fextra\\u003e\",\"n_init (IntDistribution): 0.3184722238849812\\u003cextra\\u003e\\u003c\\u002fextra\\u003e\"],\"name\":\"Objective Value\",\"orientation\":\"h\",\"text\":[\"0.21\",\"0.21\",\"0.25\",\"0.32\"],\"textposition\":\"outside\",\"x\":[0.21308877107761554,0.21408582280645494,0.2543531822309484,0.3184722238849812],\"y\":[\"init\",\"max_iter\",\"tol\",\"n_init\"],\"type\":\"bar\"}],                        {\"title\":{\"text\":\"Hyperparameter Importances\"},\"xaxis\":{\"title\":{\"text\":\"Hyperparameter Importance\"}},\"yaxis\":{\"title\":{\"text\":\"Hyperparameter\"}},\"template\":{\"data\":{\"histogram2dcontour\":[{\"type\":\"histogram2dcontour\",\"colorbar\":{\"outlinewidth\":0,\"ticks\":\"\"},\"colorscale\":[[0.0,\"#0d0887\"],[0.1111111111111111,\"#46039f\"],[0.2222222222222222,\"#7201a8\"],[0.3333333333333333,\"#9c179e\"],[0.4444444444444444,\"#bd3786\"],[0.5555555555555556,\"#d8576b\"],[0.6666666666666666,\"#ed7953\"],[0.7777777777777778,\"#fb9f3a\"],[0.8888888888888888,\"#fdca26\"],[1.0,\"#f0f921\"]]}],\"choropleth\":[{\"type\":\"choropleth\",\"colorbar\":{\"outlinewidth\":0,\"ticks\":\"\"}}],\"histogram2d\":[{\"type\":\"histogram2d\",\"colorbar\":{\"outlinewidth\":0,\"ticks\":\"\"},\"colorscale\":[[0.0,\"#0d0887\"],[0.1111111111111111,\"#46039f\"],[0.2222222222222222,\"#7201a8\"],[0.3333333333333333,\"#9c179e\"],[0.4444444444444444,\"#bd3786\"],[0.5555555555555556,\"#d8576b\"],[0.6666666666666666,\"#ed7953\"],[0.7777777777777778,\"#fb9f3a\"],[0.8888888888888888,\"#fdca26\"],[1.0,\"#f0f921\"]]}],\"heatmap\":[{\"type\":\"heatmap\",\"colorbar\":{\"outlinewidth\":0,\"ticks\":\"\"},\"colorscale\":[[0.0,\"#0d0887\"],[0.1111111111111111,\"#46039f\"],[0.2222222222222222,\"#7201a8\"],[0.3333333333333333,\"#9c179e\"],[0.4444444444444444,\"#bd3786\"],[0.5555555555555556,\"#d8576b\"],[0.6666666666666666,\"#ed7953\"],[0.7777777777777778,\"#fb9f3a\"],[0.8888888888888888,\"#fdca26\"],[1.0,\"#f0f921\"]]}],\"heatmapgl\":[{\"type\":\"heatmapgl\",\"colorbar\":{\"outlinewidth\":0,\"ticks\":\"\"},\"colorscale\":[[0.0,\"#0d0887\"],[0.1111111111111111,\"#46039f\"],[0.2222222222222222,\"#7201a8\"],[0.3333333333333333,\"#9c179e\"],[0.4444444444444444,\"#bd3786\"],[0.5555555555555556,\"#d8576b\"],[0.6666666666666666,\"#ed7953\"],[0.7777777777777778,\"#fb9f3a\"],[0.8888888888888888,\"#fdca26\"],[1.0,\"#f0f921\"]]}],\"contourcarpet\":[{\"type\":\"contourcarpet\",\"colorbar\":{\"outlinewidth\":0,\"ticks\":\"\"}}],\"contour\":[{\"type\":\"contour\",\"colorbar\":{\"outlinewidth\":0,\"ticks\":\"\"},\"colorscale\":[[0.0,\"#0d0887\"],[0.1111111111111111,\"#46039f\"],[0.2222222222222222,\"#7201a8\"],[0.3333333333333333,\"#9c179e\"],[0.4444444444444444,\"#bd3786\"],[0.5555555555555556,\"#d8576b\"],[0.6666666666666666,\"#ed7953\"],[0.7777777777777778,\"#fb9f3a\"],[0.8888888888888888,\"#fdca26\"],[1.0,\"#f0f921\"]]}],\"surface\":[{\"type\":\"surface\",\"colorbar\":{\"outlinewidth\":0,\"ticks\":\"\"},\"colorscale\":[[0.0,\"#0d0887\"],[0.1111111111111111,\"#46039f\"],[0.2222222222222222,\"#7201a8\"],[0.3333333333333333,\"#9c179e\"],[0.4444444444444444,\"#bd3786\"],[0.5555555555555556,\"#d8576b\"],[0.6666666666666666,\"#ed7953\"],[0.7777777777777778,\"#fb9f3a\"],[0.8888888888888888,\"#fdca26\"],[1.0,\"#f0f921\"]]}],\"mesh3d\":[{\"type\":\"mesh3d\",\"colorbar\":{\"outlinewidth\":0,\"ticks\":\"\"}}],\"scatter\":[{\"fillpattern\":{\"fillmode\":\"overlay\",\"size\":10,\"solidity\":0.2},\"type\":\"scatter\"}],\"parcoords\":[{\"type\":\"parcoords\",\"line\":{\"colorbar\":{\"outlinewidth\":0,\"ticks\":\"\"}}}],\"scatterpolargl\":[{\"type\":\"scatterpolargl\",\"marker\":{\"colorbar\":{\"outlinewidth\":0,\"ticks\":\"\"}}}],\"bar\":[{\"error_x\":{\"color\":\"#2a3f5f\"},\"error_y\":{\"color\":\"#2a3f5f\"},\"marker\":{\"line\":{\"color\":\"#E5ECF6\",\"width\":0.5},\"pattern\":{\"fillmode\":\"overlay\",\"size\":10,\"solidity\":0.2}},\"type\":\"bar\"}],\"scattergeo\":[{\"type\":\"scattergeo\",\"marker\":{\"colorbar\":{\"outlinewidth\":0,\"ticks\":\"\"}}}],\"scatterpolar\":[{\"type\":\"scatterpolar\",\"marker\":{\"colorbar\":{\"outlinewidth\":0,\"ticks\":\"\"}}}],\"histogram\":[{\"marker\":{\"pattern\":{\"fillmode\":\"overlay\",\"size\":10,\"solidity\":0.2}},\"type\":\"histogram\"}],\"scattergl\":[{\"type\":\"scattergl\",\"marker\":{\"colorbar\":{\"outlinewidth\":0,\"ticks\":\"\"}}}],\"scatter3d\":[{\"type\":\"scatter3d\",\"line\":{\"colorbar\":{\"outlinewidth\":0,\"ticks\":\"\"}},\"marker\":{\"colorbar\":{\"outlinewidth\":0,\"ticks\":\"\"}}}],\"scattermapbox\":[{\"type\":\"scattermapbox\",\"marker\":{\"colorbar\":{\"outlinewidth\":0,\"ticks\":\"\"}}}],\"scatterternary\":[{\"type\":\"scatterternary\",\"marker\":{\"colorbar\":{\"outlinewidth\":0,\"ticks\":\"\"}}}],\"scattercarpet\":[{\"type\":\"scattercarpet\",\"marker\":{\"colorbar\":{\"outlinewidth\":0,\"ticks\":\"\"}}}],\"carpet\":[{\"aaxis\":{\"endlinecolor\":\"#2a3f5f\",\"gridcolor\":\"white\",\"linecolor\":\"white\",\"minorgridcolor\":\"white\",\"startlinecolor\":\"#2a3f5f\"},\"baxis\":{\"endlinecolor\":\"#2a3f5f\",\"gridcolor\":\"white\",\"linecolor\":\"white\",\"minorgridcolor\":\"white\",\"startlinecolor\":\"#2a3f5f\"},\"type\":\"carpet\"}],\"table\":[{\"cells\":{\"fill\":{\"color\":\"#EBF0F8\"},\"line\":{\"color\":\"white\"}},\"header\":{\"fill\":{\"color\":\"#C8D4E3\"},\"line\":{\"color\":\"white\"}},\"type\":\"table\"}],\"barpolar\":[{\"marker\":{\"line\":{\"color\":\"#E5ECF6\",\"width\":0.5},\"pattern\":{\"fillmode\":\"overlay\",\"size\":10,\"solidity\":0.2}},\"type\":\"barpolar\"}],\"pie\":[{\"automargin\":true,\"type\":\"pie\"}]},\"layout\":{\"autotypenumbers\":\"strict\",\"colorway\":[\"#636efa\",\"#EF553B\",\"#00cc96\",\"#ab63fa\",\"#FFA15A\",\"#19d3f3\",\"#FF6692\",\"#B6E880\",\"#FF97FF\",\"#FECB52\"],\"font\":{\"color\":\"#2a3f5f\"},\"hovermode\":\"closest\",\"hoverlabel\":{\"align\":\"left\"},\"paper_bgcolor\":\"white\",\"plot_bgcolor\":\"#E5ECF6\",\"polar\":{\"bgcolor\":\"#E5ECF6\",\"angularaxis\":{\"gridcolor\":\"white\",\"linecolor\":\"white\",\"ticks\":\"\"},\"radialaxis\":{\"gridcolor\":\"white\",\"linecolor\":\"white\",\"ticks\":\"\"}},\"ternary\":{\"bgcolor\":\"#E5ECF6\",\"aaxis\":{\"gridcolor\":\"white\",\"linecolor\":\"white\",\"ticks\":\"\"},\"baxis\":{\"gridcolor\":\"white\",\"linecolor\":\"white\",\"ticks\":\"\"},\"caxis\":{\"gridcolor\":\"white\",\"linecolor\":\"white\",\"ticks\":\"\"}},\"coloraxis\":{\"colorbar\":{\"outlinewidth\":0,\"ticks\":\"\"}},\"colorscale\":{\"sequential\":[[0.0,\"#0d0887\"],[0.1111111111111111,\"#46039f\"],[0.2222222222222222,\"#7201a8\"],[0.3333333333333333,\"#9c179e\"],[0.4444444444444444,\"#bd3786\"],[0.5555555555555556,\"#d8576b\"],[0.6666666666666666,\"#ed7953\"],[0.7777777777777778,\"#fb9f3a\"],[0.8888888888888888,\"#fdca26\"],[1.0,\"#f0f921\"]],\"sequentialminus\":[[0.0,\"#0d0887\"],[0.1111111111111111,\"#46039f\"],[0.2222222222222222,\"#7201a8\"],[0.3333333333333333,\"#9c179e\"],[0.4444444444444444,\"#bd3786\"],[0.5555555555555556,\"#d8576b\"],[0.6666666666666666,\"#ed7953\"],[0.7777777777777778,\"#fb9f3a\"],[0.8888888888888888,\"#fdca26\"],[1.0,\"#f0f921\"]],\"diverging\":[[0,\"#8e0152\"],[0.1,\"#c51b7d\"],[0.2,\"#de77ae\"],[0.3,\"#f1b6da\"],[0.4,\"#fde0ef\"],[0.5,\"#f7f7f7\"],[0.6,\"#e6f5d0\"],[0.7,\"#b8e186\"],[0.8,\"#7fbc41\"],[0.9,\"#4d9221\"],[1,\"#276419\"]]},\"xaxis\":{\"gridcolor\":\"white\",\"linecolor\":\"white\",\"ticks\":\"\",\"title\":{\"standoff\":15},\"zerolinecolor\":\"white\",\"automargin\":true,\"zerolinewidth\":2},\"yaxis\":{\"gridcolor\":\"white\",\"linecolor\":\"white\",\"ticks\":\"\",\"title\":{\"standoff\":15},\"zerolinecolor\":\"white\",\"automargin\":true,\"zerolinewidth\":2},\"scene\":{\"xaxis\":{\"backgroundcolor\":\"#E5ECF6\",\"gridcolor\":\"white\",\"linecolor\":\"white\",\"showbackground\":true,\"ticks\":\"\",\"zerolinecolor\":\"white\",\"gridwidth\":2},\"yaxis\":{\"backgroundcolor\":\"#E5ECF6\",\"gridcolor\":\"white\",\"linecolor\":\"white\",\"showbackground\":true,\"ticks\":\"\",\"zerolinecolor\":\"white\",\"gridwidth\":2},\"zaxis\":{\"backgroundcolor\":\"#E5ECF6\",\"gridcolor\":\"white\",\"linecolor\":\"white\",\"showbackground\":true,\"ticks\":\"\",\"zerolinecolor\":\"white\",\"gridwidth\":2}},\"shapedefaults\":{\"line\":{\"color\":\"#2a3f5f\"}},\"annotationdefaults\":{\"arrowcolor\":\"#2a3f5f\",\"arrowhead\":0,\"arrowwidth\":1},\"geo\":{\"bgcolor\":\"white\",\"landcolor\":\"#E5ECF6\",\"subunitcolor\":\"white\",\"showland\":true,\"showlakes\":true,\"lakecolor\":\"white\"},\"title\":{\"x\":0.05},\"mapbox\":{\"style\":\"light\"}}}},                        {\"responsive\": true}                    ).then(function(){\n",
       "                            \n",
       "var gd = document.getElementById('04f44c10-cb75-4b05-b095-52a083a8c210');\n",
       "var x = new MutationObserver(function (mutations, observer) {{\n",
       "        var display = window.getComputedStyle(gd).display;\n",
       "        if (!display || display === 'none') {{\n",
       "            console.log([gd, 'removed!']);\n",
       "            Plotly.purge(gd);\n",
       "            observer.disconnect();\n",
       "        }}\n",
       "}});\n",
       "\n",
       "// Listen for the removal of the full notebook cells\n",
       "var notebookContainer = gd.closest('#notebook-container');\n",
       "if (notebookContainer) {{\n",
       "    x.observe(notebookContainer, {childList: true});\n",
       "}}\n",
       "\n",
       "// Listen for the clearing of the current output cell\n",
       "var outputEl = gd.closest('.output');\n",
       "if (outputEl) {{\n",
       "    x.observe(outputEl, {childList: true});\n",
       "}}\n",
       "\n",
       "                        })                };                });            </script>        </div>"
      ]
     },
     "metadata": {},
     "output_type": "display_data"
    }
   ],
   "execution_count": 25
  },
  {
   "metadata": {},
   "cell_type": "markdown",
   "source": "From this plot can be observed that the most important hyperparameteres (excluding the number of clusters) is n_init which is the number of times the algorithm will run with different centroids. We can see also that it does not make a big difference wether to initialize the centroids randomly or using k-means++ technique, which chooses the centroids using sampling based on an empirical probability distribution of the points contribution to the overall inertia.",
   "id": "e36424e7d6ae2d31"
  },
  {
   "metadata": {
    "ExecuteTime": {
     "end_time": "2024-12-21T10:21:21.131271Z",
     "start_time": "2024-12-21T10:21:21.110115Z"
    }
   },
   "cell_type": "code",
   "source": "optuna.visualization.plot_parallel_coordinate(study)",
   "id": "b2168deb57470e0f",
   "outputs": [
    {
     "data": {
      "application/vnd.plotly.v1+json": {
       "data": [
        {
         "dimensions": [
          {
           "label": "Objective Value",
           "range": [
            0.06587798143686414,
            0.07544336402989056
           ],
           "values": [
            0.06587798143686414,
            0.06626662487606998,
            0.07372650754254735,
            0.06630162215783893,
            0.06604236957099965,
            0.07373513092691694,
            0.06590334236385774,
            0.07544336402989056,
            0.0660754595870999,
            0.06604313796406225
           ]
          },
          {
           "label": "init",
           "range": [
            0,
            1
           ],
           "ticktext": [
            "k-means++",
            "random"
           ],
           "tickvals": [
            0,
            1
           ],
           "values": [
            0,
            0,
            0,
            0,
            1,
            1,
            1,
            1,
            1,
            0
           ]
          },
          {
           "label": "max_iter",
           "range": [
            220,
            911
           ],
           "values": [
            335,
            297,
            799,
            749,
            453,
            495,
            515,
            589,
            220,
            911
           ]
          },
          {
           "label": "n_init",
           "range": [
            1,
            9
           ],
           "values": [
            4,
            5,
            1,
            9,
            2,
            4,
            3,
            3,
            2,
            4
           ]
          },
          {
           "label": "tol",
           "range": [
            0.005852096525168676,
            0.09664211643383201
           ],
           "values": [
            0.0770827501026708,
            0.005852096525168676,
            0.07318952185906252,
            0.06420199479366816,
            0.06761462521916947,
            0.022924539825723074,
            0.09664211643383201,
            0.01796465359498128,
            0.09405098238046782,
            0.018075546669494093
           ]
          }
         ],
         "labelangle": 30,
         "labelside": "bottom",
         "line": {
          "color": [
           0.06587798143686414,
           0.06626662487606998,
           0.07372650754254735,
           0.06630162215783893,
           0.06604236957099965,
           0.07373513092691694,
           0.06590334236385774,
           0.07544336402989056,
           0.0660754595870999,
           0.06604313796406225
          ],
          "colorbar": {
           "title": {
            "text": "Objective Value"
           }
          },
          "colorscale": [
           [
            0.0,
            "rgb(247,251,255)"
           ],
           [
            0.125,
            "rgb(222,235,247)"
           ],
           [
            0.25,
            "rgb(198,219,239)"
           ],
           [
            0.375,
            "rgb(158,202,225)"
           ],
           [
            0.5,
            "rgb(107,174,214)"
           ],
           [
            0.625,
            "rgb(66,146,198)"
           ],
           [
            0.75,
            "rgb(33,113,181)"
           ],
           [
            0.875,
            "rgb(8,81,156)"
           ],
           [
            1.0,
            "rgb(8,48,107)"
           ]
          ],
          "reversescale": false,
          "showscale": true
         },
         "type": "parcoords"
        }
       ],
       "layout": {
        "title": {
         "text": "Parallel Coordinate Plot"
        },
        "template": {
         "data": {
          "histogram2dcontour": [
           {
            "type": "histogram2dcontour",
            "colorbar": {
             "outlinewidth": 0,
             "ticks": ""
            },
            "colorscale": [
             [
              0.0,
              "#0d0887"
             ],
             [
              0.1111111111111111,
              "#46039f"
             ],
             [
              0.2222222222222222,
              "#7201a8"
             ],
             [
              0.3333333333333333,
              "#9c179e"
             ],
             [
              0.4444444444444444,
              "#bd3786"
             ],
             [
              0.5555555555555556,
              "#d8576b"
             ],
             [
              0.6666666666666666,
              "#ed7953"
             ],
             [
              0.7777777777777778,
              "#fb9f3a"
             ],
             [
              0.8888888888888888,
              "#fdca26"
             ],
             [
              1.0,
              "#f0f921"
             ]
            ]
           }
          ],
          "choropleth": [
           {
            "type": "choropleth",
            "colorbar": {
             "outlinewidth": 0,
             "ticks": ""
            }
           }
          ],
          "histogram2d": [
           {
            "type": "histogram2d",
            "colorbar": {
             "outlinewidth": 0,
             "ticks": ""
            },
            "colorscale": [
             [
              0.0,
              "#0d0887"
             ],
             [
              0.1111111111111111,
              "#46039f"
             ],
             [
              0.2222222222222222,
              "#7201a8"
             ],
             [
              0.3333333333333333,
              "#9c179e"
             ],
             [
              0.4444444444444444,
              "#bd3786"
             ],
             [
              0.5555555555555556,
              "#d8576b"
             ],
             [
              0.6666666666666666,
              "#ed7953"
             ],
             [
              0.7777777777777778,
              "#fb9f3a"
             ],
             [
              0.8888888888888888,
              "#fdca26"
             ],
             [
              1.0,
              "#f0f921"
             ]
            ]
           }
          ],
          "heatmap": [
           {
            "type": "heatmap",
            "colorbar": {
             "outlinewidth": 0,
             "ticks": ""
            },
            "colorscale": [
             [
              0.0,
              "#0d0887"
             ],
             [
              0.1111111111111111,
              "#46039f"
             ],
             [
              0.2222222222222222,
              "#7201a8"
             ],
             [
              0.3333333333333333,
              "#9c179e"
             ],
             [
              0.4444444444444444,
              "#bd3786"
             ],
             [
              0.5555555555555556,
              "#d8576b"
             ],
             [
              0.6666666666666666,
              "#ed7953"
             ],
             [
              0.7777777777777778,
              "#fb9f3a"
             ],
             [
              0.8888888888888888,
              "#fdca26"
             ],
             [
              1.0,
              "#f0f921"
             ]
            ]
           }
          ],
          "heatmapgl": [
           {
            "type": "heatmapgl",
            "colorbar": {
             "outlinewidth": 0,
             "ticks": ""
            },
            "colorscale": [
             [
              0.0,
              "#0d0887"
             ],
             [
              0.1111111111111111,
              "#46039f"
             ],
             [
              0.2222222222222222,
              "#7201a8"
             ],
             [
              0.3333333333333333,
              "#9c179e"
             ],
             [
              0.4444444444444444,
              "#bd3786"
             ],
             [
              0.5555555555555556,
              "#d8576b"
             ],
             [
              0.6666666666666666,
              "#ed7953"
             ],
             [
              0.7777777777777778,
              "#fb9f3a"
             ],
             [
              0.8888888888888888,
              "#fdca26"
             ],
             [
              1.0,
              "#f0f921"
             ]
            ]
           }
          ],
          "contourcarpet": [
           {
            "type": "contourcarpet",
            "colorbar": {
             "outlinewidth": 0,
             "ticks": ""
            }
           }
          ],
          "contour": [
           {
            "type": "contour",
            "colorbar": {
             "outlinewidth": 0,
             "ticks": ""
            },
            "colorscale": [
             [
              0.0,
              "#0d0887"
             ],
             [
              0.1111111111111111,
              "#46039f"
             ],
             [
              0.2222222222222222,
              "#7201a8"
             ],
             [
              0.3333333333333333,
              "#9c179e"
             ],
             [
              0.4444444444444444,
              "#bd3786"
             ],
             [
              0.5555555555555556,
              "#d8576b"
             ],
             [
              0.6666666666666666,
              "#ed7953"
             ],
             [
              0.7777777777777778,
              "#fb9f3a"
             ],
             [
              0.8888888888888888,
              "#fdca26"
             ],
             [
              1.0,
              "#f0f921"
             ]
            ]
           }
          ],
          "surface": [
           {
            "type": "surface",
            "colorbar": {
             "outlinewidth": 0,
             "ticks": ""
            },
            "colorscale": [
             [
              0.0,
              "#0d0887"
             ],
             [
              0.1111111111111111,
              "#46039f"
             ],
             [
              0.2222222222222222,
              "#7201a8"
             ],
             [
              0.3333333333333333,
              "#9c179e"
             ],
             [
              0.4444444444444444,
              "#bd3786"
             ],
             [
              0.5555555555555556,
              "#d8576b"
             ],
             [
              0.6666666666666666,
              "#ed7953"
             ],
             [
              0.7777777777777778,
              "#fb9f3a"
             ],
             [
              0.8888888888888888,
              "#fdca26"
             ],
             [
              1.0,
              "#f0f921"
             ]
            ]
           }
          ],
          "mesh3d": [
           {
            "type": "mesh3d",
            "colorbar": {
             "outlinewidth": 0,
             "ticks": ""
            }
           }
          ],
          "scatter": [
           {
            "fillpattern": {
             "fillmode": "overlay",
             "size": 10,
             "solidity": 0.2
            },
            "type": "scatter"
           }
          ],
          "parcoords": [
           {
            "type": "parcoords",
            "line": {
             "colorbar": {
              "outlinewidth": 0,
              "ticks": ""
             }
            }
           }
          ],
          "scatterpolargl": [
           {
            "type": "scatterpolargl",
            "marker": {
             "colorbar": {
              "outlinewidth": 0,
              "ticks": ""
             }
            }
           }
          ],
          "bar": [
           {
            "error_x": {
             "color": "#2a3f5f"
            },
            "error_y": {
             "color": "#2a3f5f"
            },
            "marker": {
             "line": {
              "color": "#E5ECF6",
              "width": 0.5
             },
             "pattern": {
              "fillmode": "overlay",
              "size": 10,
              "solidity": 0.2
             }
            },
            "type": "bar"
           }
          ],
          "scattergeo": [
           {
            "type": "scattergeo",
            "marker": {
             "colorbar": {
              "outlinewidth": 0,
              "ticks": ""
             }
            }
           }
          ],
          "scatterpolar": [
           {
            "type": "scatterpolar",
            "marker": {
             "colorbar": {
              "outlinewidth": 0,
              "ticks": ""
             }
            }
           }
          ],
          "histogram": [
           {
            "marker": {
             "pattern": {
              "fillmode": "overlay",
              "size": 10,
              "solidity": 0.2
             }
            },
            "type": "histogram"
           }
          ],
          "scattergl": [
           {
            "type": "scattergl",
            "marker": {
             "colorbar": {
              "outlinewidth": 0,
              "ticks": ""
             }
            }
           }
          ],
          "scatter3d": [
           {
            "type": "scatter3d",
            "line": {
             "colorbar": {
              "outlinewidth": 0,
              "ticks": ""
             }
            },
            "marker": {
             "colorbar": {
              "outlinewidth": 0,
              "ticks": ""
             }
            }
           }
          ],
          "scattermapbox": [
           {
            "type": "scattermapbox",
            "marker": {
             "colorbar": {
              "outlinewidth": 0,
              "ticks": ""
             }
            }
           }
          ],
          "scatterternary": [
           {
            "type": "scatterternary",
            "marker": {
             "colorbar": {
              "outlinewidth": 0,
              "ticks": ""
             }
            }
           }
          ],
          "scattercarpet": [
           {
            "type": "scattercarpet",
            "marker": {
             "colorbar": {
              "outlinewidth": 0,
              "ticks": ""
             }
            }
           }
          ],
          "carpet": [
           {
            "aaxis": {
             "endlinecolor": "#2a3f5f",
             "gridcolor": "white",
             "linecolor": "white",
             "minorgridcolor": "white",
             "startlinecolor": "#2a3f5f"
            },
            "baxis": {
             "endlinecolor": "#2a3f5f",
             "gridcolor": "white",
             "linecolor": "white",
             "minorgridcolor": "white",
             "startlinecolor": "#2a3f5f"
            },
            "type": "carpet"
           }
          ],
          "table": [
           {
            "cells": {
             "fill": {
              "color": "#EBF0F8"
             },
             "line": {
              "color": "white"
             }
            },
            "header": {
             "fill": {
              "color": "#C8D4E3"
             },
             "line": {
              "color": "white"
             }
            },
            "type": "table"
           }
          ],
          "barpolar": [
           {
            "marker": {
             "line": {
              "color": "#E5ECF6",
              "width": 0.5
             },
             "pattern": {
              "fillmode": "overlay",
              "size": 10,
              "solidity": 0.2
             }
            },
            "type": "barpolar"
           }
          ],
          "pie": [
           {
            "automargin": true,
            "type": "pie"
           }
          ]
         },
         "layout": {
          "autotypenumbers": "strict",
          "colorway": [
           "#636efa",
           "#EF553B",
           "#00cc96",
           "#ab63fa",
           "#FFA15A",
           "#19d3f3",
           "#FF6692",
           "#B6E880",
           "#FF97FF",
           "#FECB52"
          ],
          "font": {
           "color": "#2a3f5f"
          },
          "hovermode": "closest",
          "hoverlabel": {
           "align": "left"
          },
          "paper_bgcolor": "white",
          "plot_bgcolor": "#E5ECF6",
          "polar": {
           "bgcolor": "#E5ECF6",
           "angularaxis": {
            "gridcolor": "white",
            "linecolor": "white",
            "ticks": ""
           },
           "radialaxis": {
            "gridcolor": "white",
            "linecolor": "white",
            "ticks": ""
           }
          },
          "ternary": {
           "bgcolor": "#E5ECF6",
           "aaxis": {
            "gridcolor": "white",
            "linecolor": "white",
            "ticks": ""
           },
           "baxis": {
            "gridcolor": "white",
            "linecolor": "white",
            "ticks": ""
           },
           "caxis": {
            "gridcolor": "white",
            "linecolor": "white",
            "ticks": ""
           }
          },
          "coloraxis": {
           "colorbar": {
            "outlinewidth": 0,
            "ticks": ""
           }
          },
          "colorscale": {
           "sequential": [
            [
             0.0,
             "#0d0887"
            ],
            [
             0.1111111111111111,
             "#46039f"
            ],
            [
             0.2222222222222222,
             "#7201a8"
            ],
            [
             0.3333333333333333,
             "#9c179e"
            ],
            [
             0.4444444444444444,
             "#bd3786"
            ],
            [
             0.5555555555555556,
             "#d8576b"
            ],
            [
             0.6666666666666666,
             "#ed7953"
            ],
            [
             0.7777777777777778,
             "#fb9f3a"
            ],
            [
             0.8888888888888888,
             "#fdca26"
            ],
            [
             1.0,
             "#f0f921"
            ]
           ],
           "sequentialminus": [
            [
             0.0,
             "#0d0887"
            ],
            [
             0.1111111111111111,
             "#46039f"
            ],
            [
             0.2222222222222222,
             "#7201a8"
            ],
            [
             0.3333333333333333,
             "#9c179e"
            ],
            [
             0.4444444444444444,
             "#bd3786"
            ],
            [
             0.5555555555555556,
             "#d8576b"
            ],
            [
             0.6666666666666666,
             "#ed7953"
            ],
            [
             0.7777777777777778,
             "#fb9f3a"
            ],
            [
             0.8888888888888888,
             "#fdca26"
            ],
            [
             1.0,
             "#f0f921"
            ]
           ],
           "diverging": [
            [
             0,
             "#8e0152"
            ],
            [
             0.1,
             "#c51b7d"
            ],
            [
             0.2,
             "#de77ae"
            ],
            [
             0.3,
             "#f1b6da"
            ],
            [
             0.4,
             "#fde0ef"
            ],
            [
             0.5,
             "#f7f7f7"
            ],
            [
             0.6,
             "#e6f5d0"
            ],
            [
             0.7,
             "#b8e186"
            ],
            [
             0.8,
             "#7fbc41"
            ],
            [
             0.9,
             "#4d9221"
            ],
            [
             1,
             "#276419"
            ]
           ]
          },
          "xaxis": {
           "gridcolor": "white",
           "linecolor": "white",
           "ticks": "",
           "title": {
            "standoff": 15
           },
           "zerolinecolor": "white",
           "automargin": true,
           "zerolinewidth": 2
          },
          "yaxis": {
           "gridcolor": "white",
           "linecolor": "white",
           "ticks": "",
           "title": {
            "standoff": 15
           },
           "zerolinecolor": "white",
           "automargin": true,
           "zerolinewidth": 2
          },
          "scene": {
           "xaxis": {
            "backgroundcolor": "#E5ECF6",
            "gridcolor": "white",
            "linecolor": "white",
            "showbackground": true,
            "ticks": "",
            "zerolinecolor": "white",
            "gridwidth": 2
           },
           "yaxis": {
            "backgroundcolor": "#E5ECF6",
            "gridcolor": "white",
            "linecolor": "white",
            "showbackground": true,
            "ticks": "",
            "zerolinecolor": "white",
            "gridwidth": 2
           },
           "zaxis": {
            "backgroundcolor": "#E5ECF6",
            "gridcolor": "white",
            "linecolor": "white",
            "showbackground": true,
            "ticks": "",
            "zerolinecolor": "white",
            "gridwidth": 2
           }
          },
          "shapedefaults": {
           "line": {
            "color": "#2a3f5f"
           }
          },
          "annotationdefaults": {
           "arrowcolor": "#2a3f5f",
           "arrowhead": 0,
           "arrowwidth": 1
          },
          "geo": {
           "bgcolor": "white",
           "landcolor": "#E5ECF6",
           "subunitcolor": "white",
           "showland": true,
           "showlakes": true,
           "lakecolor": "white"
          },
          "title": {
           "x": 0.05
          },
          "mapbox": {
           "style": "light"
          }
         }
        }
       },
       "config": {
        "plotlyServerURL": "https://plot.ly"
       }
      },
      "text/html": [
       "<div>                            <div id=\"43a69d65-e069-456d-96f5-f2b5edfd4fb9\" class=\"plotly-graph-div\" style=\"height:525px; width:100%;\"></div>            <script type=\"text/javascript\">                require([\"plotly\"], function(Plotly) {                    window.PLOTLYENV=window.PLOTLYENV || {};                                    if (document.getElementById(\"43a69d65-e069-456d-96f5-f2b5edfd4fb9\")) {                    Plotly.newPlot(                        \"43a69d65-e069-456d-96f5-f2b5edfd4fb9\",                        [{\"dimensions\":[{\"label\":\"Objective Value\",\"range\":[0.06587798143686414,0.07544336402989056],\"values\":[0.06587798143686414,0.06626662487606998,0.07372650754254735,0.06630162215783893,0.06604236957099965,0.07373513092691694,0.06590334236385774,0.07544336402989056,0.0660754595870999,0.06604313796406225]},{\"label\":\"init\",\"range\":[0,1],\"ticktext\":[\"k-means++\",\"random\"],\"tickvals\":[0,1],\"values\":[0,0,0,0,1,1,1,1,1,0]},{\"label\":\"max_iter\",\"range\":[220,911],\"values\":[335,297,799,749,453,495,515,589,220,911]},{\"label\":\"n_init\",\"range\":[1,9],\"values\":[4,5,1,9,2,4,3,3,2,4]},{\"label\":\"tol\",\"range\":[0.005852096525168676,0.09664211643383201],\"values\":[0.0770827501026708,0.005852096525168676,0.07318952185906252,0.06420199479366816,0.06761462521916947,0.022924539825723074,0.09664211643383201,0.01796465359498128,0.09405098238046782,0.018075546669494093]}],\"labelangle\":30,\"labelside\":\"bottom\",\"line\":{\"color\":[0.06587798143686414,0.06626662487606998,0.07372650754254735,0.06630162215783893,0.06604236957099965,0.07373513092691694,0.06590334236385774,0.07544336402989056,0.0660754595870999,0.06604313796406225],\"colorbar\":{\"title\":{\"text\":\"Objective Value\"}},\"colorscale\":[[0.0,\"rgb(247,251,255)\"],[0.125,\"rgb(222,235,247)\"],[0.25,\"rgb(198,219,239)\"],[0.375,\"rgb(158,202,225)\"],[0.5,\"rgb(107,174,214)\"],[0.625,\"rgb(66,146,198)\"],[0.75,\"rgb(33,113,181)\"],[0.875,\"rgb(8,81,156)\"],[1.0,\"rgb(8,48,107)\"]],\"reversescale\":false,\"showscale\":true},\"type\":\"parcoords\"}],                        {\"title\":{\"text\":\"Parallel Coordinate Plot\"},\"template\":{\"data\":{\"histogram2dcontour\":[{\"type\":\"histogram2dcontour\",\"colorbar\":{\"outlinewidth\":0,\"ticks\":\"\"},\"colorscale\":[[0.0,\"#0d0887\"],[0.1111111111111111,\"#46039f\"],[0.2222222222222222,\"#7201a8\"],[0.3333333333333333,\"#9c179e\"],[0.4444444444444444,\"#bd3786\"],[0.5555555555555556,\"#d8576b\"],[0.6666666666666666,\"#ed7953\"],[0.7777777777777778,\"#fb9f3a\"],[0.8888888888888888,\"#fdca26\"],[1.0,\"#f0f921\"]]}],\"choropleth\":[{\"type\":\"choropleth\",\"colorbar\":{\"outlinewidth\":0,\"ticks\":\"\"}}],\"histogram2d\":[{\"type\":\"histogram2d\",\"colorbar\":{\"outlinewidth\":0,\"ticks\":\"\"},\"colorscale\":[[0.0,\"#0d0887\"],[0.1111111111111111,\"#46039f\"],[0.2222222222222222,\"#7201a8\"],[0.3333333333333333,\"#9c179e\"],[0.4444444444444444,\"#bd3786\"],[0.5555555555555556,\"#d8576b\"],[0.6666666666666666,\"#ed7953\"],[0.7777777777777778,\"#fb9f3a\"],[0.8888888888888888,\"#fdca26\"],[1.0,\"#f0f921\"]]}],\"heatmap\":[{\"type\":\"heatmap\",\"colorbar\":{\"outlinewidth\":0,\"ticks\":\"\"},\"colorscale\":[[0.0,\"#0d0887\"],[0.1111111111111111,\"#46039f\"],[0.2222222222222222,\"#7201a8\"],[0.3333333333333333,\"#9c179e\"],[0.4444444444444444,\"#bd3786\"],[0.5555555555555556,\"#d8576b\"],[0.6666666666666666,\"#ed7953\"],[0.7777777777777778,\"#fb9f3a\"],[0.8888888888888888,\"#fdca26\"],[1.0,\"#f0f921\"]]}],\"heatmapgl\":[{\"type\":\"heatmapgl\",\"colorbar\":{\"outlinewidth\":0,\"ticks\":\"\"},\"colorscale\":[[0.0,\"#0d0887\"],[0.1111111111111111,\"#46039f\"],[0.2222222222222222,\"#7201a8\"],[0.3333333333333333,\"#9c179e\"],[0.4444444444444444,\"#bd3786\"],[0.5555555555555556,\"#d8576b\"],[0.6666666666666666,\"#ed7953\"],[0.7777777777777778,\"#fb9f3a\"],[0.8888888888888888,\"#fdca26\"],[1.0,\"#f0f921\"]]}],\"contourcarpet\":[{\"type\":\"contourcarpet\",\"colorbar\":{\"outlinewidth\":0,\"ticks\":\"\"}}],\"contour\":[{\"type\":\"contour\",\"colorbar\":{\"outlinewidth\":0,\"ticks\":\"\"},\"colorscale\":[[0.0,\"#0d0887\"],[0.1111111111111111,\"#46039f\"],[0.2222222222222222,\"#7201a8\"],[0.3333333333333333,\"#9c179e\"],[0.4444444444444444,\"#bd3786\"],[0.5555555555555556,\"#d8576b\"],[0.6666666666666666,\"#ed7953\"],[0.7777777777777778,\"#fb9f3a\"],[0.8888888888888888,\"#fdca26\"],[1.0,\"#f0f921\"]]}],\"surface\":[{\"type\":\"surface\",\"colorbar\":{\"outlinewidth\":0,\"ticks\":\"\"},\"colorscale\":[[0.0,\"#0d0887\"],[0.1111111111111111,\"#46039f\"],[0.2222222222222222,\"#7201a8\"],[0.3333333333333333,\"#9c179e\"],[0.4444444444444444,\"#bd3786\"],[0.5555555555555556,\"#d8576b\"],[0.6666666666666666,\"#ed7953\"],[0.7777777777777778,\"#fb9f3a\"],[0.8888888888888888,\"#fdca26\"],[1.0,\"#f0f921\"]]}],\"mesh3d\":[{\"type\":\"mesh3d\",\"colorbar\":{\"outlinewidth\":0,\"ticks\":\"\"}}],\"scatter\":[{\"fillpattern\":{\"fillmode\":\"overlay\",\"size\":10,\"solidity\":0.2},\"type\":\"scatter\"}],\"parcoords\":[{\"type\":\"parcoords\",\"line\":{\"colorbar\":{\"outlinewidth\":0,\"ticks\":\"\"}}}],\"scatterpolargl\":[{\"type\":\"scatterpolargl\",\"marker\":{\"colorbar\":{\"outlinewidth\":0,\"ticks\":\"\"}}}],\"bar\":[{\"error_x\":{\"color\":\"#2a3f5f\"},\"error_y\":{\"color\":\"#2a3f5f\"},\"marker\":{\"line\":{\"color\":\"#E5ECF6\",\"width\":0.5},\"pattern\":{\"fillmode\":\"overlay\",\"size\":10,\"solidity\":0.2}},\"type\":\"bar\"}],\"scattergeo\":[{\"type\":\"scattergeo\",\"marker\":{\"colorbar\":{\"outlinewidth\":0,\"ticks\":\"\"}}}],\"scatterpolar\":[{\"type\":\"scatterpolar\",\"marker\":{\"colorbar\":{\"outlinewidth\":0,\"ticks\":\"\"}}}],\"histogram\":[{\"marker\":{\"pattern\":{\"fillmode\":\"overlay\",\"size\":10,\"solidity\":0.2}},\"type\":\"histogram\"}],\"scattergl\":[{\"type\":\"scattergl\",\"marker\":{\"colorbar\":{\"outlinewidth\":0,\"ticks\":\"\"}}}],\"scatter3d\":[{\"type\":\"scatter3d\",\"line\":{\"colorbar\":{\"outlinewidth\":0,\"ticks\":\"\"}},\"marker\":{\"colorbar\":{\"outlinewidth\":0,\"ticks\":\"\"}}}],\"scattermapbox\":[{\"type\":\"scattermapbox\",\"marker\":{\"colorbar\":{\"outlinewidth\":0,\"ticks\":\"\"}}}],\"scatterternary\":[{\"type\":\"scatterternary\",\"marker\":{\"colorbar\":{\"outlinewidth\":0,\"ticks\":\"\"}}}],\"scattercarpet\":[{\"type\":\"scattercarpet\",\"marker\":{\"colorbar\":{\"outlinewidth\":0,\"ticks\":\"\"}}}],\"carpet\":[{\"aaxis\":{\"endlinecolor\":\"#2a3f5f\",\"gridcolor\":\"white\",\"linecolor\":\"white\",\"minorgridcolor\":\"white\",\"startlinecolor\":\"#2a3f5f\"},\"baxis\":{\"endlinecolor\":\"#2a3f5f\",\"gridcolor\":\"white\",\"linecolor\":\"white\",\"minorgridcolor\":\"white\",\"startlinecolor\":\"#2a3f5f\"},\"type\":\"carpet\"}],\"table\":[{\"cells\":{\"fill\":{\"color\":\"#EBF0F8\"},\"line\":{\"color\":\"white\"}},\"header\":{\"fill\":{\"color\":\"#C8D4E3\"},\"line\":{\"color\":\"white\"}},\"type\":\"table\"}],\"barpolar\":[{\"marker\":{\"line\":{\"color\":\"#E5ECF6\",\"width\":0.5},\"pattern\":{\"fillmode\":\"overlay\",\"size\":10,\"solidity\":0.2}},\"type\":\"barpolar\"}],\"pie\":[{\"automargin\":true,\"type\":\"pie\"}]},\"layout\":{\"autotypenumbers\":\"strict\",\"colorway\":[\"#636efa\",\"#EF553B\",\"#00cc96\",\"#ab63fa\",\"#FFA15A\",\"#19d3f3\",\"#FF6692\",\"#B6E880\",\"#FF97FF\",\"#FECB52\"],\"font\":{\"color\":\"#2a3f5f\"},\"hovermode\":\"closest\",\"hoverlabel\":{\"align\":\"left\"},\"paper_bgcolor\":\"white\",\"plot_bgcolor\":\"#E5ECF6\",\"polar\":{\"bgcolor\":\"#E5ECF6\",\"angularaxis\":{\"gridcolor\":\"white\",\"linecolor\":\"white\",\"ticks\":\"\"},\"radialaxis\":{\"gridcolor\":\"white\",\"linecolor\":\"white\",\"ticks\":\"\"}},\"ternary\":{\"bgcolor\":\"#E5ECF6\",\"aaxis\":{\"gridcolor\":\"white\",\"linecolor\":\"white\",\"ticks\":\"\"},\"baxis\":{\"gridcolor\":\"white\",\"linecolor\":\"white\",\"ticks\":\"\"},\"caxis\":{\"gridcolor\":\"white\",\"linecolor\":\"white\",\"ticks\":\"\"}},\"coloraxis\":{\"colorbar\":{\"outlinewidth\":0,\"ticks\":\"\"}},\"colorscale\":{\"sequential\":[[0.0,\"#0d0887\"],[0.1111111111111111,\"#46039f\"],[0.2222222222222222,\"#7201a8\"],[0.3333333333333333,\"#9c179e\"],[0.4444444444444444,\"#bd3786\"],[0.5555555555555556,\"#d8576b\"],[0.6666666666666666,\"#ed7953\"],[0.7777777777777778,\"#fb9f3a\"],[0.8888888888888888,\"#fdca26\"],[1.0,\"#f0f921\"]],\"sequentialminus\":[[0.0,\"#0d0887\"],[0.1111111111111111,\"#46039f\"],[0.2222222222222222,\"#7201a8\"],[0.3333333333333333,\"#9c179e\"],[0.4444444444444444,\"#bd3786\"],[0.5555555555555556,\"#d8576b\"],[0.6666666666666666,\"#ed7953\"],[0.7777777777777778,\"#fb9f3a\"],[0.8888888888888888,\"#fdca26\"],[1.0,\"#f0f921\"]],\"diverging\":[[0,\"#8e0152\"],[0.1,\"#c51b7d\"],[0.2,\"#de77ae\"],[0.3,\"#f1b6da\"],[0.4,\"#fde0ef\"],[0.5,\"#f7f7f7\"],[0.6,\"#e6f5d0\"],[0.7,\"#b8e186\"],[0.8,\"#7fbc41\"],[0.9,\"#4d9221\"],[1,\"#276419\"]]},\"xaxis\":{\"gridcolor\":\"white\",\"linecolor\":\"white\",\"ticks\":\"\",\"title\":{\"standoff\":15},\"zerolinecolor\":\"white\",\"automargin\":true,\"zerolinewidth\":2},\"yaxis\":{\"gridcolor\":\"white\",\"linecolor\":\"white\",\"ticks\":\"\",\"title\":{\"standoff\":15},\"zerolinecolor\":\"white\",\"automargin\":true,\"zerolinewidth\":2},\"scene\":{\"xaxis\":{\"backgroundcolor\":\"#E5ECF6\",\"gridcolor\":\"white\",\"linecolor\":\"white\",\"showbackground\":true,\"ticks\":\"\",\"zerolinecolor\":\"white\",\"gridwidth\":2},\"yaxis\":{\"backgroundcolor\":\"#E5ECF6\",\"gridcolor\":\"white\",\"linecolor\":\"white\",\"showbackground\":true,\"ticks\":\"\",\"zerolinecolor\":\"white\",\"gridwidth\":2},\"zaxis\":{\"backgroundcolor\":\"#E5ECF6\",\"gridcolor\":\"white\",\"linecolor\":\"white\",\"showbackground\":true,\"ticks\":\"\",\"zerolinecolor\":\"white\",\"gridwidth\":2}},\"shapedefaults\":{\"line\":{\"color\":\"#2a3f5f\"}},\"annotationdefaults\":{\"arrowcolor\":\"#2a3f5f\",\"arrowhead\":0,\"arrowwidth\":1},\"geo\":{\"bgcolor\":\"white\",\"landcolor\":\"#E5ECF6\",\"subunitcolor\":\"white\",\"showland\":true,\"showlakes\":true,\"lakecolor\":\"white\"},\"title\":{\"x\":0.05},\"mapbox\":{\"style\":\"light\"}}}},                        {\"responsive\": true}                    ).then(function(){\n",
       "                            \n",
       "var gd = document.getElementById('43a69d65-e069-456d-96f5-f2b5edfd4fb9');\n",
       "var x = new MutationObserver(function (mutations, observer) {{\n",
       "        var display = window.getComputedStyle(gd).display;\n",
       "        if (!display || display === 'none') {{\n",
       "            console.log([gd, 'removed!']);\n",
       "            Plotly.purge(gd);\n",
       "            observer.disconnect();\n",
       "        }}\n",
       "}});\n",
       "\n",
       "// Listen for the removal of the full notebook cells\n",
       "var notebookContainer = gd.closest('#notebook-container');\n",
       "if (notebookContainer) {{\n",
       "    x.observe(notebookContainer, {childList: true});\n",
       "}}\n",
       "\n",
       "// Listen for the clearing of the current output cell\n",
       "var outputEl = gd.closest('.output');\n",
       "if (outputEl) {{\n",
       "    x.observe(outputEl, {childList: true});\n",
       "}}\n",
       "\n",
       "                        })                };                });            </script>        </div>"
      ]
     },
     "metadata": {},
     "output_type": "display_data"
    }
   ],
   "execution_count": 15
  },
  {
   "metadata": {},
   "cell_type": "markdown",
   "source": [
    "The best of our trials presents a silhouette score of 0.08 which is a very low score meaning that the clusters are not\n",
    "well-defined. However, this algorithm works well with spherical clusters, and we might not have this kind of clusters in our dataset. We will need to evaluate other metrics to determine the quality of our model."
   ],
   "id": "1d4db56610096135"
  },
  {
   "metadata": {
    "ExecuteTime": {
     "end_time": "2024-12-21T13:08:58.138976Z",
     "start_time": "2024-12-21T13:08:57.915879Z"
    }
   },
   "cell_type": "code",
   "source": [
    "X_scaled = cp.asarray(X_scaled)\n",
    "model = cuKMeans(**study.best_params)\n",
    "metrics = ClusteringMetrics(X_scaled, model)\n",
    "metrics.train()\n",
    "metrics.save_model(\"../models/kmeans.pkl\")\n",
    "metrics.compute_internalEvaluation()\n",
    "metrics.print_metrics()"
   ],
   "id": "8cf0074c23475117",
   "outputs": [
    {
     "ename": "ValueError",
     "evalue": "No trials are completed yet.",
     "output_type": "error",
     "traceback": [
      "\u001B[0;31m---------------------------------------------------------------------------\u001B[0m",
      "\u001B[0;31mValueError\u001B[0m                                Traceback (most recent call last)",
      "Cell \u001B[0;32mIn[96], line 2\u001B[0m\n\u001B[1;32m      1\u001B[0m X_scaled \u001B[38;5;241m=\u001B[39m cp\u001B[38;5;241m.\u001B[39masarray(X_scaled)\n\u001B[0;32m----> 2\u001B[0m model \u001B[38;5;241m=\u001B[39m cuKMeans(\u001B[38;5;241m*\u001B[39m\u001B[38;5;241m*\u001B[39mstudy\u001B[38;5;241m.\u001B[39mbest_params)\n\u001B[1;32m      3\u001B[0m metrics \u001B[38;5;241m=\u001B[39m ClusteringMetrics(X_scaled, model)\n\u001B[1;32m      4\u001B[0m metrics\u001B[38;5;241m.\u001B[39mtrain()\n",
      "File \u001B[0;32m~/anaconda3/envs/MLKernel/lib/python3.12/site-packages/optuna/study/study.py:114\u001B[0m, in \u001B[0;36mbest_params\u001B[0;34m(self)\u001B[0m\n\u001B[1;32m    107\u001B[0m \u001B[38;5;129m@property\u001B[39m\n\u001B[1;32m    108\u001B[0m \u001B[38;5;28;01mdef\u001B[39;00m \u001B[38;5;21mbest_params\u001B[39m(\u001B[38;5;28mself\u001B[39m) \u001B[38;5;241m-\u001B[39m\u001B[38;5;241m>\u001B[39m \u001B[38;5;28mdict\u001B[39m[\u001B[38;5;28mstr\u001B[39m, Any]:\n\u001B[1;32m    109\u001B[0m \u001B[38;5;250m    \u001B[39m\u001B[38;5;124;03m\"\"\"Return parameters of the best trial in the study.\u001B[39;00m\n\u001B[1;32m    110\u001B[0m \n\u001B[1;32m    111\u001B[0m \u001B[38;5;124;03m    .. note::\u001B[39;00m\n\u001B[1;32m    112\u001B[0m \u001B[38;5;124;03m        This feature can only be used for single-objective optimization.\u001B[39;00m\n\u001B[1;32m    113\u001B[0m \n\u001B[0;32m--> 114\u001B[0m \u001B[38;5;124;03m    Returns:\u001B[39;00m\n\u001B[1;32m    115\u001B[0m \u001B[38;5;124;03m        A dictionary containing parameters of the best trial.\u001B[39;00m\n\u001B[1;32m    116\u001B[0m \n\u001B[1;32m    117\u001B[0m \u001B[38;5;124;03m    \"\"\"\u001B[39;00m\n\u001B[1;32m    119\u001B[0m     \u001B[38;5;28;01mreturn\u001B[39;00m \u001B[38;5;28mself\u001B[39m\u001B[38;5;241m.\u001B[39mbest_trial\u001B[38;5;241m.\u001B[39mparams\n",
      "File \u001B[0;32m~/anaconda3/envs/MLKernel/lib/python3.12/site-packages/optuna/study/study.py:157\u001B[0m, in \u001B[0;36mbest_trial\u001B[0;34m(self)\u001B[0m\n\u001B[1;32m    140\u001B[0m \u001B[38;5;250m\u001B[39m\u001B[38;5;124;03m\"\"\"Return the best trial in the study.\u001B[39;00m\n\u001B[1;32m    141\u001B[0m \n\u001B[1;32m    142\u001B[0m \u001B[38;5;124;03m.. note::\u001B[39;00m\n\u001B[0;32m   (...)\u001B[0m\n\u001B[1;32m    153\u001B[0m \n\u001B[1;32m    154\u001B[0m \u001B[38;5;124;03m\"\"\"\u001B[39;00m\n\u001B[1;32m    156\u001B[0m \u001B[38;5;28;01mif\u001B[39;00m \u001B[38;5;28mself\u001B[39m\u001B[38;5;241m.\u001B[39m_is_multi_objective():\n\u001B[0;32m--> 157\u001B[0m     \u001B[38;5;28;01mraise\u001B[39;00m \u001B[38;5;167;01mRuntimeError\u001B[39;00m(\n\u001B[1;32m    158\u001B[0m         \u001B[38;5;124m\"\u001B[39m\u001B[38;5;124mA single best trial cannot be retrieved from a multi-objective study. Consider \u001B[39m\u001B[38;5;124m\"\u001B[39m\n\u001B[1;32m    159\u001B[0m         \u001B[38;5;124m\"\u001B[39m\u001B[38;5;124musing Study.best_trials to retrieve a list containing the best trials.\u001B[39m\u001B[38;5;124m\"\u001B[39m\n\u001B[1;32m    160\u001B[0m     )\n\u001B[1;32m    162\u001B[0m best_trial \u001B[38;5;241m=\u001B[39m \u001B[38;5;28mself\u001B[39m\u001B[38;5;241m.\u001B[39m_storage\u001B[38;5;241m.\u001B[39mget_best_trial(\u001B[38;5;28mself\u001B[39m\u001B[38;5;241m.\u001B[39m_study_id)\n\u001B[1;32m    164\u001B[0m \u001B[38;5;66;03m# If the trial with the best value is infeasible, select the best trial from all feasible\u001B[39;00m\n\u001B[1;32m    165\u001B[0m \u001B[38;5;66;03m# trials. Note that the behavior is undefined when constrained optimization without the\u001B[39;00m\n\u001B[1;32m    166\u001B[0m \u001B[38;5;66;03m# violation value in the best-valued trial.\u001B[39;00m\n",
      "File \u001B[0;32m~/anaconda3/envs/MLKernel/lib/python3.12/site-packages/optuna/storages/_in_memory.py:234\u001B[0m, in \u001B[0;36mget_best_trial\u001B[0;34m(self, study_id)\u001B[0m\n\u001B[1;32m    232\u001B[0m     \u001B[38;5;28;01mraise\u001B[39;00m \u001B[38;5;167;01mValueError\u001B[39;00m(\u001B[38;5;124m\"\u001B[39m\u001B[38;5;124mNo trials are completed yet.\u001B[39m\u001B[38;5;124m\"\u001B[39m)\n\u001B[1;32m    233\u001B[0m \u001B[38;5;28;01melif\u001B[39;00m \u001B[38;5;28mlen\u001B[39m(\u001B[38;5;28mself\u001B[39m\u001B[38;5;241m.\u001B[39m_studies[study_id]\u001B[38;5;241m.\u001B[39mdirections) \u001B[38;5;241m>\u001B[39m \u001B[38;5;241m1\u001B[39m:\n\u001B[0;32m--> 234\u001B[0m     \u001B[38;5;28;01mraise\u001B[39;00m \u001B[38;5;167;01mRuntimeError\u001B[39;00m(\n\u001B[1;32m    235\u001B[0m         \u001B[38;5;124m\"\u001B[39m\u001B[38;5;124mBest trial can be obtained only for single-objective optimization.\u001B[39m\u001B[38;5;124m\"\u001B[39m\n\u001B[1;32m    236\u001B[0m     )\n\u001B[1;32m    237\u001B[0m \u001B[38;5;28;01mreturn\u001B[39;00m \u001B[38;5;28mself\u001B[39m\u001B[38;5;241m.\u001B[39mget_trial(best_trial_id)\n",
      "\u001B[0;31mValueError\u001B[0m: No trials are completed yet."
     ]
    }
   ],
   "execution_count": 96
  },
  {
   "metadata": {},
   "cell_type": "markdown",
   "source": [
    "The silhouette score is very low, suggesting that samples of the same cluster are not very similar to other samples in the same cluster. According to the Davies Bouldin score the model presents a score of 3.41 which is high. This score suggests that our clusters are not well defined and probably are very close to each other. Finally, the Calinsky Harabasz score is very high and this is due to the size of our dataset. This score suggests that separation between clusters is moderate or high in relation to the compactness of individual clusters.\n",
    "\n",
    "This scores suggest that the algorithm may have find some structure in our dataset but probably the clusters found are overlapping or have low intra cluster similarity.\n",
    "\n",
    "### External evaluation\n",
    "\n",
    "For the external evaluation we will train a model with n_clusters = 2 (Default/No Default)"
   ],
   "id": "bdb43353db7000b1"
  },
  {
   "metadata": {
    "ExecuteTime": {
     "end_time": "2024-12-22T20:45:41.582623Z",
     "start_time": "2024-12-22T20:45:41.506490Z"
    }
   },
   "cell_type": "code",
   "source": "X_reduced = X_scaled.sample(n=50000, random_state=42)",
   "id": "cc435d1c6b7ee8cb",
   "outputs": [],
   "execution_count": 97
  },
  {
   "metadata": {
    "ExecuteTime": {
     "end_time": "2024-12-22T20:47:15.353436Z",
     "start_time": "2024-12-22T20:47:15.350240Z"
    }
   },
   "cell_type": "code",
   "source": [
    "def objective(trial):\n",
    "    init = trial.suggest_categorical('init', ['k-means++', 'random'])\n",
    "    max_iter = trial.suggest_int('max_iter', 100, 1000)\n",
    "    tol = trial.suggest_float('tol', 1e-5, 1e-1)\n",
    "    n_init = trial.suggest_int('n_init', 1, 10)\n",
    "    km = cuKMeans(n_clusters=2, init=init, max_iter=max_iter, tol=tol, n_init=n_init)\n",
    "    labels = km.fit_predict(X_gpu)\n",
    "    score = cu_silhouette_score(cp.asarray(X_reduced), cp.asarray(labels))\n",
    "    return score"
   ],
   "id": "9085f2648f28ea37",
   "outputs": [],
   "execution_count": 100
  },
  {
   "metadata": {
    "ExecuteTime": {
     "end_time": "2024-12-22T20:47:39.130042Z",
     "start_time": "2024-12-22T20:47:18.534535Z"
    }
   },
   "cell_type": "code",
   "source": [
    "study = optuna.create_study(study_name='kmeans_external', direction='maximize')\n",
    "study.optimize(objective, n_trials=5)"
   ],
   "id": "c8fe6078f829be51",
   "outputs": [
    {
     "name": "stderr",
     "output_type": "stream",
     "text": [
      "[I 2024-12-22 21:47:18,535] A new study created in memory with name: kmeans_external\n",
      "[I 2024-12-22 21:47:23,140] Trial 0 finished with value: 0.06788638454138018 and parameters: {'init': 'k-means++', 'max_iter': 481, 'tol': 0.0871890108890532, 'n_init': 2}. Best is trial 0 with value: 0.06788638454138018.\n",
      "[I 2024-12-22 21:47:27,114] Trial 1 finished with value: 0.0678863845413802 and parameters: {'init': 'k-means++', 'max_iter': 312, 'tol': 0.02777130950212486, 'n_init': 3}. Best is trial 1 with value: 0.0678863845413802.\n",
      "[I 2024-12-22 21:47:31,152] Trial 2 finished with value: 0.06788638454138018 and parameters: {'init': 'k-means++', 'max_iter': 205, 'tol': 0.04387879338646051, 'n_init': 5}. Best is trial 1 with value: 0.0678863845413802.\n",
      "[I 2024-12-22 21:47:35,123] Trial 3 finished with value: 0.06788638454138018 and parameters: {'init': 'k-means++', 'max_iter': 632, 'tol': 0.015172662624574186, 'n_init': 2}. Best is trial 1 with value: 0.0678863845413802.\n",
      "[I 2024-12-22 21:47:39,128] Trial 4 finished with value: 0.0678863845413802 and parameters: {'init': 'k-means++', 'max_iter': 281, 'tol': 0.053277505734503496, 'n_init': 7}. Best is trial 1 with value: 0.0678863845413802.\n"
     ]
    }
   ],
   "execution_count": 101
  },
  {
   "metadata": {
    "ExecuteTime": {
     "end_time": "2024-12-22T20:47:44.794817Z",
     "start_time": "2024-12-22T20:47:44.729915Z"
    }
   },
   "cell_type": "code",
   "source": [
    "df = pd.read_parquet('../data/processed/selected_features_df.parquet')\n",
    "df_scaled = scaler.fit_transform(df)\n",
    "df_scaled = pd.DataFrame(df_scaled, columns=df.columns)"
   ],
   "id": "af369f6f4981aa34",
   "outputs": [],
   "execution_count": 102
  },
  {
   "metadata": {
    "ExecuteTime": {
     "end_time": "2024-12-22T20:50:37.200422Z",
     "start_time": "2024-12-22T20:48:47.407150Z"
    }
   },
   "cell_type": "code",
   "source": [
    "model = cuKMeans(**study.best_params, n_clusters = 2)\n",
    "metrics = ClusteringMetrics(df_scaled, model)\n",
    "metrics.train()\n",
    "metrics.save_model(\"../models/kmeans_external.pkl\")\n",
    "metrics.compute_internalEvaluation()\n",
    "metrics.compute_externalEvaluation(df_scaled['TARGET'])\n",
    "metrics.print_metrics()"
   ],
   "id": "79511df11318874d",
   "outputs": [
    {
     "name": "stdout",
     "output_type": "stream",
     "text": [
      "Silhouette Score: 0.06900829616268382\n",
      "Calinski Harabasz Score: 19630.322704364906\n",
      "Davies Bouldin Score: 2.507386650524434\n",
      "Adjusted Rand Index: -0.02902495344932571\n",
      "Mutual Information Score: 0.0011172376696726785\n",
      "Homogeneity Score: 0.0040100593571080955\n",
      "Completeness Score: 0.002460505923724563\n",
      "V-Measure Score: 0.0030497412125272258\n"
     ]
    }
   ],
   "execution_count": 103
  },
  {
   "metadata": {},
   "cell_type": "markdown",
   "source": "## OPTICS",
   "id": "70731f3ce900fa18"
  },
  {
   "metadata": {},
   "cell_type": "markdown",
   "source": "We will use a sample even smaller than the one before because we can not run OPTICS in the GPU and it takes an infeasible time.",
   "id": "106712c577fcc9b0"
  },
  {
   "metadata": {
    "ExecuteTime": {
     "end_time": "2024-12-22T19:15:33.298545Z",
     "start_time": "2024-12-22T19:15:33.284144Z"
    }
   },
   "cell_type": "code",
   "source": "X_reduced = X_scaled.sample(n=10000, random_state=42)",
   "id": "eb176041ada43d1d",
   "outputs": [],
   "execution_count": 46
  },
  {
   "metadata": {},
   "cell_type": "markdown",
   "source": "### Hyperparameter Tuning",
   "id": "866a37ad24be2af3"
  },
  {
   "metadata": {
    "ExecuteTime": {
     "end_time": "2024-12-21T15:45:47.992135Z",
     "start_time": "2024-12-21T15:45:47.989167Z"
    }
   },
   "cell_type": "code",
   "source": [
    "def objective(trial):\n",
    "    max_eps = trial.suggest_float('eps', 8.0, 15.0)\n",
    "    min_samples = trial.suggest_int('min_samples', 12, 20)\n",
    "\n",
    "    model = OPTICS(max_eps=max_eps, min_samples=min_samples, metric=\"cosine\")\n",
    "    model.fit(X_reduced.to_numpy())\n",
    "    y_pred = model.labels_\n",
    "    unique_labels = np.unique(y_pred)\n",
    "    n_clusters = len(unique_labels)\n",
    "\n",
    "    if -1 in unique_labels:\n",
    "        n_clusters -= 1  # Excluir el ruido\n",
    "\n",
    "\n",
    "    if n_clusters < 2:\n",
    "        return -1\n",
    "    else:\n",
    "        return cu_silhouette_score(cp.asarray(X_reduced), cp.asarray(y_pred))\n"
   ],
   "id": "1be333f0f8fd220b",
   "outputs": [],
   "execution_count": 33
  },
  {
   "metadata": {
    "ExecuteTime": {
     "end_time": "2024-12-21T15:44:18.936539Z",
     "start_time": "2024-12-21T15:45:50.349128Z"
    }
   },
   "cell_type": "code",
   "source": [
    "study = optuna.create_study(direction='maximize', study_name='OPTICS')\n",
    "study.optimize(objective, n_trials=2)"
   ],
   "id": "b0332633433ffd82",
   "outputs": [
    {
     "name": "stderr",
     "output_type": "stream",
     "text": [
      "[I 2024-12-21 16:45:50,349] A new study created in memory with name: OPTICS\n"
     ]
    },
    {
     "name": "stdout",
     "output_type": "stream",
     "text": [
      "4\n"
     ]
    },
    {
     "name": "stderr",
     "output_type": "stream",
     "text": [
      "[I 2024-12-21 16:43:16,356] Trial 0 finished with value: 0.10944135166426147 and parameters: {'eps': 9.847871505295355, 'min_samples': 15}. Best is trial 0 with value: 0.10944135166426147.\n"
     ]
    },
    {
     "name": "stdout",
     "output_type": "stream",
     "text": [
      "7\n"
     ]
    },
    {
     "name": "stderr",
     "output_type": "stream",
     "text": [
      "[I 2024-12-21 16:44:18,935] Trial 1 finished with value: -0.08098581341910192 and parameters: {'eps': 13.342142748771352, 'min_samples': 13}. Best is trial 0 with value: 0.10944135166426147.\n"
     ]
    }
   ],
   "execution_count": 34
  },
  {
   "metadata": {
    "ExecuteTime": {
     "end_time": "2024-12-21T15:46:17.232607Z",
     "start_time": "2024-12-21T15:46:17.229594Z"
    }
   },
   "cell_type": "code",
   "source": [
    "print(study.best_params)\n",
    "eps = study.best_params['eps']\n",
    "min_samples = study.best_params['min_samples']"
   ],
   "id": "3fe065777a3cfc82",
   "outputs": [
    {
     "name": "stdout",
     "output_type": "stream",
     "text": [
      "{'eps': 9.847871505295355, 'min_samples': 15}\n"
     ]
    }
   ],
   "execution_count": 37
  },
  {
   "metadata": {
    "ExecuteTime": {
     "end_time": "2024-12-22T19:20:40.840173Z",
     "start_time": "2024-12-22T19:19:23.425356Z"
    }
   },
   "cell_type": "code",
   "source": [
    "model = OPTICS(**study.best_params, metric='cosine')\n",
    "metrics = ClusteringMetrics(cp.asnumpy(X_reduced), model)\n",
    "metrics.train()\n",
    "metrics.save_model(\"../models/OPTICS.pkl\")\n",
    "metrics.compute_internalEvaluation()\n",
    "metrics.print_metrics()"
   ],
   "id": "7d57481d099a1f6c",
   "outputs": [
    {
     "name": "stdout",
     "output_type": "stream",
     "text": [
      "Silhouette Score: 0.3531452857448034\n",
      "Calinski Harabasz Score: 84.812886693263\n",
      "Davies Bouldin Score: 1.7190411876881133\n"
     ]
    }
   ],
   "execution_count": 49
  },
  {
   "metadata": {},
   "cell_type": "markdown",
   "source": "The silhouette score is considered moderate, meaning that there are some clusters but the structure is not well defined. Together with this, the Davies Boulding score suggests that the clusters are overlapping. The CH score is low for the size of the dataset and it means that there too many or too few clusters.",
   "id": "e2ec6d99f43b250"
  },
  {
   "metadata": {},
   "cell_type": "markdown",
   "source": "## Agglomerative Clustering",
   "id": "ad0d447232b5b8ac"
  },
  {
   "metadata": {},
   "cell_type": "markdown",
   "source": "We will use a subset of 50000 rows",
   "id": "124c6097e7818254"
  },
  {
   "metadata": {
    "ExecuteTime": {
     "end_time": "2024-12-22T19:42:12.205449Z",
     "start_time": "2024-12-22T19:42:12.138762Z"
    }
   },
   "cell_type": "code",
   "source": [
    "X_reduced = X_scaled.sample(n=50000, random_state=42)\n",
    "X_gpu = cp.asarray(X_reduced)"
   ],
   "id": "e44db5e987bde68f",
   "outputs": [],
   "execution_count": 58
  },
  {
   "metadata": {
    "ExecuteTime": {
     "end_time": "2024-12-22T19:54:21.243013Z",
     "start_time": "2024-12-22T19:54:21.239999Z"
    }
   },
   "cell_type": "code",
   "source": [
    "def objective(trial):\n",
    "    n_clusters = trial.suggest_int('n_clusters', 1, 10)\n",
    "    metric = trial.suggest_categorical('metric', ['cosine', 'euclidean'])\n",
    "    n_neighbors = trial.suggest_int('n_neighbors', 5, 30)\n",
    "\n",
    "    model = AgglomerativeClustering(n_clusters=n_clusters, metric = metric, n_neighbors = n_neighbors)\n",
    "    model.fit(X_gpu)\n",
    "    y_pred = model.labels_\n",
    "    unique_labels = np.unique(y_pred)\n",
    "    n_clusters = len(unique_labels)\n",
    "\n",
    "    if -1 in unique_labels:\n",
    "        n_clusters -= 1  # Excluir el ruido\n",
    "\n",
    "\n",
    "    if n_clusters < 2:\n",
    "        return -1\n",
    "    else:\n",
    "        return cu_silhouette_score(cp.asarray(X_reduced), cp.asarray(y_pred))"
   ],
   "id": "3ab9bb3ee4a15690",
   "outputs": [],
   "execution_count": 73
  },
  {
   "metadata": {
    "ExecuteTime": {
     "end_time": "2024-12-22T19:56:16.817936Z",
     "start_time": "2024-12-22T19:54:33.705905Z"
    }
   },
   "cell_type": "code",
   "source": [
    "study = optuna.create_study(study_name='AgglomerativeClustering', direction='maximize')\n",
    "study.optimize(objective, n_trials=30)"
   ],
   "id": "45f2ec1ba01887b3",
   "outputs": [
    {
     "name": "stderr",
     "output_type": "stream",
     "text": [
      "[I 2024-12-22 20:54:33,707] A new study created in memory with name: AgglomerativeClustering\n",
      "[I 2024-12-22 20:54:38,367] Trial 0 finished with value: -0.20300583337077097 and parameters: {'n_clusters': 10, 'metric': 'cosine', 'n_neighbors': 22}. Best is trial 0 with value: -0.20300583337077097.\n",
      "[I 2024-12-22 20:54:41,140] Trial 1 finished with value: -0.19588273645040638 and parameters: {'n_clusters': 7, 'metric': 'cosine', 'n_neighbors': 15}. Best is trial 1 with value: -0.19588273645040638.\n",
      "[I 2024-12-22 20:54:45,029] Trial 2 finished with value: -0.19221949156873197 and parameters: {'n_clusters': 5, 'metric': 'cosine', 'n_neighbors': 19}. Best is trial 2 with value: -0.19221949156873197.\n",
      "[I 2024-12-22 20:54:45,203] Trial 3 finished with value: -1.0 and parameters: {'n_clusters': 1, 'metric': 'euclidean', 'n_neighbors': 17}. Best is trial 2 with value: -0.19221949156873197.\n",
      "[I 2024-12-22 20:54:49,126] Trial 4 finished with value: -0.1341858793342079 and parameters: {'n_clusters': 2, 'metric': 'cosine', 'n_neighbors': 17}. Best is trial 4 with value: -0.1341858793342079.\n",
      "[I 2024-12-22 20:54:53,030] Trial 5 finished with value: -0.19631769250916462 and parameters: {'n_clusters': 8, 'metric': 'cosine', 'n_neighbors': 21}. Best is trial 4 with value: -0.1341858793342079.\n",
      "[I 2024-12-22 20:54:56,918] Trial 6 finished with value: -0.1341858793342079 and parameters: {'n_clusters': 2, 'metric': 'cosine', 'n_neighbors': 13}. Best is trial 4 with value: -0.1341858793342079.\n",
      "[I 2024-12-22 20:55:00,798] Trial 7 finished with value: -0.1341858793342079 and parameters: {'n_clusters': 2, 'metric': 'cosine', 'n_neighbors': 21}. Best is trial 4 with value: -0.1341858793342079.\n",
      "[I 2024-12-22 20:55:04,732] Trial 8 finished with value: 0.264651627433189 and parameters: {'n_clusters': 8, 'metric': 'euclidean', 'n_neighbors': 9}. Best is trial 8 with value: 0.264651627433189.\n",
      "[I 2024-12-22 20:55:04,924] Trial 9 finished with value: -1.0 and parameters: {'n_clusters': 1, 'metric': 'euclidean', 'n_neighbors': 23}. Best is trial 8 with value: 0.264651627433189.\n",
      "[I 2024-12-22 20:55:08,852] Trial 10 finished with value: 0.32349896602987277 and parameters: {'n_clusters': 5, 'metric': 'euclidean', 'n_neighbors': 5}. Best is trial 10 with value: 0.32349896602987277.\n",
      "[I 2024-12-22 20:55:11,648] Trial 11 finished with value: 0.32349896602987277 and parameters: {'n_clusters': 5, 'metric': 'euclidean', 'n_neighbors': 5}. Best is trial 10 with value: 0.32349896602987277.\n",
      "[I 2024-12-22 20:55:15,599] Trial 12 finished with value: 0.32349896602987277 and parameters: {'n_clusters': 5, 'metric': 'euclidean', 'n_neighbors': 5}. Best is trial 10 with value: 0.32349896602987277.\n",
      "[I 2024-12-22 20:55:19,552] Trial 13 finished with value: 0.33259381770221347 and parameters: {'n_clusters': 4, 'metric': 'euclidean', 'n_neighbors': 29}. Best is trial 13 with value: 0.33259381770221347.\n",
      "[I 2024-12-22 20:55:23,551] Trial 14 finished with value: 0.33259354082548387 and parameters: {'n_clusters': 4, 'metric': 'euclidean', 'n_neighbors': 30}. Best is trial 13 with value: 0.33259381770221347.\n",
      "[I 2024-12-22 20:55:27,507] Trial 15 finished with value: 0.33920768103761145 and parameters: {'n_clusters': 3, 'metric': 'euclidean', 'n_neighbors': 29}. Best is trial 15 with value: 0.33920768103761145.\n",
      "[I 2024-12-22 20:55:31,513] Trial 16 finished with value: 0.33920768103761145 and parameters: {'n_clusters': 3, 'metric': 'euclidean', 'n_neighbors': 30}. Best is trial 15 with value: 0.33920768103761145.\n",
      "[I 2024-12-22 20:55:35,463] Trial 17 finished with value: 0.3392052193679806 and parameters: {'n_clusters': 3, 'metric': 'euclidean', 'n_neighbors': 26}. Best is trial 15 with value: 0.33920768103761145.\n",
      "[I 2024-12-22 20:55:39,401] Trial 18 finished with value: 0.33920768103761145 and parameters: {'n_clusters': 3, 'metric': 'euclidean', 'n_neighbors': 26}. Best is trial 15 with value: 0.33920768103761145.\n",
      "[I 2024-12-22 20:55:42,230] Trial 19 finished with value: 0.3392075527355498 and parameters: {'n_clusters': 3, 'metric': 'euclidean', 'n_neighbors': 27}. Best is trial 15 with value: 0.33920768103761145.\n",
      "[I 2024-12-22 20:55:46,186] Trial 20 finished with value: 0.30773953140226956 and parameters: {'n_clusters': 6, 'metric': 'euclidean', 'n_neighbors': 24}. Best is trial 15 with value: 0.33920768103761145.\n",
      "[I 2024-12-22 20:55:50,144] Trial 21 finished with value: 0.33920620052650935 and parameters: {'n_clusters': 3, 'metric': 'euclidean', 'n_neighbors': 27}. Best is trial 15 with value: 0.33920768103761145.\n",
      "[I 2024-12-22 20:55:54,086] Trial 22 finished with value: 0.33259354082548387 and parameters: {'n_clusters': 4, 'metric': 'euclidean', 'n_neighbors': 30}. Best is trial 15 with value: 0.33920768103761145.\n",
      "[I 2024-12-22 20:55:58,042] Trial 23 finished with value: 0.33920768103761145 and parameters: {'n_clusters': 3, 'metric': 'euclidean', 'n_neighbors': 25}. Best is trial 15 with value: 0.33920768103761145.\n",
      "[I 2024-12-22 20:55:58,251] Trial 24 finished with value: -1.0 and parameters: {'n_clusters': 1, 'metric': 'euclidean', 'n_neighbors': 28}. Best is trial 15 with value: 0.33920768103761145.\n",
      "[I 2024-12-22 20:56:02,201] Trial 25 finished with value: 0.35026178250881423 and parameters: {'n_clusters': 2, 'metric': 'euclidean', 'n_neighbors': 25}. Best is trial 25 with value: 0.35026178250881423.\n",
      "[I 2024-12-22 20:56:06,136] Trial 26 finished with value: 0.35026178250881423 and parameters: {'n_clusters': 2, 'metric': 'euclidean', 'n_neighbors': 30}. Best is trial 25 with value: 0.35026178250881423.\n",
      "[I 2024-12-22 20:56:10,072] Trial 27 finished with value: 0.35026178250881423 and parameters: {'n_clusters': 2, 'metric': 'euclidean', 'n_neighbors': 28}. Best is trial 25 with value: 0.35026178250881423.\n",
      "[I 2024-12-22 20:56:14,009] Trial 28 finished with value: 0.35026178250881423 and parameters: {'n_clusters': 2, 'metric': 'euclidean', 'n_neighbors': 24}. Best is trial 25 with value: 0.35026178250881423.\n",
      "[I 2024-12-22 20:56:16,816] Trial 29 finished with value: 0.25251594574472397 and parameters: {'n_clusters': 10, 'metric': 'euclidean', 'n_neighbors': 22}. Best is trial 25 with value: 0.35026178250881423.\n"
     ]
    }
   ],
   "execution_count": 76
  },
  {
   "metadata": {
    "ExecuteTime": {
     "end_time": "2024-12-22T19:59:20.589935Z",
     "start_time": "2024-12-22T19:57:26.375966Z"
    }
   },
   "cell_type": "code",
   "source": [
    "model = AgglomerativeClustering(**study.best_params)\n",
    "metrics = ClusteringMetrics(X_scaled, model)\n",
    "metrics.train()\n",
    "metrics.save_model(\"../models/agglomerative.pkl\")\n",
    "metrics.compute_internalEvaluation()\n",
    "metrics.print_metrics()"
   ],
   "id": "d6c35ab704f1ce7",
   "outputs": [
    {
     "name": "stdout",
     "output_type": "stream",
     "text": [
      "Silhouette Score: 0.35992020990680346\n",
      "Calinski Harabasz Score: 3.7695618295292417\n",
      "Davies Bouldin Score: 0.504829277908786\n"
     ]
    }
   ],
   "execution_count": 77
  },
  {
   "metadata": {},
   "cell_type": "markdown",
   "source": "The silhouette score is almost the same as in the other algorithms and shows a moderate value that means clusters not properly defined. The Calinsky Harabasz score is very low according to the size of our dataset. The Davies Bouldin score suggest that clusters are compact and well separated since it has a value close to zero.",
   "id": "98ea1e2534fac8be"
  },
  {
   "metadata": {},
   "cell_type": "markdown",
   "source": [
    "### External Evaluation\n",
    "\n",
    "For performing the external evaluation we will perform Hyperparameter tuning for n_clusters = 2 (Default / No default)."
   ],
   "id": "8624229089412d88"
  },
  {
   "metadata": {
    "ExecuteTime": {
     "end_time": "2024-12-22T20:13:41.140368Z",
     "start_time": "2024-12-22T20:13:41.137384Z"
    }
   },
   "cell_type": "code",
   "source": [
    "def objective(trial):\n",
    "    metric = trial.suggest_categorical('metric', ['cosine', 'euclidean'])\n",
    "    n_neighbors = trial.suggest_int('n_neighbors', 5, 30)\n",
    "\n",
    "    model = AgglomerativeClustering(metric = metric, n_neighbors = n_neighbors)\n",
    "    model.fit(X_gpu)\n",
    "    y_pred = model.labels_\n",
    "    unique_labels = np.unique(y_pred)\n",
    "    n_clusters = len(unique_labels)\n",
    "\n",
    "    if -1 in unique_labels:\n",
    "        n_clusters -= 1\n",
    "\n",
    "\n",
    "    if n_clusters < 2:\n",
    "        return -1\n",
    "    else:\n",
    "        return cu_silhouette_score(cp.asarray(X_reduced), cp.asarray(y_pred))"
   ],
   "id": "51523de110ea04ab",
   "outputs": [],
   "execution_count": 79
  },
  {
   "metadata": {
    "ExecuteTime": {
     "end_time": "2024-12-22T20:15:41.417612Z",
     "start_time": "2024-12-22T20:13:43.925452Z"
    }
   },
   "cell_type": "code",
   "source": [
    "study = optuna.create_study(direction='maximize', study_name='AgglomerativeClustering_Ext')\n",
    "study.optimize(objective, n_trials=30)"
   ],
   "id": "869314bbdedba8d3",
   "outputs": [
    {
     "name": "stderr",
     "output_type": "stream",
     "text": [
      "[I 2024-12-22 21:13:43,926] A new study created in memory with name: AgglomerativeClustering_Ext\n",
      "[I 2024-12-22 21:13:48,561] Trial 0 finished with value: 0.35026178250881423 and parameters: {'metric': 'euclidean', 'n_neighbors': 28}. Best is trial 0 with value: 0.35026178250881423.\n",
      "[I 2024-12-22 21:13:51,355] Trial 1 finished with value: -0.1341858793342079 and parameters: {'metric': 'cosine', 'n_neighbors': 9}. Best is trial 0 with value: 0.35026178250881423.\n",
      "[I 2024-12-22 21:13:55,359] Trial 2 finished with value: 0.35026178250881423 and parameters: {'metric': 'euclidean', 'n_neighbors': 10}. Best is trial 0 with value: 0.35026178250881423.\n",
      "[I 2024-12-22 21:13:59,290] Trial 3 finished with value: -0.1341858793342079 and parameters: {'metric': 'cosine', 'n_neighbors': 9}. Best is trial 0 with value: 0.35026178250881423.\n",
      "[I 2024-12-22 21:14:03,444] Trial 4 finished with value: 0.35026178250881423 and parameters: {'metric': 'euclidean', 'n_neighbors': 18}. Best is trial 0 with value: 0.35026178250881423.\n",
      "[I 2024-12-22 21:14:07,556] Trial 5 finished with value: 0.35026178250881423 and parameters: {'metric': 'euclidean', 'n_neighbors': 21}. Best is trial 0 with value: 0.35026178250881423.\n",
      "[I 2024-12-22 21:14:11,590] Trial 6 finished with value: 0.35026178250881423 and parameters: {'metric': 'euclidean', 'n_neighbors': 20}. Best is trial 0 with value: 0.35026178250881423.\n",
      "[I 2024-12-22 21:14:15,593] Trial 7 finished with value: 0.35026178250881423 and parameters: {'metric': 'euclidean', 'n_neighbors': 18}. Best is trial 0 with value: 0.35026178250881423.\n",
      "[I 2024-12-22 21:14:19,575] Trial 8 finished with value: 0.3502617825088141 and parameters: {'metric': 'euclidean', 'n_neighbors': 6}. Best is trial 0 with value: 0.35026178250881423.\n",
      "[I 2024-12-22 21:14:22,383] Trial 9 finished with value: 0.35026178250881423 and parameters: {'metric': 'euclidean', 'n_neighbors': 7}. Best is trial 0 with value: 0.35026178250881423.\n",
      "[I 2024-12-22 21:14:26,353] Trial 10 finished with value: -0.1341858793342079 and parameters: {'metric': 'cosine', 'n_neighbors': 30}. Best is trial 0 with value: 0.35026178250881423.\n",
      "[I 2024-12-22 21:14:30,414] Trial 11 finished with value: 0.35026178250881423 and parameters: {'metric': 'euclidean', 'n_neighbors': 30}. Best is trial 0 with value: 0.35026178250881423.\n",
      "[I 2024-12-22 21:14:34,451] Trial 12 finished with value: 0.35026178250881423 and parameters: {'metric': 'euclidean', 'n_neighbors': 13}. Best is trial 0 with value: 0.35026178250881423.\n",
      "[I 2024-12-22 21:14:38,499] Trial 13 finished with value: 0.35026178250881423 and parameters: {'metric': 'euclidean', 'n_neighbors': 26}. Best is trial 0 with value: 0.35026178250881423.\n",
      "[I 2024-12-22 21:14:42,494] Trial 14 finished with value: -0.1341858793342079 and parameters: {'metric': 'cosine', 'n_neighbors': 12}. Best is trial 0 with value: 0.35026178250881423.\n",
      "[I 2024-12-22 21:14:46,665] Trial 15 finished with value: 0.35026178250881423 and parameters: {'metric': 'euclidean', 'n_neighbors': 14}. Best is trial 0 with value: 0.35026178250881423.\n",
      "[I 2024-12-22 21:14:50,787] Trial 16 finished with value: 0.35026178250881423 and parameters: {'metric': 'euclidean', 'n_neighbors': 25}. Best is trial 0 with value: 0.35026178250881423.\n",
      "[I 2024-12-22 21:14:53,776] Trial 17 finished with value: 0.35026178250881423 and parameters: {'metric': 'euclidean', 'n_neighbors': 25}. Best is trial 0 with value: 0.35026178250881423.\n",
      "[I 2024-12-22 21:14:57,836] Trial 18 finished with value: -0.1341858793342079 and parameters: {'metric': 'cosine', 'n_neighbors': 15}. Best is trial 0 with value: 0.35026178250881423.\n",
      "[I 2024-12-22 21:15:01,854] Trial 19 finished with value: 0.35026178250881423 and parameters: {'metric': 'euclidean', 'n_neighbors': 22}. Best is trial 0 with value: 0.35026178250881423.\n",
      "[I 2024-12-22 21:15:05,855] Trial 20 finished with value: 0.35026178250881423 and parameters: {'metric': 'euclidean', 'n_neighbors': 10}. Best is trial 0 with value: 0.35026178250881423.\n",
      "[I 2024-12-22 21:15:09,938] Trial 21 finished with value: 0.35026178250881423 and parameters: {'metric': 'euclidean', 'n_neighbors': 16}. Best is trial 0 with value: 0.35026178250881423.\n",
      "[I 2024-12-22 21:15:14,039] Trial 22 finished with value: 0.35026178250881423 and parameters: {'metric': 'euclidean', 'n_neighbors': 18}. Best is trial 0 with value: 0.35026178250881423.\n",
      "[I 2024-12-22 21:15:18,196] Trial 23 finished with value: 0.35026178250881423 and parameters: {'metric': 'euclidean', 'n_neighbors': 27}. Best is trial 0 with value: 0.35026178250881423.\n",
      "[I 2024-12-22 21:15:22,218] Trial 24 finished with value: 0.35026178250881423 and parameters: {'metric': 'euclidean', 'n_neighbors': 28}. Best is trial 0 with value: 0.35026178250881423.\n",
      "[I 2024-12-22 21:15:25,042] Trial 25 finished with value: 0.35026178250881423 and parameters: {'metric': 'euclidean', 'n_neighbors': 11}. Best is trial 0 with value: 0.35026178250881423.\n",
      "[I 2024-12-22 21:15:29,094] Trial 26 finished with value: -0.1341858793342079 and parameters: {'metric': 'cosine', 'n_neighbors': 22}. Best is trial 0 with value: 0.35026178250881423.\n",
      "[I 2024-12-22 21:15:33,091] Trial 27 finished with value: 0.35026178250881423 and parameters: {'metric': 'euclidean', 'n_neighbors': 23}. Best is trial 0 with value: 0.35026178250881423.\n",
      "[I 2024-12-22 21:15:37,364] Trial 28 finished with value: 0.35026178250881423 and parameters: {'metric': 'euclidean', 'n_neighbors': 5}. Best is trial 0 with value: 0.35026178250881423.\n",
      "[I 2024-12-22 21:15:41,416] Trial 29 finished with value: -0.1341858793342079 and parameters: {'metric': 'cosine', 'n_neighbors': 8}. Best is trial 0 with value: 0.35026178250881423.\n"
     ]
    }
   ],
   "execution_count": 80
  },
  {
   "metadata": {
    "ExecuteTime": {
     "end_time": "2024-12-22T20:32:52.904847Z",
     "start_time": "2024-12-22T20:32:51.949557Z"
    }
   },
   "cell_type": "code",
   "source": [
    "df = pd.read_parquet('../data/processed/selected_features_df.parquet')\n",
    "df_scaled = scaler.fit_transform(df)\n",
    "df_scaled = pd.DataFrame(df_scaled, columns=df.columns)"
   ],
   "id": "80eb9b86508c22db",
   "outputs": [],
   "execution_count": 93
  },
  {
   "metadata": {
    "ExecuteTime": {
     "end_time": "2024-12-22T20:34:46.298204Z",
     "start_time": "2024-12-22T20:32:54.339834Z"
    }
   },
   "cell_type": "code",
   "source": [
    "model = AgglomerativeClustering(**study.best_params)\n",
    "metrics = ClusteringMetrics(df_scaled, model)\n",
    "metrics.train()\n",
    "metrics.save_model(\"../models/agglomerative_external.pkl\")\n",
    "metrics.compute_internalEvaluation()\n",
    "metrics.compute_externalEvaluation(df_scaled['TARGET'])\n",
    "metrics.print_metrics()"
   ],
   "id": "d0dd8ea0c4e68335",
   "outputs": [
    {
     "name": "stdout",
     "output_type": "stream",
     "text": [
      "Silhouette Score: 0.35992020990680346\n",
      "Calinski Harabasz Score: 3.7695618295292417\n",
      "Davies Bouldin Score: 0.504829277908786\n",
      "Adjusted Rand Index: -6.85324197191332e-06\n",
      "Mutual Information Score: 3.1264540388489684e-07\n",
      "Homogeneity Score: 1.122166447961587e-06\n",
      "Completeness Score: 0.0061743302642225375\n",
      "V-Measure Score: 2.2439250691117563e-06\n"
     ]
    }
   ],
   "execution_count": 94
  },
  {
   "metadata": {},
   "cell_type": "markdown",
   "source": "This scores show that clusters are not well alligned with real labels. Clusters are not homogeneous, meaning that clusters are formed by clients from the class Default and Clients from the class No Default. In addition, the ARI score shows that predicted clusters do not coincide with true labels.",
   "id": "ed32f8e03626ead0"
  }
 ],
 "metadata": {
  "kernelspec": {
   "display_name": "Python 3",
   "language": "python",
   "name": "python3"
  },
  "language_info": {
   "codemirror_mode": {
    "name": "ipython",
    "version": 2
   },
   "file_extension": ".py",
   "mimetype": "text/x-python",
   "name": "python",
   "nbconvert_exporter": "python",
   "pygments_lexer": "ipython2",
   "version": "2.7.6"
  }
 },
 "nbformat": 4,
 "nbformat_minor": 5
}
