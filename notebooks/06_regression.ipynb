{
 "cells": [
  {
   "metadata": {},
   "cell_type": "markdown",
   "source": "# Regression Models",
   "id": "b7355adf1ae69a55"
  },
  {
   "metadata": {},
   "cell_type": "markdown",
   "source": "For the regression task, our target variable will be the `AMT_CREDIT` column.",
   "id": "eafe393bd3e9cad4"
  },
  {
   "metadata": {},
   "cell_type": "markdown",
   "source": "First of all, we need to import the necessary libraries.",
   "id": "576431f90c1a3a5d"
  },
  {
   "cell_type": "code",
   "execution_count": null,
   "id": "initial_id",
   "metadata": {
    "collapsed": true
   },
   "outputs": [],
   "source": [
    "import pandas as pd\n",
    "import numpy as np\n",
    "\n",
    "from sklearn.model_selection import train_test_split\n",
    "from sklearn.preprocessing import StandardScaler\n",
    "from sklearn.metrics import mean_squared_error, r2_score\n",
    "from sklearn.linear_model import LinearRegression"
   ]
  },
  {
   "metadata": {},
   "cell_type": "markdown",
   "source": [
    "First of all, we are going to create a class to compute all the metrics. This class will be used to evaluate the performance of the models using the Stratified K Fold\n",
    ".\n",
    "\n",
    "The Hyperparameter Tunning will be done using the Optuna library."
   ],
   "id": "f0f6095d6865d04c"
  },
  {
   "metadata": {},
   "cell_type": "code",
   "outputs": [],
   "execution_count": null,
   "source": [
    "from sklearn.model_selection import StratifiedKFold\n",
    "from sklearn.metrics import mean_absolute_percentage_error, mean_absolute_error, root_mean_squared_error\n",
    "\n",
    "\n",
    "class RegressionMetrics:\n",
    "    def __init__(self, model, X, y):\n",
    "        self.model = model\n",
    "        self.X = pd.DataFrame(X).reset_index(drop=True)\n",
    "        self.y = pd.Series(y).reset_index(drop=True)\n",
    "        self.mse =[]\n",
    "        self.rmse = []\n",
    "        self.r2 = []\n",
    "        self.mae = []\n",
    "        self.mape = []\n",
    "        self.adj_r2 = []\n",
    "\n",
    "    def compute_metrics(self,y_test,y_pred):\n",
    "        mse = mean_squared_error(y_test, y_pred)\n",
    "        self.mse.append(mse)\n",
    "\n",
    "        rmse = root_mean_squared_error(y_test, y_pred)\n",
    "        self.rmse.append(rmse)\n",
    "\n",
    "        r2 = r2_score(y_test, y_pred)\n",
    "        self.r2.append(r2)\n",
    "\n",
    "        #adjusted r^2\n",
    "        n = len(self.X)\n",
    "        p = len(self.X.columns)\n",
    "        adj_r2 = 1 - (1 - r2) * (n - 1) / (n - p - 1)\n",
    "        self.adj_r2.append(adj_r2)\n",
    "\n",
    "        mae = mean_absolute_error(y_test, y_pred)\n",
    "        self.mae.append(mae)\n",
    "\n",
    "        mape = mean_absolute_percentage_error(y_test, y_pred)\n",
    "        self.mape.append(mape)\n",
    "\n",
    "    def stratifiedKfold(self):\n",
    "        skf = StratifiedKFold(n_splits=10, random_state=42,shuffle=True)\n",
    "        for train_index, test_index in skf.split(self.X,self.y):\n",
    "\n",
    "            X_train = self.X.iloc[train_index, :]\n",
    "            X_test = self.X.iloc[test_index, :]\n",
    "            y_train = self.y[train_index]\n",
    "            y_test = self.y[test_index]\n",
    "\n",
    "            self.model.fit(X_train, y_train)\n",
    "            y_pred = self.model.predict(X_test)\n",
    "\n",
    "            self.compute_metrics(y_test,y_pred)\n",
    "\n",
    "    def printResults(self):\n",
    "        print(f'MSE: {np.mean(self.mse)}')\n",
    "        print(f'RMSE: {np.mean(self.rmse)}')\n",
    "        print(f'R2: {np.mean(self.r2)}')\n",
    "        print(f'MAE: {np.mean(self.mae)}')\n",
    "        print(f'MAPE: {np.mean(self.mape)}')\n",
    "        print(f'Adjusted R2: {np.mean(self.adj_r2)}')\n"
   ],
   "id": "eabbd864b2e7f99d"
  },
  {
   "metadata": {},
   "cell_type": "markdown",
   "source": "Loading the data.",
   "id": "bdd08f52c0bf6775"
  },
  {
   "metadata": {},
   "cell_type": "code",
   "outputs": [],
   "execution_count": null,
   "source": [
    "df = pd.read_parquet('../data/processed/selected_features_df.parquet')\n",
    "X = df.drop('AMT_CREDIT', axis=1)\n",
    "y = df['AMT_CREDIT']"
   ],
   "id": "750e5f43cca9275a"
  },
  {
   "metadata": {},
   "cell_type": "markdown",
   "source": "Standardizing the data.",
   "id": "eed909b98796a0f2"
  },
  {
   "metadata": {},
   "cell_type": "code",
   "outputs": [],
   "execution_count": null,
   "source": [
    "scaler = StandardScaler()\n",
    "X_scaled = scaler.fit_transform(X)"
   ],
   "id": "b97aefe0bdaf7f39"
  },
  {
   "metadata": {},
   "cell_type": "markdown",
   "source": "## Linear Regression",
   "id": "2f4049cf60b5e3e"
  }
 ],
 "metadata": {
  "kernelspec": {
   "display_name": "Python 3",
   "language": "python",
   "name": "python3"
  },
  "language_info": {
   "codemirror_mode": {
    "name": "ipython",
    "version": 2
   },
   "file_extension": ".py",
   "mimetype": "text/x-python",
   "name": "python",
   "nbconvert_exporter": "python",
   "pygments_lexer": "ipython2",
   "version": "2.7.6"
  }
 },
 "nbformat": 4,
 "nbformat_minor": 5
}
