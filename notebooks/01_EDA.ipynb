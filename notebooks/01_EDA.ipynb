{
 "cells": [
  {
   "metadata": {},
   "cell_type": "markdown",
   "source": "# Exploratory Data Analysis",
   "id": "ffc6339fbc6fb203"
  },
  {
   "metadata": {},
   "cell_type": "markdown",
   "source": [
    "\n",
    "## Importing libraries"
   ],
   "id": "6ff6528f145879f9"
  },
  {
   "metadata": {},
   "cell_type": "code",
   "source": [
    "import pandas as pd\n",
    "import numpy as np\n",
    "from astropy.table.column import FORMATTER\n",
    "from sklearn.decomposition import PCA\n",
    "from sklearn.feature_selection import SelectKBest, f_classif\n",
    "import matplotlib.pyplot as plt\n",
    "from sklearn.preprocessing import StandardScaler\n",
    "from sklearn.model_selection import train_test_split\n",
    "from src.preprocessing import *\n"
   ],
   "id": "c3f7d82cd894ff79",
   "outputs": [],
   "execution_count": null
  },
  {
   "metadata": {},
   "cell_type": "markdown",
   "source": "## Loading data",
   "id": "256853974ac3bb20"
  },
  {
   "metadata": {},
   "cell_type": "code",
   "source": [
    "df = pd.read_csv('../data/processed/num_imputed_df.csv')\n",
    "y = pd.read_csv('../data/raw/application_train.csv')['TARGET']\n",
    "# hay que ajustar la y porque tiene mas filas que df\n",
    "\n",
    "desc = forma(df)\n",
    "desc"
   ],
   "id": "5e296b991249084f",
   "outputs": [],
   "execution_count": null
  },
  {
   "metadata": {},
   "cell_type": "code",
   "source": "df.head()",
   "id": "a2e0369460a078d",
   "outputs": [],
   "execution_count": null
  },
  {
   "metadata": {},
   "cell_type": "markdown",
   "source": "## Principal Component Analysis (PCA)",
   "id": "7893d66e7862ddec"
  },
  {
   "metadata": {},
   "cell_type": "markdown",
   "source": "### Creation of training and test sets",
   "id": "d25e8a37d57d4641"
  },
  {
   "metadata": {},
   "cell_type": "code",
   "source": "x_train, x_test = train_test_split(df, test_size=0.2, random_state=42)",
   "id": "87d401bf0db0ac4",
   "outputs": [],
   "execution_count": null
  },
  {
   "metadata": {},
   "cell_type": "markdown",
   "source": "### Standardizing data",
   "id": "8831cdbe1c680505"
  },
  {
   "metadata": {},
   "cell_type": "code",
   "source": [
    "scaler = StandardScaler()\n",
    "scaler.fit(x_train)\n",
    "x_train_scaled = scaler.transform(x_train)\n",
    "x_test_scaled = scaler.transform(x_test)"
   ],
   "id": "be27f3a23e4d8400",
   "outputs": [],
   "execution_count": null
  },
  {
   "metadata": {},
   "cell_type": "markdown",
   "source": "### PCA",
   "id": "a54175b6f5e72186"
  },
  {
   "metadata": {},
   "cell_type": "code",
   "source": [
    "pca = PCA(0.95)\n",
    "pca.fit(x_train_scaled)\n",
    "pca.n_components_"
   ],
   "id": "1f99daf0d3febbf",
   "outputs": [],
   "execution_count": null
  },
  {
   "metadata": {},
   "cell_type": "code",
   "source": [
    "# Explained variance\n",
    "explained_variance = pca.explained_variance_ratio_\n",
    "cumulative_variance = np.cumsum(explained_variance)\n",
    "\n",
    "# Plotting\n",
    "plt.figure(figsize=(10, 6))\n",
    "plt.plot(cumulative_variance, marker='o', linestyle='--')\n",
    "plt.title('Cumulative Explained Variance by PCA Components')\n",
    "plt.xlabel('Number of Components')\n",
    "plt.ylabel('Cumulative Explained Variance')\n",
    "plt.grid(True)\n",
    "plt.show()"
   ],
   "id": "30e2762048deefa4",
   "outputs": [],
   "execution_count": null
  },
  {
   "metadata": {},
   "cell_type": "code",
   "source": [
    "x_train_pca = pca.transform(x_train_scaled)\n",
    "x_test_pca = pca.transform(x_test_scaled)\n",
    "\n",
    "# Create df for PCA components\n",
    "pca_columns = [f'PC{i+1}' for i in range(pca.n_components_)]\n",
    "x_train_pca_df = pd.DataFrame(x_train_pca, columns=pca_columns)\n",
    "x_test_pca_df = pd.DataFrame(x_test_pca, columns=pca_columns)\n",
    "\n",
    "print(x_train_pca_df.head())\n",
    "print(x_test_pca_df.head())"
   ],
   "id": "e844d0ff713092aa",
   "outputs": [],
   "execution_count": null
  }
 ],
 "metadata": {
  "kernelspec": {
   "display_name": "Python 3",
   "language": "python",
   "name": "python3"
  },
  "language_info": {
   "codemirror_mode": {
    "name": "ipython",
    "version": 2
   },
   "file_extension": ".py",
   "mimetype": "text/x-python",
   "name": "python",
   "nbconvert_exporter": "python",
   "pygments_lexer": "ipython2",
   "version": "2.7.6"
  }
 },
 "nbformat": 4,
 "nbformat_minor": 5
}
