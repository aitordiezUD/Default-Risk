{
 "cells": [
  {
   "metadata": {},
   "cell_type": "markdown",
   "source": "# Exploratory Data Analysis",
   "id": "ffc6339fbc6fb203"
  },
  {
   "metadata": {},
   "cell_type": "markdown",
   "source": [
    "\n",
    "## Importing libraries"
   ],
   "id": "6ff6528f145879f9"
  },
  {
   "metadata": {
    "ExecuteTime": {
     "end_time": "2024-11-04T10:00:39.695624Z",
     "start_time": "2024-11-04T10:00:35.559316Z"
    }
   },
   "cell_type": "code",
   "source": [
    "import pandas as pd\n",
    "import numpy as np\n",
    "from astropy.table.column import FORMATTER\n",
    "from sklearn.decomposition import PCA\n",
    "from sklearn.feature_selection import SelectKBest, f_classif\n",
    "import matplotlib.pyplot as plt\n",
    "from sklearn.preprocessing import StandardScaler\n",
    "from sklearn.model_selection import train_test_split\n",
    "from src.preprocessing import *"
   ],
   "id": "c3f7d82cd894ff79",
   "outputs": [],
   "execution_count": 1
  },
  {
   "metadata": {},
   "cell_type": "markdown",
   "source": "## Loading data",
   "id": "256853974ac3bb20"
  },
  {
   "metadata": {
    "ExecuteTime": {
     "end_time": "2024-11-02T18:58:48.855264Z",
     "start_time": "2024-11-02T18:58:42.337991Z"
    }
   },
   "cell_type": "code",
   "source": [
    "df = pd.read_csv('../data/processed/num_imputed_df.csv')\n",
    "y = pd.read_csv('../data/raw/application_train.csv')['TARGET']\n",
    "# hay que ajustar la y porque tiene mas filas que df\n",
    "\n",
    "desc = forma(df)\n",
    "desc"
   ],
   "id": "5e296b991249084f",
   "outputs": [
    {
     "data": {
      "text/plain": [
       "'307507 filas y 87 columnas'"
      ]
     },
     "execution_count": 3,
     "metadata": {},
     "output_type": "execute_result"
    }
   ],
   "execution_count": 3
  },
  {
   "metadata": {
    "ExecuteTime": {
     "end_time": "2024-11-02T18:52:16.746513Z",
     "start_time": "2024-11-02T18:52:16.718127Z"
    }
   },
   "cell_type": "code",
   "source": "df.head()",
   "id": "a2e0369460a078d",
   "outputs": [
    {
     "data": {
      "text/plain": [
       "   FLAG_OWN_CAR  FLAG_OWN_REALTY  CNT_CHILDREN  AMT_INCOME_TOTAL  AMT_CREDIT  \\\n",
       "0           0.0              1.0           0.0          202500.0    406597.5   \n",
       "1           0.0              0.0           0.0          270000.0   1293502.5   \n",
       "2           1.0              1.0           0.0           67500.0    135000.0   \n",
       "3           0.0              1.0           0.0          135000.0    312682.5   \n",
       "4           0.0              1.0           0.0          121500.0    513000.0   \n",
       "\n",
       "   AMT_ANNUITY  AMT_GOODS_PRICE  NAME_TYPE_SUITE  NAME_INCOME_TYPE  \\\n",
       "0      24700.5         351000.0              6.0               7.0   \n",
       "1      35698.5        1129500.0              1.0               4.0   \n",
       "2       6750.0         135000.0              6.0               7.0   \n",
       "3      29686.5         297000.0              6.0               7.0   \n",
       "4      21865.5         513000.0              6.0               7.0   \n",
       "\n",
       "   NAME_EDUCATION_TYPE  ...  OCCUPATION_TYPE_Laborers  \\\n",
       "0                  1.0  ...                       1.0   \n",
       "1                  3.0  ...                       0.0   \n",
       "2                  1.0  ...                       1.0   \n",
       "3                  1.0  ...                       1.0   \n",
       "4                  1.0  ...                       0.0   \n",
       "\n",
       "   OCCUPATION_TYPE_Low-skill Laborers  OCCUPATION_TYPE_Managers  \\\n",
       "0                                 0.0                       0.0   \n",
       "1                                 0.0                       0.0   \n",
       "2                                 0.0                       0.0   \n",
       "3                                 0.0                       0.0   \n",
       "4                                 0.0                       0.0   \n",
       "\n",
       "   OCCUPATION_TYPE_Medicine staff  OCCUPATION_TYPE_Private service staff  \\\n",
       "0                             0.0                                    0.0   \n",
       "1                             0.0                                    0.0   \n",
       "2                             0.0                                    0.0   \n",
       "3                             0.0                                    0.0   \n",
       "4                             0.0                                    0.0   \n",
       "\n",
       "   OCCUPATION_TYPE_Realty agents  OCCUPATION_TYPE_Sales staff  \\\n",
       "0                            0.0                          0.0   \n",
       "1                            0.0                          0.0   \n",
       "2                            0.0                          0.0   \n",
       "3                            0.0                          0.0   \n",
       "4                            0.0                          0.0   \n",
       "\n",
       "   OCCUPATION_TYPE_Secretaries  OCCUPATION_TYPE_Security staff  \\\n",
       "0                          0.0                             0.0   \n",
       "1                          0.0                             0.0   \n",
       "2                          0.0                             0.0   \n",
       "3                          0.0                             0.0   \n",
       "4                          0.0                             0.0   \n",
       "\n",
       "   OCCUPATION_TYPE_Waiters/barmen staff  \n",
       "0                                   0.0  \n",
       "1                                   0.0  \n",
       "2                                   0.0  \n",
       "3                                   0.0  \n",
       "4                                   0.0  \n",
       "\n",
       "[5 rows x 87 columns]"
      ],
      "text/html": [
       "<div>\n",
       "<style scoped>\n",
       "    .dataframe tbody tr th:only-of-type {\n",
       "        vertical-align: middle;\n",
       "    }\n",
       "\n",
       "    .dataframe tbody tr th {\n",
       "        vertical-align: top;\n",
       "    }\n",
       "\n",
       "    .dataframe thead th {\n",
       "        text-align: right;\n",
       "    }\n",
       "</style>\n",
       "<table border=\"1\" class=\"dataframe\">\n",
       "  <thead>\n",
       "    <tr style=\"text-align: right;\">\n",
       "      <th></th>\n",
       "      <th>FLAG_OWN_CAR</th>\n",
       "      <th>FLAG_OWN_REALTY</th>\n",
       "      <th>CNT_CHILDREN</th>\n",
       "      <th>AMT_INCOME_TOTAL</th>\n",
       "      <th>AMT_CREDIT</th>\n",
       "      <th>AMT_ANNUITY</th>\n",
       "      <th>AMT_GOODS_PRICE</th>\n",
       "      <th>NAME_TYPE_SUITE</th>\n",
       "      <th>NAME_INCOME_TYPE</th>\n",
       "      <th>NAME_EDUCATION_TYPE</th>\n",
       "      <th>...</th>\n",
       "      <th>OCCUPATION_TYPE_Laborers</th>\n",
       "      <th>OCCUPATION_TYPE_Low-skill Laborers</th>\n",
       "      <th>OCCUPATION_TYPE_Managers</th>\n",
       "      <th>OCCUPATION_TYPE_Medicine staff</th>\n",
       "      <th>OCCUPATION_TYPE_Private service staff</th>\n",
       "      <th>OCCUPATION_TYPE_Realty agents</th>\n",
       "      <th>OCCUPATION_TYPE_Sales staff</th>\n",
       "      <th>OCCUPATION_TYPE_Secretaries</th>\n",
       "      <th>OCCUPATION_TYPE_Security staff</th>\n",
       "      <th>OCCUPATION_TYPE_Waiters/barmen staff</th>\n",
       "    </tr>\n",
       "  </thead>\n",
       "  <tbody>\n",
       "    <tr>\n",
       "      <th>0</th>\n",
       "      <td>0.0</td>\n",
       "      <td>1.0</td>\n",
       "      <td>0.0</td>\n",
       "      <td>202500.0</td>\n",
       "      <td>406597.5</td>\n",
       "      <td>24700.5</td>\n",
       "      <td>351000.0</td>\n",
       "      <td>6.0</td>\n",
       "      <td>7.0</td>\n",
       "      <td>1.0</td>\n",
       "      <td>...</td>\n",
       "      <td>1.0</td>\n",
       "      <td>0.0</td>\n",
       "      <td>0.0</td>\n",
       "      <td>0.0</td>\n",
       "      <td>0.0</td>\n",
       "      <td>0.0</td>\n",
       "      <td>0.0</td>\n",
       "      <td>0.0</td>\n",
       "      <td>0.0</td>\n",
       "      <td>0.0</td>\n",
       "    </tr>\n",
       "    <tr>\n",
       "      <th>1</th>\n",
       "      <td>0.0</td>\n",
       "      <td>0.0</td>\n",
       "      <td>0.0</td>\n",
       "      <td>270000.0</td>\n",
       "      <td>1293502.5</td>\n",
       "      <td>35698.5</td>\n",
       "      <td>1129500.0</td>\n",
       "      <td>1.0</td>\n",
       "      <td>4.0</td>\n",
       "      <td>3.0</td>\n",
       "      <td>...</td>\n",
       "      <td>0.0</td>\n",
       "      <td>0.0</td>\n",
       "      <td>0.0</td>\n",
       "      <td>0.0</td>\n",
       "      <td>0.0</td>\n",
       "      <td>0.0</td>\n",
       "      <td>0.0</td>\n",
       "      <td>0.0</td>\n",
       "      <td>0.0</td>\n",
       "      <td>0.0</td>\n",
       "    </tr>\n",
       "    <tr>\n",
       "      <th>2</th>\n",
       "      <td>1.0</td>\n",
       "      <td>1.0</td>\n",
       "      <td>0.0</td>\n",
       "      <td>67500.0</td>\n",
       "      <td>135000.0</td>\n",
       "      <td>6750.0</td>\n",
       "      <td>135000.0</td>\n",
       "      <td>6.0</td>\n",
       "      <td>7.0</td>\n",
       "      <td>1.0</td>\n",
       "      <td>...</td>\n",
       "      <td>1.0</td>\n",
       "      <td>0.0</td>\n",
       "      <td>0.0</td>\n",
       "      <td>0.0</td>\n",
       "      <td>0.0</td>\n",
       "      <td>0.0</td>\n",
       "      <td>0.0</td>\n",
       "      <td>0.0</td>\n",
       "      <td>0.0</td>\n",
       "      <td>0.0</td>\n",
       "    </tr>\n",
       "    <tr>\n",
       "      <th>3</th>\n",
       "      <td>0.0</td>\n",
       "      <td>1.0</td>\n",
       "      <td>0.0</td>\n",
       "      <td>135000.0</td>\n",
       "      <td>312682.5</td>\n",
       "      <td>29686.5</td>\n",
       "      <td>297000.0</td>\n",
       "      <td>6.0</td>\n",
       "      <td>7.0</td>\n",
       "      <td>1.0</td>\n",
       "      <td>...</td>\n",
       "      <td>1.0</td>\n",
       "      <td>0.0</td>\n",
       "      <td>0.0</td>\n",
       "      <td>0.0</td>\n",
       "      <td>0.0</td>\n",
       "      <td>0.0</td>\n",
       "      <td>0.0</td>\n",
       "      <td>0.0</td>\n",
       "      <td>0.0</td>\n",
       "      <td>0.0</td>\n",
       "    </tr>\n",
       "    <tr>\n",
       "      <th>4</th>\n",
       "      <td>0.0</td>\n",
       "      <td>1.0</td>\n",
       "      <td>0.0</td>\n",
       "      <td>121500.0</td>\n",
       "      <td>513000.0</td>\n",
       "      <td>21865.5</td>\n",
       "      <td>513000.0</td>\n",
       "      <td>6.0</td>\n",
       "      <td>7.0</td>\n",
       "      <td>1.0</td>\n",
       "      <td>...</td>\n",
       "      <td>0.0</td>\n",
       "      <td>0.0</td>\n",
       "      <td>0.0</td>\n",
       "      <td>0.0</td>\n",
       "      <td>0.0</td>\n",
       "      <td>0.0</td>\n",
       "      <td>0.0</td>\n",
       "      <td>0.0</td>\n",
       "      <td>0.0</td>\n",
       "      <td>0.0</td>\n",
       "    </tr>\n",
       "  </tbody>\n",
       "</table>\n",
       "<p>5 rows × 87 columns</p>\n",
       "</div>"
      ]
     },
     "execution_count": 3,
     "metadata": {},
     "output_type": "execute_result"
    }
   ],
   "execution_count": 3
  },
  {
   "metadata": {},
   "cell_type": "markdown",
   "source": "## Principal Component Analysis (PCA)",
   "id": "7893d66e7862ddec"
  },
  {
   "metadata": {},
   "cell_type": "markdown",
   "source": "### Creation of training and test sets",
   "id": "d25e8a37d57d4641"
  },
  {
   "metadata": {
    "ExecuteTime": {
     "end_time": "2024-11-02T18:58:49.216778Z",
     "start_time": "2024-11-02T18:58:48.936569Z"
    }
   },
   "cell_type": "code",
   "source": "x_train, x_test = train_test_split(df, test_size=0.2, random_state=42)",
   "id": "87d401bf0db0ac4",
   "outputs": [],
   "execution_count": 4
  },
  {
   "metadata": {},
   "cell_type": "markdown",
   "source": "### Standardizing data",
   "id": "8831cdbe1c680505"
  },
  {
   "metadata": {
    "ExecuteTime": {
     "end_time": "2024-11-02T18:58:53.666055Z",
     "start_time": "2024-11-02T18:58:52.961870Z"
    }
   },
   "cell_type": "code",
   "source": [
    "scaler = StandardScaler()\n",
    "scaler.fit(x_train)\n",
    "x_train_scaled = scaler.transform(x_train)\n",
    "x_test_scaled = scaler.transform(x_test)"
   ],
   "id": "be27f3a23e4d8400",
   "outputs": [],
   "execution_count": 5
  },
  {
   "metadata": {},
   "cell_type": "markdown",
   "source": "### PCA",
   "id": "a54175b6f5e72186"
  },
  {
   "metadata": {
    "ExecuteTime": {
     "end_time": "2024-11-02T18:58:55.769689Z",
     "start_time": "2024-11-02T18:58:55.564649Z"
    }
   },
   "cell_type": "code",
   "source": [
    "pca = PCA(0.95)\n",
    "pca.fit(x_train_scaled)\n",
    "pca.n_components_"
   ],
   "id": "1f99daf0d3febbf",
   "outputs": [
    {
     "data": {
      "text/plain": [
       "np.int64(70)"
      ]
     },
     "execution_count": 6,
     "metadata": {},
     "output_type": "execute_result"
    }
   ],
   "execution_count": 6
  },
  {
   "metadata": {
    "ExecuteTime": {
     "end_time": "2024-11-02T18:59:00.169600Z",
     "start_time": "2024-11-02T18:58:59.940892Z"
    }
   },
   "cell_type": "code",
   "source": [
    "# Explained variance\n",
    "explained_variance = pca.explained_variance_ratio_\n",
    "cumulative_variance = np.cumsum(explained_variance)\n",
    "\n",
    "# Plotting\n",
    "plt.figure(figsize=(10, 6))\n",
    "plt.plot(cumulative_variance, marker='o', linestyle='--')\n",
    "plt.title('Cumulative Explained Variance by PCA Components')\n",
    "plt.xlabel('Number of Components')\n",
    "plt.ylabel('Cumulative Explained Variance')\n",
    "plt.grid(True)\n",
    "plt.show()"
   ],
   "id": "30e2762048deefa4",
   "outputs": [
    {
     "data": {
      "text/plain": [
       "<Figure size 1000x600 with 1 Axes>"
      ],
      "image/png": "[encoded data removed]"
     },
     "metadata": {},
     "output_type": "display_data"
    }
   ],
   "execution_count": 7
  },
  {
   "metadata": {
    "ExecuteTime": {
     "end_time": "2024-11-02T18:53:03.183140Z",
     "start_time": "2024-11-02T18:53:02.861123Z"
    }
   },
   "cell_type": "code",
   "source": [
    "x_train_pca = pca.transform(x_train_scaled)\n",
    "x_test_pca = pca.transform(x_test_scaled)\n",
    "\n",
    "# Create df for PCA components\n",
    "pca_columns = [f'PC{i+1}' for i in range(pca.n_components_)]\n",
    "x_train_pca_df = pd.DataFrame(x_train_pca, columns=pca_columns)\n",
    "x_test_pca_df = pd.DataFrame(x_test_pca, columns=pca_columns)\n",
    "\n",
    "print(x_train_pca_df.head())\n",
    "print(x_test_pca_df.head())"
   ],
   "id": "e844d0ff713092aa",
   "outputs": [
    {
     "name": "stdout",
     "output_type": "stream",
     "text": [
      "        PC1       PC2       PC3       PC4       PC5       PC6       PC7  \\\n",
      "0 -0.393879 -0.800066 -0.038506  1.155329 -0.722676  0.075906 -1.189398   \n",
      "1 -0.173427  1.826099  1.034000  0.293528 -0.755822  1.097151 -1.752485   \n",
      "2  1.785422 -0.839829  0.686531 -0.398778 -1.424537 -1.702615  2.390922   \n",
      "3  1.231313  1.828627  0.238730  0.765041 -0.527766 -1.744928 -2.471116   \n",
      "4  3.799825  8.305147  0.260432 -0.337084 -0.575622  0.728044 -4.103387   \n",
      "\n",
      "        PC8       PC9      PC10  ...      PC61      PC62      PC63      PC64  \\\n",
      "0  1.069151  1.247516  0.134900  ...  1.070045 -1.136908  0.055429 -1.489631   \n",
      "1  0.043467  1.042990  0.755397  ...  0.721220  0.829733 -1.017672 -1.036305   \n",
      "2  0.477675 -0.067476  0.535283  ... -0.006113  1.873261 -0.177621  0.269428   \n",
      "3  0.181741  0.317593 -0.062718  ...  1.372874 -0.065748  0.456852  0.646036   \n",
      "4  0.778734 -2.579151 -1.560990  ... -0.857452 -0.466273 -2.070308  1.082178   \n",
      "\n",
      "       PC65      PC66      PC67      PC68      PC69      PC70  \n",
      "0  0.008553  0.406856  1.274467 -0.677240  0.558821 -0.393784  \n",
      "1  0.401637 -0.256862 -0.684897  0.374696 -1.905148 -0.343968  \n",
      "2  0.025830  0.274058 -0.376143  0.367482  1.674945  0.220046  \n",
      "3  0.298770 -0.327984 -2.430739 -0.320040  0.384447 -0.232632  \n",
      "4  0.831284  0.204829  2.201422  0.521202  1.084233  0.998760  \n",
      "\n",
      "[5 rows x 70 columns]\n",
      "        PC1       PC2       PC3       PC4       PC5       PC6       PC7  \\\n",
      "0  1.509498 -1.719290  0.003453 -0.636578 -2.594078 -0.677496  1.299096   \n",
      "1  0.155823 -0.744920 -0.845033 -0.801571 -1.306886  0.464982 -0.771834   \n",
      "2  3.382480  3.485476 -2.296500  1.314718  0.586362 -1.684540 -1.711204   \n",
      "3  2.453382  3.758423 -1.633940  0.863384 -1.067821  0.946433  1.459300   \n",
      "4 -0.252257 -0.251801  0.033348 -1.236010 -1.313491  1.345881  0.128124   \n",
      "\n",
      "        PC8       PC9      PC10  ...      PC61      PC62      PC63      PC64  \\\n",
      "0 -2.198104  0.370738 -0.412313  ... -0.890712  0.742110 -1.029231 -0.004932   \n",
      "1 -0.764642  0.228245 -0.098728  ...  0.774433  0.952454  0.334291 -0.712827   \n",
      "2 -0.107301 -1.360119 -2.396130  ...  0.496937  1.046935 -0.465599 -1.964935   \n",
      "3  2.299239 -1.436166  0.405595  ... -1.370171 -0.040622  0.557779  0.065330   \n",
      "4 -0.121636  0.016843  1.176396  ...  0.191332 -1.025091 -0.573847 -0.292862   \n",
      "\n",
      "       PC65      PC66      PC67      PC68      PC69      PC70  \n",
      "0 -0.857053  0.094651  0.646217 -0.678589  0.158124  0.406005  \n",
      "1  0.807610 -0.146016 -1.514483  0.551981  0.256884  0.021042  \n",
      "2  0.365330  0.131101 -0.623349  0.465410  0.791984 -1.686392  \n",
      "3 -1.292068  0.249735  0.631980 -1.021684  1.174373  1.303321  \n",
      "4  0.082223  0.147764  0.241605 -0.713737  0.129591 -0.238474  \n",
      "\n",
      "[5 rows x 70 columns]\n"
     ]
    }
   ],
   "execution_count": 8
  }
 ],
 "metadata": {
  "kernelspec": {
   "display_name": "Python 3",
   "language": "python",
   "name": "python3"
  },
  "language_info": {
   "codemirror_mode": {
    "name": "ipython",
    "version": 2
   },
   "file_extension": ".py",
   "mimetype": "text/x-python",
   "name": "python",
   "nbconvert_exporter": "python",
   "pygments_lexer": "ipython2",
   "version": "2.7.6"
  }
 },
 "nbformat": 4,
 "nbformat_minor": 5
}
